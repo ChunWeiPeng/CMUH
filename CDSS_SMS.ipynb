{
 "cells": [
  {
   "cell_type": "code",
   "execution_count": 1,
   "metadata": {},
   "outputs": [],
   "source": [
    "import numpy as np\n",
    "import pandas as pd\n",
    "from datetime import date"
   ]
  },
  {
   "cell_type": "code",
   "execution_count": 2,
   "metadata": {},
   "outputs": [
    {
     "name": "stderr",
     "output_type": "stream",
     "text": [
      "C:\\Users\\User\\AppData\\Local\\Temp\\ipykernel_11816\\3600871067.py:1: DtypeWarning: Columns (9,14,19,32,38,42,43,45,46,48,49,50) have mixed types. Specify dtype option on import or set low_memory=False.\n",
      "  RAW = pd.read_csv(r'C:\\Users\\User\\VSCode\\CDSS\\source\\Clean\\CDSS_Row_1110609.csv', dtype={'病歷號碼':'str'}, sep=',')\n"
     ]
    }
   ],
   "source": [
    "RAW = pd.read_csv(r'C:\\Users\\User\\VSCode\\CDSS\\source\\Clean\\CDSS_Row_1110609.csv', dtype={'病歷號碼':'str'}, sep=',')"
   ]
  },
  {
   "cell_type": "code",
   "execution_count": 3,
   "metadata": {},
   "outputs": [],
   "source": [
    "RAW = RAW.drop_duplicates()"
   ]
  },
  {
   "cell_type": "code",
   "execution_count": 4,
   "metadata": {},
   "outputs": [
    {
     "data": {
      "text/plain": [
       "Index(['表單號', '住院號', '申請編號', '病歷號碼', '生日(年月日)', '主診斷1', '診斷2', '診斷3', '診斷4',\n",
       "       '診斷5', '開單醫師', '開單科別', '病房', '住院日', '出院日', '申請日', '採檢日', '簽收日', '報告日',\n",
       "       '項目代碼', '項目名稱', '來源', '檢體', '菌名', 'strain', 'bed', '檢驗部收到時間', '發報告時間',\n",
       "       '參考值', 'Lab_檢驗日期', 'Lab_報告日期', 'Lab_檢驗項目', 'Lab_檢驗值', 'Lab_表單號',\n",
       "       'Lab_申請號', '床號', '性別', '体重', '死亡日期', '時間', 'ICU', '就醫序號', 'openTime',\n",
       "       '菌株', '預測值', '說明', 'sendTime', 'fileName', 'miniTime_Open', 'PredLevel',\n",
       "       'Group_Germ'],\n",
       "      dtype='object')"
      ]
     },
     "execution_count": 4,
     "metadata": {},
     "output_type": "execute_result"
    }
   ],
   "source": [
    "RAW.columns"
   ]
  },
  {
   "cell_type": "code",
   "execution_count": 5,
   "metadata": {},
   "outputs": [
    {
     "name": "stdout",
     "output_type": "stream",
     "text": [
      "住院號     8238\n",
      "病歷號碼    8238\n",
      "dtype: int64\n",
      "\n"
     ]
    },
    {
     "data": {
      "text/plain": [
       "住院號     733\n",
       "病歷號碼    733\n",
       "dtype: int64"
      ]
     },
     "execution_count": 5,
     "metadata": {},
     "output_type": "execute_result"
    }
   ],
   "source": [
    "print(RAW[['住院號', '病歷號碼']].drop_duplicates().count())\n",
    "print()\n",
    "RAW[RAW['菌名'].str.contains('MRSA')][['住院號', '病歷號碼']].drop_duplicates().count()"
   ]
  },
  {
   "cell_type": "code",
   "execution_count": 4,
   "metadata": {},
   "outputs": [],
   "source": [
    "RAW = RAW[RAW['菌株'].notna()]\n",
    "RAW_SA = RAW[RAW['菌株'].str.contains('Staphylococcus aureus')].drop_duplicates()\n",
    "RAW_SA = RAW_SA[['住院號', '病歷號碼', '菌株', '採檢日', '報告日', 'sendTime']].drop_duplicates()\n",
    "RAW_SA.採檢日 = pd.to_datetime(RAW_SA.採檢日)\n",
    "RAW_SA.報告日 = pd.to_datetime(RAW_SA.報告日)\n",
    "RAW_SA.sendTime = pd.to_datetime(RAW_SA.sendTime)"
   ]
  },
  {
   "cell_type": "code",
   "execution_count": 6,
   "metadata": {},
   "outputs": [],
   "source": [
    "SMS = pd.read_excel(r'C:\\Users\\User\\VSCode\\CDSS\\source\\簡訊通知時間(0301-0531)給鈞威.xls', dtype={'病歷號_10碼':'str'})\n",
    "\n",
    "# SMS = SMS[['病歷號_10碼', '西元採檢日', '簡訊通知日期_西元', '護理站', '床號', '檢體', '菌株', '預測值(%)', '實際報告']]\n",
    "SMS.rename(columns = {'病歷號_10碼':'病歷號碼'}, inplace = True)\n",
    "SMS.西元採檢日 = pd.to_datetime(SMS.西元採檢日.astype('str'))\n",
    "SMS.簡訊通知日期_西元 = pd.to_datetime(SMS.簡訊通知日期_西元.astype('str'))\n",
    "SMS_SA = SMS[SMS['菌株'].str.contains('MRSA')].drop_duplicates()"
   ]
  },
  {
   "cell_type": "code",
   "execution_count": 6,
   "metadata": {},
   "outputs": [],
   "source": [
    "SMS_list = pd.merge(RAW_SA, SMS_SA[['病歷號碼', '西元採檢日', '簡訊通知日期_西元']], how='left', on='病歷號碼').drop_duplicates()\n",
    "SMS_list = SMS_list[(SMS_list.西元採檢日.notna())]\n",
    "SMS_list.sendTime = SMS_list.sendTime.dt.date\n",
    "\n",
    "SMS_list = SMS_list[(SMS_list.簡訊通知日期_西元 >= SMS_list.採檢日) & (SMS_list.簡訊通知日期_西元 <= SMS_list.報告日) & (SMS_list.簡訊通知日期_西元 >= SMS_list.sendTime)].drop_duplicates()\n",
    "SMS_list['SMS'] = 1"
   ]
  },
  {
   "cell_type": "code",
   "execution_count": 7,
   "metadata": {},
   "outputs": [],
   "source": [
    "SMS_list = SMS_list[['住院號', '病歷號碼', 'SMS']].drop_duplicates()"
   ]
  },
  {
   "cell_type": "code",
   "execution_count": 8,
   "metadata": {},
   "outputs": [],
   "source": [
    "SA = pd.read_excel(r'C:\\Users\\User\\VSCode\\CDSS\\source\\Clean\\SA_TableOne_Data_0623(MRSA、MSSA).xlsx', dtype={'病歷號碼':'str'})\n"
   ]
  },
  {
   "cell_type": "code",
   "execution_count": 9,
   "metadata": {},
   "outputs": [],
   "source": [
    "SA_SMS = pd.merge(SA, SMS_list, how='left', on=['住院號', '病歷號碼'])\n",
    "SA_SMS.SMS = np.where(SA_SMS.SMS==1, 1, 0)"
   ]
  },
  {
   "cell_type": "code",
   "execution_count": 11,
   "metadata": {},
   "outputs": [],
   "source": [
    "SA_SMS.to_excel(r'C:\\Users\\User\\VSCode\\CDSS\\output\\SA_TableOne_Data_0623_SMS(MRSA、MSSA).xlsx', index=False)"
   ]
  },
  {
   "cell_type": "code",
   "execution_count": null,
   "metadata": {},
   "outputs": [],
   "source": []
  }
 ],
 "metadata": {
  "kernelspec": {
   "display_name": "Python 3.8.6 64-bit",
   "language": "python",
   "name": "python3"
  },
  "language_info": {
   "codemirror_mode": {
    "name": "ipython",
    "version": 3
   },
   "file_extension": ".py",
   "mimetype": "text/x-python",
   "name": "python",
   "nbconvert_exporter": "python",
   "pygments_lexer": "ipython3",
   "version": "3.8.6"
  },
  "orig_nbformat": 4,
  "vscode": {
   "interpreter": {
    "hash": "f544ce1a915a9875fad91c894e2c0bcad4b7a79945aa6027ef3ad27810072aa6"
   }
  }
 },
 "nbformat": 4,
 "nbformat_minor": 2
}
