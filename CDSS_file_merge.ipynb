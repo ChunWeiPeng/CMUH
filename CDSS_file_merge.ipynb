{
 "cells": [
  {
   "cell_type": "code",
   "execution_count": 1,
   "metadata": {},
   "outputs": [],
   "source": [
    "import numpy as np\n",
    "import pandas as pd\n",
    "from datetime import datetime\n",
    "from datetime import date"
   ]
  },
  {
   "cell_type": "markdown",
   "metadata": {},
   "source": [
    "Data Loading"
   ]
  },
  {
   "cell_type": "code",
   "execution_count": 2,
   "metadata": {},
   "outputs": [],
   "source": [
    "\n",
    "def load_data(file):\n",
    "    mdro = pd.read_excel(file, sheet_name='MDROs', \n",
    "                        dtype={'病歷號碼':'str', '申請編號':'int', '就醫序號':'int'})\n",
    "    report = pd.read_excel(file, sheet_name='微生物報告', \n",
    "                        dtype={'病歷號碼':'str', '申請編號':'int', '就醫序號':'int'})\n",
    "    info = pd.read_excel(file, sheet_name='就醫資訊', \n",
    "                        dtype={'病歷號碼':'str', '就醫序號':'int'})\n",
    "    anti = pd.read_excel(file, sheet_name='抗生素使用', \n",
    "                        dtype={'病歷號碼':'str', '就醫序號':'int'})\n",
    "    examValue = pd.read_excel(file, sheet_name='檢驗數值', \n",
    "                        dtype={'病歷號碼':'str', '就醫序號':'int'})\n",
    "    \n",
    "    # data processing \n",
    "    mdro = mdro[['病歷號碼', 'time', '就醫序號','申請編號', '菌株', '預測值', '部位', 'sendTime']]\n",
    "    mdro.rename({'time':'openTime'}, axis=1, inplace=True)\n",
    "    \n",
    "    report = report[['病歷號碼', 'bed', '就醫序號','申請編號', 'strain','部位', '抗藥性菌株', 'examTime','reportTime']]\n",
    "    \n",
    "    cdss = pd.merge(report, mdro, how='left', on=['病歷號碼', '就醫序號','申請編號', '部位'])\n",
    "    cdss = cdss.drop_duplicates()\n",
    "    cdss['minTime'] = cdss.groupby(['病歷號碼', 'bed','就醫序號', '申請編號', '部位', '菌株', '預測值',  'sendTime'])['openTime'].transform('min')\n",
    "    \n",
    "    info = info[['病歷號碼', '就醫序號', '性別', '生日', '年齡', '來院日期', '離院日期', '天數', '門急住', '科別代碼', '科別']]\n",
    "    info.rename({'門急住':'bed'}, axis=1, inplace=True)\n",
    "    \n",
    "    cdss_info = pd.merge(cdss, info, how='left', on=['病歷號碼', '就醫序號', 'bed'])\n",
    "    cdss_info = cdss_info.drop_duplicates()\n",
    "    \n",
    "    CDSS = pd.merge(cdss_info, anti, how='left', on=['病歷號碼','就醫序號'])\n",
    "    CDSS = CDSS.drop_duplicates()\n",
    "    \n",
    "    \n",
    "    return CDSS\n",
    "    "
   ]
  },
  {
   "cell_type": "code",
   "execution_count": 4,
   "metadata": {},
   "outputs": [],
   "source": [
    "# 智抗菌平台報表_20220331.xlsx\n",
    "\n",
    "file = r'C:\\Users\\User\\VSCode\\智抗菌平台報表_20220331.xlsx'\n",
    "CDSS = load_data(file)\n",
    "# CDSS.head(10)"
   ]
  },
  {
   "cell_type": "code",
   "execution_count": null,
   "metadata": {},
   "outputs": [],
   "source": [
    "CDSS_old = pd.read_excel(r'C:\\Users\\User\\VSCode\\CDSS(2022).xlsx')\n",
    "CDSS = pd.concat([CDSS_old, CDSS])\n",
    "CDSS = CDSS.drop_duplicates()"
   ]
  }
 ],
 "metadata": {
  "interpreter": {
   "hash": "5c0372ed38b372118c24adb00d45654d76c8d10261533c5724e3f5fc1d75489a"
  },
  "kernelspec": {
   "display_name": "Python 3.8.6 64-bit",
   "language": "python",
   "name": "python3"
  },
  "language_info": {
   "codemirror_mode": {
    "name": "ipython",
    "version": 3
   },
   "file_extension": ".py",
   "mimetype": "text/x-python",
   "name": "python",
   "nbconvert_exporter": "python",
   "pygments_lexer": "ipython3",
   "version": "3.8.6"
  },
  "orig_nbformat": 4
 },
 "nbformat": 4,
 "nbformat_minor": 2
}
