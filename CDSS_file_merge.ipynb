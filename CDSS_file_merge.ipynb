{
 "cells": [
  {
   "cell_type": "code",
   "execution_count": 1,
   "metadata": {},
   "outputs": [],
   "source": [
    "import numpy as np\n",
    "import pandas as pd\n",
    "from datetime import datetime\n",
    "from datetime import date"
   ]
  },
  {
   "cell_type": "markdown",
   "metadata": {},
   "source": [
    "Data Loading"
   ]
  },
  {
   "cell_type": "code",
   "execution_count": 22,
   "metadata": {},
   "outputs": [],
   "source": [
    "\n",
    "def load_data(file):\n",
    "    mdro = pd.read_excel(file, sheet_name='MDROs', \n",
    "                        dtype={'病歷號碼':'str', '申請編號':'int', '就醫序號':'int'})\n",
    "    report = pd.read_excel(file, sheet_name='微生物報告', \n",
    "                        dtype={'病歷號碼':'str', '申請編號':'int', '就醫序號':'int'})\n",
    "    info = pd.read_excel(file, sheet_name='就醫資訊', \n",
    "                        dtype={'病歷號碼':'str', '就醫序號':'int'})\n",
    "    # anti = pd.read_excel(file, sheet_name='抗生素使用', \n",
    "    #                     dtype={'病歷號碼':'str', '就醫序號':'int'})\n",
    "    examValue = pd.read_excel(file, sheet_name='檢驗數值', \n",
    "                        dtype={'病歷號碼':'str', '就醫序號':'int'})\n",
    "    \n",
    "    # data processing \n",
    "    mdro = mdro[['病歷號碼', 'time', '就醫序號','申請編號', '菌株', '預測值', '部位', 'sendTime']]\n",
    "    mdro.rename({'time':'openTime'}, axis=1, inplace=True)\n",
    "    \n",
    "    report = report[['病歷號碼', 'bed', '就醫序號','申請編號', 'strain','部位', '抗藥性菌株', 'examTime','reportTime']]\n",
    "    \n",
    "    cdss = pd.merge(report, mdro, how='left', on=['病歷號碼', '就醫序號','申請編號', '部位'])\n",
    "    cdss = cdss.drop_duplicates()\n",
    "    cdss['miniTime_Open'] = cdss.groupby(['病歷號碼', 'bed','就醫序號', '申請編號', '部位', '菌株', '預測值',  'sendTime'])['openTime'].transform('min')\n",
    "    \n",
    "    info = info[['病歷號碼', '就醫序號', '性別', '生日', '年齡', '來院日期', '離院日期', '天數', '門急住', '科別代碼', '科別']]\n",
    "    info.rename({'門急住':'bed'}, axis=1, inplace=True)\n",
    "    \n",
    "    cdss_info = pd.merge(cdss, info, how='left', on=['病歷號碼', '就醫序號', 'bed'])\n",
    "    \n",
    "    # Filtering mini open CDSS time\n",
    "    CDSS = cdss_info[cdss_info.openTime==cdss_info.miniTime_Open].drop_duplicates()\n",
    "    \n",
    "    # Add column : max time leaving hospital\n",
    "    CDSS.離院日期 = pd.to_datetime(CDSS.離院日期).dt.date\n",
    "    CDSS['MaxTime_leave'] = CDSS.groupby(['病歷號碼', 'bed','就醫序號', '申請編號', '部位', '菌株', '預測值', 'sendTime', '來院日期'])['離院日期'].transform('max')\n",
    "    # CDSS = pd.merge(cdss_info, anti, how='left', on=['病歷號碼','就醫序號'])\n",
    "    # CDSS = CDSS.drop_duplicates()\n",
    "    \n",
    "    # Predict Level\n",
    "    condition_1 = [(CDSS['預測值'] <= 20), (CDSS['預測值'] > 20)&(CDSS['預測值'] <= 40), \n",
    "             (CDSS['預測值'] > 40)&(CDSS['預測值'] <= 60), (CDSS['預測值'] > 60)&(CDSS['預測值'] <= 80),\n",
    "             (CDSS['預測值'] > 80)&(CDSS['預測值'] <= 100)]\n",
    "\n",
    "    value_1 = ['0~20%', '21~40%', '41~60%', '61~80%', '81~100%']\n",
    "    CDSS['PredLevel'] = np.select(condition_1, value_1) \n",
    "    \n",
    "    # Stain Category\n",
    "    condition_2 =[\n",
    "                  (CDSS['菌株'].str.contains('Enterococcus')),\n",
    "                  (CDSS['菌株'].str.contains('Morganella morganii')),\n",
    "                  (CDSS['菌株'].str.contains('Klebsiella pneumoniae')),\n",
    "                  (CDSS['菌株'].str.contains('Pseudomonas aeruginosa')),\n",
    "                  (CDSS['菌株'].str.contains('Escherichia coli')),\n",
    "                  (CDSS['菌株'].str.contains('Acinetobacter baumannii')),\n",
    "                  (CDSS['菌株'].str.contains('Staphylococcus aureus')),\n",
    "                  (CDSS['菌株'].str.contains('Enterobacter cloacae'))\n",
    "                ]\n",
    "    \n",
    "    value_2 = ['Enterococcus faecium', 'Morganella morganii', 'Klebsiella pneumoniae', 'Pseudomonas aeruginosa',\n",
    "               'Escherichia coli', 'Acinetobacter baumannii', 'Staphylococcus aureus', 'Enterobacter cloacae']\n",
    "    \n",
    "    CDSS['Group_Strain'] = np.select(condition_2, value_2) \n",
    "    \n",
    "    # exam Year & Month\n",
    "    CDSS[\"examDate\"] = pd.to_datetime( \n",
    "                                  pd.to_datetime(CDSS.examTime).dt.year.map(str) + '-' + \\\n",
    "                                  pd.to_datetime(CDSS.examTime).dt.month.map(str) + '-' + \\\n",
    "                                  pd.to_datetime(CDSS.examTime).dt.day.map(str)\n",
    "                                )\n",
    "    \n",
    "    CDSS['Resist_bool'] = np.where(CDSS['抗藥性菌株']==1, True, False)\n",
    "    CDSS.rename({'年齡':'Age', '預測值':'PredValue'}, axis=1, inplace=True)\n",
    "    \n",
    "    return CDSS\n",
    "    "
   ]
  },
  {
   "cell_type": "code",
   "execution_count": 26,
   "metadata": {},
   "outputs": [],
   "source": [
    "# 智抗菌平台報表_20220331.xlsx\n",
    "\n",
    "file = r'C:\\Users\\User\\VSCODE\\CDSS\\source\\資訊室\\智抗菌平台報表_20220610.xlsx'\n",
    "# file = r'C:\\Users\\User\\VSCode\\CDSS\\output\\智抗菌平台報表_20220502.xlsx'\n",
    "CDSS = load_data(file)\n",
    "# CDSS.head(10)\n",
    "\n",
    "file_1 = r'C:\\Users\\User\\VSCODE\\CDSS\\source\\資訊室\\智抗菌平台報表_20220502.xlsx'\n",
    "\n",
    "CDSS_1 = load_data(file_1)"
   ]
  },
  {
   "cell_type": "code",
   "execution_count": 27,
   "metadata": {},
   "outputs": [
    {
     "name": "stderr",
     "output_type": "stream",
     "text": [
      "c:\\Users\\User\\AppData\\Local\\Programs\\Python\\Python38\\lib\\site-packages\\pandas\\core\\algorithms.py:560: FutureWarning: Comparison of Timestamp with datetime.date is deprecated in order to match the standard library behavior. In a future version these will be considered non-comparable. Use 'ts == pd.Timestamp(date)' or 'ts.date() == date' instead.\n",
      "  uniques, codes = table.factorize(\n"
     ]
    }
   ],
   "source": [
    "old_file = r'C:\\Users\\User\\VSCODE\\CDSS\\source\\Clean\\CDSS_0502.xlsx'\n",
    "\n",
    "CDSS_old = pd.read_excel(old_file, dtype={'病歷號碼':'str', '申請編號':'int', '就醫序號':'int'})\n",
    "\n",
    "CDSS = pd.concat([CDSS_old, CDSS, CDSS_1])\n",
    "\n",
    "# Filter Fault Time\n",
    "CDSS['sendTime'] = pd.to_datetime(CDSS['sendTime'])\n",
    "# CDSS = CDSS[(CDSS['sendTime'] < pd.to_datetime('2022-03-07 00:00')) | (CDSS['sendTime'] > pd.to_datetime('2022-03-21 23:59'))]\n",
    "\n",
    "CDSS = CDSS.drop_duplicates().sort_values(['病歷號碼', '申請編號', 'examTime']).reset_index(drop=True)"
   ]
  },
  {
   "cell_type": "code",
   "execution_count": 28,
   "metadata": {},
   "outputs": [],
   "source": [
    "# Output File\n",
    "# CDSS.to_excel(r'C:\\Users\\User\\VSCode\\CDSS_report_mdro_info.xlsx')\n",
    "# CDSS.to_excel(r'C:\\Users\\User\\VSCode\\CDSS\\output\\CDSS_0628.xlsx', index=False)"
   ]
  },
  {
   "cell_type": "code",
   "execution_count": 14,
   "metadata": {},
   "outputs": [
    {
     "name": "stdout",
     "output_type": "stream",
     "text": [
      "Index(['病歷號碼', 'bed', '就醫序號', '申請編號', 'strain', '部位', '抗藥性菌株', 'examTime',\n",
      "       'reportTime', 'openTime', '菌株', 'PredValue', 'sendTime',\n",
      "       'miniTime_Open', '性別', '生日', 'Age', '來院日期', '離院日期', '天數', '科別代碼', '科別',\n",
      "       'MaxTime_leave', 'PredLevel', 'Group_Strain', 'examDate',\n",
      "       'Resist_bool'],\n",
      "      dtype='object')\n",
      "Index(['病歷號碼', '就醫序號', '性別', '生日', '年齡', '來院日期', '離院日期', '天數', '門急住', '科別代碼',\n",
      "       '科別', '護理站', '床號'],\n",
      "      dtype='object')\n"
     ]
    }
   ],
   "source": [
    "print(CDSS.columns)\n",
    "\n",
    "print(CDSS_old.columns)"
   ]
  },
  {
   "cell_type": "code",
   "execution_count": 2,
   "metadata": {},
   "outputs": [],
   "source": [
    "mdro = pd.read_excel(r'C:\\Users\\User\\VSCode\\CDSS\\source\\智抗菌平台報表_20220331.xlsx', sheet_name='MDROs', \n",
    "                        dtype={'病歷號碼':'str', '申請編號':'int', '就醫序號':'int'})\n",
    "\n",
    "report = pd.read_excel(r'C:\\Users\\User\\VSCode\\CDSS\\source\\智抗菌平台報表_20220331.xlsx', sheet_name='微生物報告', \n",
    "                        dtype={'病歷號碼':'str', '申請編號':'int', '就醫序號':'int'})\n",
    "\n",
    "info = pd.read_excel(r'C:\\Users\\User\\VSCode\\CDSS\\source\\智抗菌平台報表_20220331.xlsx', sheet_name='就醫資訊', \n",
    "                        dtype={'病歷號碼':'str', '就醫序號':'int'})"
   ]
  },
  {
   "cell_type": "code",
   "execution_count": 47,
   "metadata": {},
   "outputs": [],
   "source": [
    "mdro = mdro[['病歷號碼', 'time', '申請編號', '菌株', '預測值', '部位', 'sendTime']]\n",
    "mdro.rename({'time':'openTime'}, axis=1, inplace=True)\n",
    "    \n",
    "report = report[['病歷號碼', 'bed', '申請編號', 'strain','部位', '抗藥性菌株', 'examTime','reportTime']]\n",
    "\n",
    "cdss = pd.merge(report, mdro, how='left', on=['病歷號碼','申請編號', '部位'])\n",
    "cdss = cdss.drop_duplicates()\n",
    "cdss = cdss[(cdss.bed=='急診') | (cdss.bed=='住院')]\n",
    "\n",
    "cdss['miniTime_Open'] = cdss.groupby(['病歷號碼', 'bed', '申請編號', '部位', '菌株', '預測值',  'sendTime'])['openTime'].transform('min')\n",
    "\n",
    "info = info[['病歷號碼', '性別', '生日', '年齡', '來院日期', '離院日期', '天數', '門急住', '科別代碼', '科別']]\n",
    "info.rename({'門急住':'bed'}, axis=1, inplace=True)\n",
    "\n",
    "cdss_info = pd.merge(cdss, info, how='left', on=['病歷號碼'])\n",
    "\n",
    " # Filtering mini open CDSS time\n",
    "CDSS = cdss_info[cdss_info.openTime==cdss_info.miniTime_Open].drop_duplicates()\n",
    "\n",
    "# Add column : max time leaving hospital\n",
    "CDSS.離院日期 = pd.to_datetime(CDSS.離院日期).dt.date\n",
    "# CDSS['MaxTime_leave'] = CDSS.groupby(['病歷號碼', 'bed', '申請編號', '部位', '菌株', '預測值', 'sendTime', '來院日期'])['離院日期'].transform('max')\n",
    "# # CDSS = pd.merge(cdss_info, anti, how='left', on=['病歷號碼','就醫序號'])\n",
    "# # CDSS = CDSS.drop_duplicates()\n",
    "\n",
    "# # Predict Level\n",
    "# condition_1 = [(CDSS['預測值'] <= 20), (CDSS['預測值'] > 20)&(CDSS['預測值'] <= 40), \n",
    "#           (CDSS['預測值'] > 40)&(CDSS['預測值'] <= 60), (CDSS['預測值'] > 60)&(CDSS['預測值'] <= 80),\n",
    "#           (CDSS['預測值'] > 80)&(CDSS['預測值'] <= 100)]\n",
    "\n",
    "# value_1 = ['0~20%', '21~40%', '41~60%', '61~80%', '81~100%']\n",
    "# CDSS['PredLevel'] = np.select(condition_1, value_1) \n",
    "\n",
    "# # Stain Category\n",
    "# condition_2 =[\n",
    "#               (CDSS['菌株'].isin(['Enterococcus faecium(VRE)', 'Enterococcus faecium', 'Enterococcus faecalis'])),\n",
    "#               (CDSS['菌株'].isin(['Morganella morganii'])),\n",
    "#               (CDSS['菌株'].isin(['Klebsiella pneumoniae'])),\n",
    "#               (CDSS['菌株'].isin(['Pseudomonas aeruginosa'])),\n",
    "#               (CDSS['菌株'].isin(['Escherichia coli'])),\n",
    "#               (CDSS['菌株'].isin(['Acinetobacter baumannii', 'Acinetobacter baumannii/calcoaceticus complex'])),\n",
    "#               (CDSS['菌株'].isin(['Staphylococcus aureus', 'Staphylococcus aureus(MRSA)'])),\n",
    "#               (CDSS['菌株'].isin(['Enterobacter cloacae']))\n",
    "#             ]\n",
    "\n",
    "# value_2 = ['Enterococcus faecium', 'Morganella morganii', 'Klebsiella pneumoniae', 'Pseudomonas aeruginosa',\n",
    "#             'Escherichia coli', 'Acinetobacter baumannii', 'Staphylococcus aureus', 'Enterobacter cloacae']\n",
    "\n",
    "# CDSS['Group_Strain'] = np.select(condition_2, value_2)\n",
    "\n",
    "# # exam Year & Month\n",
    "# CDSS[\"examDate\"] = pd.to_datetime( \n",
    "#                               pd.to_datetime(CDSS.examTime).dt.year.map(str) + '-' + \\\n",
    "#                               pd.to_datetime(CDSS.examTime).dt.month.map(str) + '-' + \\\n",
    "#                               pd.to_datetime(CDSS.examTime).dt.day.map(str)\n",
    "#                             )\n",
    "\n",
    "# CDSS['Resist_bool'] = np.where(CDSS['抗藥性菌株']==1, True, False)\n",
    "# CDSS.rename({'年齡':'Age', '預測值':'PredValue'}, axis=1, inplace=True)\n"
   ]
  },
  {
   "cell_type": "code",
   "execution_count": null,
   "metadata": {},
   "outputs": [],
   "source": []
  },
  {
   "cell_type": "markdown",
   "metadata": {},
   "source": [
    "CDSS_2022_05_26"
   ]
  },
  {
   "cell_type": "code",
   "execution_count": 16,
   "metadata": {},
   "outputs": [],
   "source": [
    "mdro_1 = pd.read_excel(r'C:\\Users\\User\\VSCode\\CDSS\\source\\資訊室\\智抗菌平台報表_20220210.xlsx', sheet_name='MDROs', \n",
    "                        dtype={'病歷號碼':'str', '申請編號':'int', '就醫序號':'int'})\n",
    "\n",
    "mdro_2 = pd.read_excel(r'C:\\Users\\User\\VSCode\\CDSS\\source\\資訊室\\智抗菌平台報表_20220309.xlsx', sheet_name='MDROs', \n",
    "                        dtype={'病歷號碼':'str', '申請編號':'int', '就醫序號':'int'})\n",
    "\n",
    "mdro_3 = pd.read_excel(r'C:\\Users\\User\\VSCode\\CDSS\\source\\資訊室\\智抗菌平台報表_20220331.xlsx', sheet_name='MDROs', \n",
    "                        dtype={'病歷號碼':'str', '申請編號':'int', '就醫序號':'int'})\n",
    "\n",
    "mdro_4 = pd.read_excel(r'C:\\Users\\User\\VSCode\\CDSS\\source\\資訊室\\智抗菌平台報表_20220502.xlsx', sheet_name='MDROs', \n",
    "                        dtype={'病歷號碼':'str', '申請編號':'int', '就醫序號':'int'})\n",
    "\n",
    "mdro_5 = pd.read_excel(r'C:\\Users\\User\\VSCode\\CDSS\\source\\資訊室\\智抗菌平台報表_20220610.xlsx', sheet_name='MDROs', \n",
    "                        dtype={'病歷號碼':'str', '申請編號':'int', '就醫序號':'int'})\n",
    "\n"
   ]
  },
  {
   "cell_type": "code",
   "execution_count": 17,
   "metadata": {},
   "outputs": [],
   "source": [
    "mdro = pd.concat([mdro_1, mdro_2, mdro_3, mdro_4, mdro_5]).drop_duplicates().sort_values(['病歷號碼', 'time', '申請編號']).reset_index(drop=True)\n",
    "mdro.rename({'time':'openTime'}, axis=1, inplace=True)\n",
    "\n",
    "# mdro_SA = mdro[mdro['菌株'].str.contains('Staphylococcus aureus')]\n",
    "mdro['miniTime_Open'] = mdro.groupby(['病歷號碼', '申請編號', '部位', '菌株', '預測值',  'sendTime'])['openTime'].transform('min')"
   ]
  },
  {
   "cell_type": "code",
   "execution_count": 18,
   "metadata": {},
   "outputs": [],
   "source": [
    "# Predict Level\n",
    "condition_1 = [(mdro['預測值'] <= 20), (mdro['預測值'] > 20)&(mdro['預測值'] <= 40), \n",
    "          (mdro['預測值'] > 40)&(mdro['預測值'] <= 60), (mdro['預測值'] > 60)&(mdro['預測值'] <= 80),\n",
    "          (mdro['預測值'] > 80)&(mdro['預測值'] <= 100)]\n",
    "\n",
    "value_1 = ['0~20%', '21~40%', '41~60%', '61~80%', '81~100%']\n",
    "mdro['PredLevel'] = np.select(condition_1, value_1) "
   ]
  },
  {
   "cell_type": "code",
   "execution_count": 19,
   "metadata": {},
   "outputs": [],
   "source": [
    "# Stain Category\n",
    "condition_2 =[\n",
    "              (mdro['菌株'].str.contains('Enterococcus faecium')),\n",
    "              (mdro['菌株'].str.contains('Enterococcus faecalis')),\n",
    "              (mdro['菌株'].str.contains('Morganella morganii')),\n",
    "              (mdro['菌株'].str.contains('Klebsiella pneumoniae')),\n",
    "              (mdro['菌株'].str.contains('Pseudomonas aeruginosa')),\n",
    "              (mdro['菌株'].str.contains('Escherichia coli')),\n",
    "              (mdro['菌株'].str.contains('Acinetobacter baumannii')),\n",
    "              (mdro['菌株'].str.contains('Staphylococcus aureus')),\n",
    "              (mdro['菌株'].str.contains('Enterobacter cloacae'))\n",
    "            ]\n",
    "\n",
    "value_2 = ['Enterococcus faecium', 'Enterococcus faecalis', 'Morganella morganii', 'Klebsiella pneumoniae', 'Pseudomonas aeruginosa',\n",
    "            'Escherichia coli', 'Acinetobacter baumannii', 'Staphylococcus aureus', 'Enterobacter cloacae']\n",
    "\n",
    "mdro['Group_Germ'] = np.select(condition_2, value_2) \n"
   ]
  },
  {
   "cell_type": "code",
   "execution_count": 20,
   "metadata": {},
   "outputs": [],
   "source": [
    "# mdro_SA[mdro_SA.miniTime_Open==mdro_SA.openTime].to_excel(r'C:\\Users\\User\\VSCode\\CDSS\\output\\MDRO_SA_0526.xlsx', index=False)\n",
    "# mdro.to_excel(r'C:\\Users\\User\\VSCode\\CDSS\\output\\MDRO_0610.xlsx', index=False)"
   ]
  },
  {
   "cell_type": "markdown",
   "metadata": {},
   "source": [
    "06_10_2022"
   ]
  },
  {
   "cell_type": "code",
   "execution_count": 26,
   "metadata": {},
   "outputs": [
    {
     "name": "stderr",
     "output_type": "stream",
     "text": [
      "C:\\Users\\User\\AppData\\Local\\Temp\\ipykernel_13964\\598692275.py:1: DtypeWarning: Columns (19) have mixed types. Specify dtype option on import or set low_memory=False.\n",
      "  Yakiniku_Rice_Burger = pd.read_csv(r\"C:\\Users\\User\\VSCode\\CDSS\\source\\Clean\\元氣牛肉珍珠堡.csv\", dtype={'病歷號碼':'str'}).drop_duplicates()\n"
     ]
    }
   ],
   "source": [
    "Yakiniku_Rice_Burger = pd.read_csv(r\"C:\\Users\\User\\VSCode\\CDSS\\source\\Clean\\元氣牛肉珍珠堡.csv\", dtype={'病歷號碼':'str'}).drop_duplicates()\n",
    "# Yakiniku_Rice_Burger = pd.read_csv(r\"\\\\10.20.3.235\\抗生素cdss\\RawData\\CDSS_Row_1110609.csv\", dtype={'病歷號碼':'str'}).drop_duplicates()\n",
    "\n"
   ]
  },
  {
   "cell_type": "code",
   "execution_count": 25,
   "metadata": {},
   "outputs": [
    {
     "data": {
      "text/plain": [
       "Index(['表單號', '住院號', '申請編號', '病歷號碼', '生日(年月日)', '主診斷1', '診斷2', '診斷3', '診斷4',\n",
       "       '診斷5', '開單醫師', '開單科別', '病房', '住院日', '出院日', '申請日', '採檢日', '簽收日', '報告日',\n",
       "       '項目代碼', '項目名稱', '來源', '檢體', '菌名', 'strain', 'bed', '檢驗部收到時間', '發報告時間',\n",
       "       '參考值', 'Lab_檢驗日期', 'Lab_報告日期', 'Lab_檢驗項目', 'Lab_檢驗值', 'Lab_表單號',\n",
       "       'Lab_申請號', '床號', '性別', '体重', '出院診斷_1', '出院診斷_2', '出院診斷_3', '出院診斷_4',\n",
       "       '出院診斷_5', '出院診斷_6', '出院診斷_7', '死亡日期', '時間', 'ICU'],\n",
       "      dtype='object')"
      ]
     },
     "execution_count": 25,
     "metadata": {},
     "output_type": "execute_result"
    }
   ],
   "source": [
    "Yakiniku_Rice_Burger.columns"
   ]
  },
  {
   "cell_type": "code",
   "execution_count": null,
   "metadata": {},
   "outputs": [],
   "source": []
  }
 ],
 "metadata": {
  "interpreter": {
   "hash": "f544ce1a915a9875fad91c894e2c0bcad4b7a79945aa6027ef3ad27810072aa6"
  },
  "kernelspec": {
   "display_name": "Python 3.8.6 64-bit",
   "language": "python",
   "name": "python3"
  },
  "language_info": {
   "codemirror_mode": {
    "name": "ipython",
    "version": 3
   },
   "file_extension": ".py",
   "mimetype": "text/x-python",
   "name": "python",
   "nbconvert_exporter": "python",
   "pygments_lexer": "ipython3",
   "version": "3.8.6"
  },
  "orig_nbformat": 4
 },
 "nbformat": 4,
 "nbformat_minor": 2
}
