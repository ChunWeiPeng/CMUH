{
 "cells": [
  {
   "cell_type": "code",
   "execution_count": 48,
   "metadata": {},
   "outputs": [],
   "source": [
    "import numpy as np\n",
    "import pandas as pd\n",
    "from datetime import datetime\n",
    "from datetime import date"
   ]
  },
  {
   "cell_type": "markdown",
   "metadata": {},
   "source": [
    "Data Loading"
   ]
  },
  {
   "cell_type": "code",
   "execution_count": 39,
   "metadata": {},
   "outputs": [],
   "source": [
    "\n",
    "def load_data(file):\n",
    "    mdro = pd.read_excel(file, sheet_name='MDROs', \n",
    "                        dtype={'病歷號碼':'str', '申請編號':'int', '就醫序號':'int'})\n",
    "    report = pd.read_excel(file, sheet_name='微生物報告', \n",
    "                        dtype={'病歷號碼':'str', '申請編號':'int', '就醫序號':'int'})\n",
    "    info = pd.read_excel(file, sheet_name='就醫資訊', \n",
    "                        dtype={'病歷號碼':'str', '就醫序號':'int'})\n",
    "    anti = pd.read_excel(file, sheet_name='抗生素使用', \n",
    "                        dtype={'病歷號碼':'str', '就醫序號':'int'})\n",
    "    examValue = pd.read_excel(file, sheet_name='檢驗數值', \n",
    "                        dtype={'病歷號碼':'str', '就醫序號':'int'})\n",
    "    \n",
    "    # data processing \n",
    "    mdro = mdro[['病歷號碼', 'time', '就醫序號','申請編號', '菌株', '預測值', '部位', 'sendTime']]\n",
    "    mdro.rename({'time':'openTime'}, axis=1, inplace=True)\n",
    "    \n",
    "    report = report[['病歷號碼', 'bed', '就醫序號','申請編號', 'strain','部位', '抗藥性菌株', 'examTime','reportTime']]\n",
    "    \n",
    "    cdss = pd.merge(report, mdro, how='left', on=['病歷號碼', '就醫序號','申請編號', '部位'])\n",
    "    cdss = cdss.drop_duplicates()\n",
    "    cdss['minTime'] = cdss.groupby(['病歷號碼', 'bed','就醫序號', '申請編號', '部位', '菌株', '預測值',  'sendTime'])['openTime'].transform('min')\n",
    "    \n",
    "    info = info[['病歷號碼', '就醫序號', '性別', '生日', '年齡', '來院日期', '離院日期', '天數', '門急住', '科別代碼', '科別']]\n",
    "    info.rename({'門急住':'bed'}, axis=1, inplace=True)\n",
    "    \n",
    "    cdss_info = pd.merge(cdss, info, how='left', on=['病歷號碼', '就醫序號', 'bed'])\n",
    "    cdss_info = cdss_info.drop_duplicates()\n",
    "    \n",
    "    CDSS = pd.merge(cdss_info, anti, how='left', on=['病歷號碼','就醫序號'])\n",
    "    CDSS = CDSS.drop_duplicates()\n",
    "    \n",
    "    # exam Year & Month\n",
    "    CDSS[\"examDate\"] = pd.to_datetime( \n",
    "                                  pd.to_datetime(CDSS.examTime).dt.year.map(str) + '-' + \\\n",
    "                                  pd.to_datetime(CDSS.examTime).dt.month.map(str) + '-' + \\\n",
    "                                  pd.to_datetime(CDSS.examTime).dt.day.map(str)\n",
    "                                )\n",
    "    \n",
    "    \n",
    "    return CDSS\n",
    "    "
   ]
  },
  {
   "cell_type": "code",
   "execution_count": 40,
   "metadata": {},
   "outputs": [],
   "source": [
    "# 智抗菌平台報表_20220331.xlsx\n",
    "\n",
    "file = r'C:\\Users\\User\\VSCode\\智抗菌平台報表_20220331.xlsx'\n",
    "CDSS = load_data(file)\n",
    "# CDSS.head(10)"
   ]
  },
  {
   "cell_type": "code",
   "execution_count": 41,
   "metadata": {},
   "outputs": [],
   "source": [
    "old_file = r'C:\\Users\\User\\VSCode\\智抗菌平台報表_20220309.xlsx'\n",
    "CDSS_old = load_data(old_file)\n",
    "CDSS = pd.concat([CDSS_old, CDSS])\n",
    "CDSS = CDSS.drop_duplicates()"
   ]
  },
  {
   "cell_type": "code",
   "execution_count": 42,
   "metadata": {},
   "outputs": [],
   "source": [
    "# CDSS.to_excel(r'C:\\Users\\User\\VSCode\\CDSS(20220401).xlsx')"
   ]
  },
  {
   "cell_type": "code",
   "execution_count": 57,
   "metadata": {},
   "outputs": [],
   "source": [
    "SMS = pd.read_excel(r'C:\\Users\\User\\VSCode\\簡訊通知時間(0301-0331)給鈞威.xls', dtype={'病歷號_10碼':'str'},\n",
    "                    sheet_name='0301-0309', )"
   ]
  },
  {
   "cell_type": "code",
   "execution_count": 58,
   "metadata": {},
   "outputs": [],
   "source": [
    "SMS = SMS[['西元年月', '時間', '病人姓名', '病歷號_10碼', '西元採檢日']]\n",
    "SMS.rename({'病歷號_10碼':'病歷號', '西元採檢日':'examDate'}, axis=1, inplace=True)\n"
   ]
  },
  {
   "cell_type": "code",
   "execution_count": 59,
   "metadata": {},
   "outputs": [
    {
     "data": {
      "text/html": [
       "<div>\n",
       "<style scoped>\n",
       "    .dataframe tbody tr th:only-of-type {\n",
       "        vertical-align: middle;\n",
       "    }\n",
       "\n",
       "    .dataframe tbody tr th {\n",
       "        vertical-align: top;\n",
       "    }\n",
       "\n",
       "    .dataframe thead th {\n",
       "        text-align: right;\n",
       "    }\n",
       "</style>\n",
       "<table border=\"1\" class=\"dataframe\">\n",
       "  <thead>\n",
       "    <tr style=\"text-align: right;\">\n",
       "      <th></th>\n",
       "      <th>西元年月</th>\n",
       "      <th>時間</th>\n",
       "      <th>病人姓名</th>\n",
       "      <th>病歷號</th>\n",
       "      <th>examDate</th>\n",
       "    </tr>\n",
       "  </thead>\n",
       "  <tbody>\n",
       "    <tr>\n",
       "      <th>0</th>\n",
       "      <td>2022-03-01</td>\n",
       "      <td>13:28:00</td>\n",
       "      <td>陳龍鑫</td>\n",
       "      <td>0017662463</td>\n",
       "      <td>2022-02-25</td>\n",
       "    </tr>\n",
       "    <tr>\n",
       "      <th>1</th>\n",
       "      <td>2022-03-01</td>\n",
       "      <td>13:28:00</td>\n",
       "      <td>黃裕益</td>\n",
       "      <td>0038131412</td>\n",
       "      <td>2022-02-25</td>\n",
       "    </tr>\n",
       "    <tr>\n",
       "      <th>2</th>\n",
       "      <td>2022-03-01</td>\n",
       "      <td>13:28:00</td>\n",
       "      <td>陳俊吉</td>\n",
       "      <td>0030442219</td>\n",
       "      <td>2022-02-25</td>\n",
       "    </tr>\n",
       "    <tr>\n",
       "      <th>3</th>\n",
       "      <td>2022-03-01</td>\n",
       "      <td>13:28:00</td>\n",
       "      <td>周嘉豪</td>\n",
       "      <td>0031487807</td>\n",
       "      <td>2022-02-26</td>\n",
       "    </tr>\n",
       "    <tr>\n",
       "      <th>4</th>\n",
       "      <td>2022-03-01</td>\n",
       "      <td>15:51:00</td>\n",
       "      <td>周嘉豪</td>\n",
       "      <td>0031487807</td>\n",
       "      <td>2022-02-28</td>\n",
       "    </tr>\n",
       "    <tr>\n",
       "      <th>...</th>\n",
       "      <td>...</td>\n",
       "      <td>...</td>\n",
       "      <td>...</td>\n",
       "      <td>...</td>\n",
       "      <td>...</td>\n",
       "    </tr>\n",
       "    <tr>\n",
       "      <th>119</th>\n",
       "      <td>2022-03-31</td>\n",
       "      <td>14:35:00</td>\n",
       "      <td>向富義</td>\n",
       "      <td>0037818664</td>\n",
       "      <td>2022-03-30</td>\n",
       "    </tr>\n",
       "    <tr>\n",
       "      <th>120</th>\n",
       "      <td>2022-03-31</td>\n",
       "      <td>14:35:00</td>\n",
       "      <td>陳榮梅</td>\n",
       "      <td>0019781710</td>\n",
       "      <td>2022-03-30</td>\n",
       "    </tr>\n",
       "    <tr>\n",
       "      <th>121</th>\n",
       "      <td>2022-03-31</td>\n",
       "      <td>14:35:00</td>\n",
       "      <td>林信有</td>\n",
       "      <td>0000944590</td>\n",
       "      <td>2022-03-29</td>\n",
       "    </tr>\n",
       "    <tr>\n",
       "      <th>122</th>\n",
       "      <td>2022-03-31</td>\n",
       "      <td>14:35:00</td>\n",
       "      <td>陳黃淑仔</td>\n",
       "      <td>0038128193</td>\n",
       "      <td>2022-03-30</td>\n",
       "    </tr>\n",
       "    <tr>\n",
       "      <th>123</th>\n",
       "      <td>2022-03-31</td>\n",
       "      <td>14:35:00</td>\n",
       "      <td>劉貴和</td>\n",
       "      <td>0013253662</td>\n",
       "      <td>2022-03-30</td>\n",
       "    </tr>\n",
       "  </tbody>\n",
       "</table>\n",
       "<p>124 rows × 5 columns</p>\n",
       "</div>"
      ],
      "text/plain": [
       "          西元年月        時間  病人姓名         病歷號   examDate\n",
       "0   2022-03-01  13:28:00   陳龍鑫  0017662463 2022-02-25\n",
       "1   2022-03-01  13:28:00   黃裕益  0038131412 2022-02-25\n",
       "2   2022-03-01  13:28:00   陳俊吉  0030442219 2022-02-25\n",
       "3   2022-03-01  13:28:00   周嘉豪  0031487807 2022-02-26\n",
       "4   2022-03-01  15:51:00   周嘉豪  0031487807 2022-02-28\n",
       "..         ...       ...   ...         ...        ...\n",
       "119 2022-03-31  14:35:00   向富義  0037818664 2022-03-30\n",
       "120 2022-03-31  14:35:00   陳榮梅  0019781710 2022-03-30\n",
       "121 2022-03-31  14:35:00   林信有  0000944590 2022-03-29\n",
       "122 2022-03-31  14:35:00  陳黃淑仔  0038128193 2022-03-30\n",
       "123 2022-03-31  14:35:00   劉貴和  0013253662 2022-03-30\n",
       "\n",
       "[124 rows x 5 columns]"
      ]
     },
     "execution_count": 59,
     "metadata": {},
     "output_type": "execute_result"
    }
   ],
   "source": [
    "SMS"
   ]
  },
  {
   "cell_type": "code",
   "execution_count": null,
   "metadata": {},
   "outputs": [],
   "source": []
  }
 ],
 "metadata": {
  "interpreter": {
   "hash": "5c0372ed38b372118c24adb00d45654d76c8d10261533c5724e3f5fc1d75489a"
  },
  "kernelspec": {
   "display_name": "Python 3.8.6 64-bit",
   "language": "python",
   "name": "python3"
  },
  "language_info": {
   "codemirror_mode": {
    "name": "ipython",
    "version": 3
   },
   "file_extension": ".py",
   "mimetype": "text/x-python",
   "name": "python",
   "nbconvert_exporter": "python",
   "pygments_lexer": "ipython3",
   "version": "3.8.6"
  },
  "orig_nbformat": 4
 },
 "nbformat": 4,
 "nbformat_minor": 2
}
