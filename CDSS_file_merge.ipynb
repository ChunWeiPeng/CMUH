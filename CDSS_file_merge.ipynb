{
 "cells": [
  {
   "cell_type": "code",
   "execution_count": 1,
   "metadata": {},
   "outputs": [],
   "source": [
    "import numpy as np\n",
    "import pandas as pd\n",
    "from datetime import datetime\n",
    "from datetime import date"
   ]
  },
  {
   "cell_type": "markdown",
   "metadata": {},
   "source": [
    "Data Loading"
   ]
  },
  {
   "cell_type": "code",
   "execution_count": 2,
   "metadata": {},
   "outputs": [],
   "source": [
    "\n",
    "def load_data(file):\n",
    "    mdro = pd.read_excel(file, sheet_name='MDROs', \n",
    "                        dtype={'病歷號碼':'str', '申請編號':'int', '就醫序號':'int'})\n",
    "    report = pd.read_excel(file, sheet_name='微生物報告', \n",
    "                        dtype={'病歷號碼':'str', '申請編號':'int', '就醫序號':'int'})\n",
    "    info = pd.read_excel(file, sheet_name='就醫資訊', \n",
    "                        dtype={'病歷號碼':'str', '就醫序號':'int'})\n",
    "    # anti = pd.read_excel(file, sheet_name='抗生素使用', \n",
    "    #                     dtype={'病歷號碼':'str', '就醫序號':'int'})\n",
    "    examValue = pd.read_excel(file, sheet_name='檢驗數值', \n",
    "                        dtype={'病歷號碼':'str', '就醫序號':'int'})\n",
    "    \n",
    "    # data processing \n",
    "    mdro = mdro[['病歷號碼', 'time', '就醫序號','申請編號', '菌株', '預測值', '部位', 'sendTime']]\n",
    "    mdro.rename({'time':'openTime'}, axis=1, inplace=True)\n",
    "    \n",
    "    report = report[['病歷號碼', 'bed', '就醫序號','申請編號', 'strain','部位', '抗藥性菌株', 'examTime','reportTime']]\n",
    "    \n",
    "    cdss = pd.merge(report, mdro, how='left', on=['病歷號碼', '就醫序號','申請編號', '部位'])\n",
    "    cdss = cdss.drop_duplicates()\n",
    "    cdss['miniTime_Open'] = cdss.groupby(['病歷號碼', 'bed','就醫序號', '申請編號', '部位', '菌株', '預測值',  'sendTime'])['openTime'].transform('min')\n",
    "    \n",
    "    info = info[['病歷號碼', '就醫序號', '性別', '生日', '年齡', '來院日期', '離院日期', '天數', '門急住', '科別代碼', '科別']]\n",
    "    info.rename({'門急住':'bed'}, axis=1, inplace=True)\n",
    "    \n",
    "    cdss_info = pd.merge(cdss, info, how='left', on=['病歷號碼', '就醫序號', 'bed'])\n",
    "    \n",
    "    # Filtering mini open CDSS time\n",
    "    CDSS = cdss_info[cdss_info.openTime==cdss_info.miniTime_Open].drop_duplicates()\n",
    "    \n",
    "    # Add column : max time leaving hospital\n",
    "    CDSS.離院日期 = pd.to_datetime(CDSS.離院日期).dt.date\n",
    "    CDSS['MaxTime_leave'] = CDSS.groupby(['病歷號碼', 'bed','就醫序號', '申請編號', '部位', '菌株', '預測值', 'sendTime', '來院日期'])['離院日期'].transform('max')\n",
    "    # CDSS = pd.merge(cdss_info, anti, how='left', on=['病歷號碼','就醫序號'])\n",
    "    # CDSS = CDSS.drop_duplicates()\n",
    "    \n",
    "    # Predict Level\n",
    "    condition_1 = [(CDSS['預測值'] <= 20), (CDSS['預測值'] > 20)&(CDSS['預測值'] <= 40), \n",
    "             (CDSS['預測值'] > 40)&(CDSS['預測值'] <= 60), (CDSS['預測值'] > 60)&(CDSS['預測值'] <= 80),\n",
    "             (CDSS['預測值'] > 80)&(CDSS['預測值'] <= 100)]\n",
    "\n",
    "    value_1 = ['0~20%', '21~40%', '41~60%', '61~80%', '81~100%']\n",
    "    CDSS['PredLevel'] = np.select(condition_1, value_1) \n",
    "    \n",
    "    # Stain Category\n",
    "    condition_2 =[\n",
    "                  (CDSS['菌株'].isin(['Enterococcus faecium(VRE)', 'Enterococcus faecium', 'Enterococcus faecalis'])),\n",
    "                  (CDSS['菌株'].isin(['Morganella morganii'])),\n",
    "                  (CDSS['菌株'].isin(['Klebsiella pneumoniae'])),\n",
    "                  (CDSS['菌株'].isin(['Pseudomonas aeruginosa'])),\n",
    "                  (CDSS['菌株'].isin(['Escherichia coli'])),\n",
    "                  (CDSS['菌株'].isin(['Acinetobacter baumannii', 'Acinetobacter baumannii/calcoaceticus complex'])),\n",
    "                  (CDSS['菌株'].isin(['Staphylococcus aureus', 'Staphylococcus aureus(MRSA)'])),\n",
    "                  (CDSS['菌株'].isin(['Enterobacter cloacae']))\n",
    "                ]\n",
    "    \n",
    "    value_2 = ['Enterococcus faecium', 'Morganella morganii', 'Klebsiella pneumoniae', 'Pseudomonas aeruginosa',\n",
    "               'Escherichia coli', 'Acinetobacter baumannii', 'Staphylococcus aureus', 'Enterobacter cloacae']\n",
    "    \n",
    "    CDSS['Group_Strain'] = np.select(condition_2, value_2) \n",
    "    \n",
    "    # exam Year & Month\n",
    "    CDSS[\"examDate\"] = pd.to_datetime( \n",
    "                                  pd.to_datetime(CDSS.examTime).dt.year.map(str) + '-' + \\\n",
    "                                  pd.to_datetime(CDSS.examTime).dt.month.map(str) + '-' + \\\n",
    "                                  pd.to_datetime(CDSS.examTime).dt.day.map(str)\n",
    "                                )\n",
    "    \n",
    "    CDSS['Resist_bool'] = np.where(CDSS['抗藥性菌株']==1, True, False)\n",
    "    CDSS.rename({'年齡':'Age', '預測值':'PredValue'}, axis=1, inplace=True)\n",
    "    \n",
    "    return CDSS\n",
    "    "
   ]
  },
  {
   "cell_type": "code",
   "execution_count": 3,
   "metadata": {},
   "outputs": [],
   "source": [
    "# 智抗菌平台報表_20220331.xlsx\n",
    "\n",
    "# file = r'C:\\Users\\User\\VSCode\\智抗菌平台報表_20220331.xlsx'\n",
    "file = r'C:\\Users\\User\\VSCode\\CDSS\\output\\智抗菌平台報表_20220502.xlsx'\n",
    "CDSS = load_data(file)\n",
    "# CDSS.head(10)"
   ]
  },
  {
   "cell_type": "code",
   "execution_count": 4,
   "metadata": {},
   "outputs": [],
   "source": [
    "old_file = r'C:\\Users\\User\\VSCode\\CDSS\\source\\智抗菌平台報表_20220309.xlsx'\n",
    "old_file_1 = r'C:\\Users\\User\\VSCode\\CDSS\\source\\智抗菌平台報表_20220331.xlsx'\n",
    "CDSS_old = load_data(old_file)\n",
    "CDSS_old_1 = load_data(old_file_1)\n",
    "CDSS = pd.concat([CDSS_old, CDSS_old_1, CDSS])\n",
    "\n",
    "# Filter Fault Time\n",
    "CDSS['sendTime'] = pd.to_datetime(CDSS['sendTime'])\n",
    "CDSS = CDSS[(CDSS['sendTime'] < pd.to_datetime('2022-03-07 00:00')) | (CDSS['sendTime'] > pd.to_datetime('2022-03-21 23:59'))]\n",
    "\n",
    "CDSS = CDSS.drop_duplicates().reset_index(drop=True).sort_values(['病歷號碼', '申請編號', 'examTime'])"
   ]
  },
  {
   "cell_type": "code",
   "execution_count": 5,
   "metadata": {},
   "outputs": [],
   "source": [
    "# Output File\n",
    "# CDSS.to_excel(r'C:\\Users\\User\\VSCode\\CDSS_report_mdro_info.xlsx')\n",
    "# CDSS.to_excel(r'C:\\Users\\User\\VSCode\\CDSS\\output\\CDSS_0502.xlsx')"
   ]
  }
 ],
 "metadata": {
  "interpreter": {
   "hash": "5c0372ed38b372118c24adb00d45654d76c8d10261533c5724e3f5fc1d75489a"
  },
  "kernelspec": {
   "display_name": "Python 3.8.6 64-bit",
   "language": "python",
   "name": "python3"
  },
  "language_info": {
   "codemirror_mode": {
    "name": "ipython",
    "version": 3
   },
   "file_extension": ".py",
   "mimetype": "text/x-python",
   "name": "python",
   "nbconvert_exporter": "python",
   "pygments_lexer": "ipython3",
   "version": "3.8.6"
  },
  "orig_nbformat": 4
 },
 "nbformat": 4,
 "nbformat_minor": 2
}
