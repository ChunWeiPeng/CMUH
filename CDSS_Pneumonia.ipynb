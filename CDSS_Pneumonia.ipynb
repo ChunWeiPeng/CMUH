{
 "cells": [
  {
   "cell_type": "code",
   "execution_count": null,
   "metadata": {},
   "outputs": [],
   "source": [
    "import numpy as np\n",
    "import pandas as pd\n",
    "from datetime import datetime\n",
    "from datetime import date"
   ]
  },
  {
   "cell_type": "code",
   "execution_count": null,
   "metadata": {},
   "outputs": [],
   "source": [
    "guaguabao = pd.read_excel(r'C:\\Users\\User\\VSCode\\CDSS\\source\\Clean\\呱呱包.xlsx', dtype={'病歷號碼':'str'})"
   ]
  },
  {
   "cell_type": "code",
   "execution_count": null,
   "metadata": {},
   "outputs": [],
   "source": [
    "guaguabao.columns\n",
    "\n",
    "# guaguabao[['病歷號碼', '住院號']].drop_duplicates().to_excel(r\"C:\\Users\\User\\VSCode\\CDSS\\output\\醫療費用清單_0531.xlsx\", index=False)"
   ]
  },
  {
   "cell_type": "code",
   "execution_count": null,
   "metadata": {},
   "outputs": [],
   "source": [
    "guaguabao['age'] = ((guaguabao.住院日 - pd.to_datetime((guaguabao['生日(年月日)']+19110000).astype('str')))/np.timedelta64(1,'Y')).astype('int')\n",
    "guaguabao['AGE'] = guaguabao.groupby('病歷號碼')['age'].transform('max')\n",
    "guaguabao['Over_18'] = np.where(guaguabao['AGE']>18, 1, 0)"
   ]
  },
  {
   "cell_type": "code",
   "execution_count": null,
   "metadata": {},
   "outputs": [],
   "source": [
    "aabbcc = guaguabao[['病歷號碼', '住院號']].drop_duplicates().sort_values(['病歷號碼', '住院號'])\n",
    "\n",
    "aabbcc['A_Count'] = aabbcc.groupby(['病歷號碼'])['住院號'].rank(method=\"first\", ascending=True)\n",
    "\n",
    "aabbcc['Patient_Code'] = aabbcc.病歷號碼.astype('str') + '_' + aabbcc.A_Count.astype('int').astype('str')\n",
    "\n",
    "aabbcc = aabbcc[['病歷號碼', '住院號', 'Patient_Code']]"
   ]
  },
  {
   "cell_type": "code",
   "execution_count": null,
   "metadata": {},
   "outputs": [],
   "source": [
    "Jim = guaguabao[['病歷號碼', '住院號', '性別', 'AGE', 'Over_18', '採檢日', '菌名', 'ICU', 'Death', '死亡日期','住院日', '出院日', '住院天數']].drop_duplicates()\n",
    "\n",
    "Jim_condition = [\n",
    "    (Jim.菌名.isin(['Staphylococcus aureus(MRSA)', 'Staphylococcus aureus'])),\n",
    "    (Jim.菌名.isin(['Klebsiella pneumoniae'])),\n",
    "    (Jim.菌名.isin(['Enterococcus faecium(VRE)', 'Enterococcus faecium'])),\n",
    "    (Jim.菌名.isin(['Acinetobacter baumannii', 'Acinetobacter baumannii/calcoaceticus complex'])),\n",
    "    (Jim.菌名.isin(['Pseudomonas aeruginosa'])),\n",
    "    (Jim.菌名.isin(['Escherichia coli'])),\n",
    "    (Jim.菌名.isin(['Enterococcus faecalis', 'Enterococcus faecalis(VRE)'])),\n",
    "    (Jim.菌名.isin(['Morganella morganii']))\n",
    "]\n",
    "\n",
    "Jim_value = ['SA', 'KP', 'E.faecium', 'AB', 'PA', 'ECL', 'E.faecalis', 'MM'\n",
    "    \n",
    "]\n",
    "\n",
    "Jim['Group_Of_Bacteria'] = np.select(Jim_condition, Jim_value)\n",
    "# Jim['Count_Of_Bacteria'] = Jim.groupby('病歷號碼')['Group_Of_Bacteria'].transform('count')\n",
    "\n",
    "Jim['ICU_sum'] = Jim.groupby('病歷號碼')['ICU'].transform('sum')\n",
    "Jim['ICU'] = np.where(Jim['ICU_sum']>=1, 1, 0)\n",
    "\n",
    "# Jim = Jim[['病歷號碼', '住院號', '採檢日', 'Group_Of_Bacteria']].drop_duplicates().sort_values(['病歷號碼', '採檢日']).reset_index(drop=True)"
   ]
  },
  {
   "cell_type": "code",
   "execution_count": null,
   "metadata": {},
   "outputs": [],
   "source": [
    "# Jim['Exam_min'] = Jim.groupby('病歷號碼')['採檢日'].transform('min')\n",
    "\n",
    "TableJim = pd.merge(Jim, aabbcc, how='left', on=['病歷號碼', '住院號'])"
   ]
  },
  {
   "cell_type": "code",
   "execution_count": null,
   "metadata": {},
   "outputs": [],
   "source": [
    "# JIm_min = Jim[Jim.Exam_min==Jim.採檢日][['病歷號碼', '住院號', '採檢日']].drop_duplicates()"
   ]
  },
  {
   "cell_type": "code",
   "execution_count": null,
   "metadata": {},
   "outputs": [],
   "source": [
    "TableJim.columns"
   ]
  },
  {
   "cell_type": "code",
   "execution_count": null,
   "metadata": {},
   "outputs": [],
   "source": [
    "Day = TableJim[['病歷號碼', '住院號', '住院日', '出院日', '住院天數']].drop_duplicates().sort_values(['病歷號碼', '住院日']).reset_index(drop=True)\n",
    "Day['Length_of_Stay'] = Day.groupby('病歷號碼')['住院天數'].transform('sum')\n",
    "Day['住院日_next'] = Day.groupby('病歷號碼')['住院日'].shift(-1)\n",
    "Day['住院_Diff'] = (Day['住院日_next'] - Day['出院日']).dt.days\n",
    "Day['Over30_Stay_All'] = np.where(Day.住院_Diff >= 30, 1, 0)\n",
    "\n",
    "ExamDay = TableJim[['病歷號碼', '住院號', '住院日', '採檢日', '出院日']].drop_duplicates().sort_values(['病歷號碼', '住院號', '採檢日']).reset_index(drop=True)\n",
    "ExamDay['採檢日_Earliest'] = ExamDay.groupby(['病歷號碼', '住院號'])['採檢日'].transform('min')\n",
    "# ExamDay = ExamDay[ExamDay.採檢日==ExamDay.採檢日_Earliest]\n",
    "# ExamDay['住院天數_Exam'] = (ExamDay.出院日 - ExamDay.採檢日).dt.days\n",
    "# ExamDay['Length_of_Stay_Exam'] = ExamDay.groupby('病歷號碼')['住院天數_Exam'].transform('sum')\n",
    "\n",
    "# drop whithout length of stay # 7 people\n",
    "# ExamDay = ExamDay[~(ExamDay.住院天數_Exam.isna())]\n",
    "\n",
    "## MRSA Exam\n",
    "# ExamDay_MRSA = ExamDay[ExamDay.Bacterial_Positive==1]\n",
    "# ExamDay_MRSA['採檢日_Next'] = ExamDay_MRSA.groupby(['病歷號碼', '出院日'])['採檢日'].shift(-1)\n",
    "# ExamDay_MRSA['採檢日_diff'] = (ExamDay_MRSA['採檢日_Next']-ExamDay_MRSA['採檢日']).dt.days\n",
    "# ExamDay_MRSA['Over30_Exam'] = np.where(ExamDay_MRSA['採檢日_diff']>=30, 1, 0)\n",
    "\n",
    "## MRSA 住離院\n",
    "StayDay = TableJim[['病歷號碼', '住院號', '住院日', '出院日']].drop_duplicates().sort_values(['病歷號碼', '住院號', '住院日'])\n",
    "StayDay['住院日_Next'] = StayDay.groupby(['病歷號碼'])['住院日'].shift(-1)\n",
    "StayDay['住院日_diff'] = (StayDay['住院日_Next']-StayDay['出院日']).dt.days\n",
    "StayDay['Over30_Stay'] = np.where(StayDay['住院日_diff']>=30, 1, 0)"
   ]
  },
  {
   "cell_type": "code",
   "execution_count": null,
   "metadata": {},
   "outputs": [],
   "source": [
    "import msoffcrypto\n",
    "import io\n",
    "\n",
    "temp_1 = io.BytesIO()\n",
    "temp_2 = io.BytesIO()"
   ]
  },
  {
   "cell_type": "code",
   "execution_count": null,
   "metadata": {},
   "outputs": [],
   "source": [
    "with open(r'C:\\Users\\User\\VSCode\\CDSS\\source\\智抗菌住院病人費用_2021名單.xlsx', 'rb') as f:\n",
    "    excel = msoffcrypto.OfficeFile(f)\n",
    "    excel.load_key('13226')\n",
    "    excel.decrypt(temp_1)\n",
    "    \n",
    "Fee_1 = pd.read_excel(temp_1, dtype={'病歷號':'str'}, sheet_name='醫療費用')\n",
    "del temp_1\n",
    "\n",
    "\n",
    "with open(r'C:\\Users\\User\\VSCode\\CDSS\\source\\智抗菌住院病人費用_1110523追加.xlsx', 'rb') as f:\n",
    "    excel = msoffcrypto.OfficeFile(f)\n",
    "    excel.load_key('13226')\n",
    "    excel.decrypt(temp_2)\n",
    "    \n",
    "Fee_2 = pd.read_excel(temp_2, dtype={'病歷號':'str'})\n",
    "del temp_2\n",
    "\n",
    "Fee = pd.concat([Fee_1, Fee_2]).sort_values(['住院號']).reset_index(drop=True)"
   ]
  },
  {
   "cell_type": "code",
   "execution_count": null,
   "metadata": {},
   "outputs": [],
   "source": [
    "# ExamDay_MRSA[ExamDay_MRSA['Over30_Exam']==1].病歷號碼.to_excel(r'C:\\Users\\User\\VSCode\\CDSS\\output\\Exam_Over30.xlsx', index=False)\n",
    "\n",
    "Pneumonia = pd.merge(StayDay, aabbcc, how='left', on=['病歷號碼', '住院號'])\n",
    "Pneumonia = pd.merge(Pneumonia, Fee, how='left', on=['住院號'])\n",
    "\n",
    "Pneumonia_1 = Pneumonia[Pneumonia['Over30_Stay']==1].drop_duplicates()\n",
    "Pneumonia_1['Length of Stay'] = (Pneumonia_1.出院日 - Pneumonia_1.住院日).dt.days\n",
    "\n",
    "Pneumonia_2 = Pneumonia[~(Pneumonia['Over30_Stay']==1)].drop_duplicates()\n",
    "Pneumonia_2['Days of Stay'] = (Pneumonia_2.出院日 - Pneumonia_2.住院日).dt.days\n",
    "Pneumonia_2['醫療總費用'] = Pneumonia_2.groupby('病歷號碼')['醫療總費用'].transform('sum')\n",
    "Pneumonia_2['西藥費'] = Pneumonia_2.groupby('病歷號碼')['西藥費'].transform('sum')\n",
    "Pneumonia_2['Length of Stay'] = Pneumonia_2.groupby('病歷號碼')['Days of Stay'].transform('sum')\n",
    "Pneumonia_2['住院日_Mini'] = Pneumonia_2.groupby('病歷號碼')['住院日'].transform('min')\n",
    "Pneumonia_2 = Pneumonia_2[Pneumonia_2['住院日_Mini']==Pneumonia_2['住院日']][['病歷號碼', '住院號', '住院日', '出院日', '住院日_Next', '住院日_diff', 'Over30_Stay', 'Patient_Code', 'Length of Stay', '醫療總費用', '西藥費']]\n",
    "\n",
    "Pneumonia = pd.concat([Pneumonia_1, Pneumonia_2])\n",
    "Pneumonia = Pneumonia[['Patient_Code', '病歷號碼', '住院號', '住院日', '出院日', '住院日_diff', 'Over30_Stay', 'Length of Stay', '醫療總費用', '西藥費']].sort_values(['病歷號碼', '住院號']).reset_index(drop=True)\n",
    "Pneumonia['Count of Stay'] = Pneumonia.groupby(['病歷號碼'])['住院號'].rank(method=\"first\", ascending=True)\n",
    "\n",
    "\n",
    "# Length og Stay base on Exam Day\n",
    "Pneumonia_exam = pd.merge(Pneumonia, ExamDay[['病歷號碼', '住院號', '採檢日_Earliest']].drop_duplicates(), how='left' , on=['病歷號碼', '住院號'])\n",
    "Pneumonia_exam['Length of Stay (Exam)'] = (Pneumonia_exam.出院日 - Pneumonia_exam.採檢日_Earliest).dt.days\n",
    "\n",
    "\n",
    "TableOne_JIM = pd.merge(Pneumonia_exam, TableJim[['Patient_Code', '性別', '死亡日期', 'ICU', 'Death', 'AGE', 'Over_18']].drop_duplicates(), how='left' , on='Patient_Code')\n",
    "# TableOne_MRSA.to_excel(r'C:\\Users\\User\\VSCode\\CDSS\\output\\MRSA_TableOne.xlsx', index=False)"
   ]
  },
  {
   "cell_type": "code",
   "execution_count": null,
   "metadata": {},
   "outputs": [],
   "source": [
    "TableOne_JIM_WhithoutLeave = TableOne_JIM.dropna(subset=['出院日'])\n",
    "# TableOne_JIM.to_excel(r\"C:\\Users\\User\\VSCode\\CDSS\\output\\Pneumonia_TableOne.xlsx\", index=False)"
   ]
  },
  {
   "cell_type": "markdown",
   "metadata": {},
   "source": [
    "2022_06_01    "
   ]
  },
  {
   "cell_type": "code",
   "execution_count": null,
   "metadata": {},
   "outputs": [],
   "source": [
    "Germ = guaguabao[['病歷號碼', '住院號', '菌名']].drop_duplicates()\n",
    "\n",
    "Germ_condition = [\n",
    "    (Germ.菌名.isin(['Staphylococcus aureus(MRSA)', 'Staphylococcus aureus'])),\n",
    "    (Germ.菌名.isin(['Klebsiella pneumoniae'])),\n",
    "    (Germ.菌名.isin(['Enterococcus faecium(VRE)', 'Enterococcus faecium'])),\n",
    "    (Germ.菌名.isin(['Acinetobacter baumannii', 'Acinetobacter baumannii/calcoaceticus complex'])),\n",
    "    (Germ.菌名.isin(['Pseudomonas aeruginosa'])),\n",
    "    (Germ.菌名.isin(['Escherichia coli'])),\n",
    "    (Germ.菌名.isin(['Enterococcus faecalis', 'Enterococcus faecalis(VRE)'])),\n",
    "    (Germ.菌名.isin(['Morganella morganii']))\n",
    "]\n",
    "\n",
    "Germ_value = ['SA', 'KP', 'EF', 'AB', 'PA', 'ECL', 'EFC', 'MM'\n",
    "    \n",
    "]\n",
    "\n",
    "Germ['Group_Of_Bacteria'] = np.select(Germ_condition, Germ_value)\n",
    "\n",
    "Germ = Germ[['病歷號碼', 'Group_Of_Bacteria']].drop_duplicates()\n",
    "Germ['Count_Of_Bacteria'] = Germ.groupby('病歷號碼')['Group_Of_Bacteria'].transform('count')\n",
    "\n",
    "Germ = Germ[['病歷號碼', 'Count_Of_Bacteria']].drop_duplicates()\n",
    "\n",
    "\n",
    "TableOne_JIM_Germ = pd.merge(TableOne_JIM_WhithoutLeave, Germ, how='left', on='病歷號碼')\n",
    "\n",
    "# TableOne_JIM_Germ.to_excel(r\"C:\\Users\\User\\VSCode\\CDSS\\output\\Pneumonia_TableOne.xlsx\", index=False)"
   ]
  },
  {
   "cell_type": "code",
   "execution_count": null,
   "metadata": {},
   "outputs": [],
   "source": [
    "TableOne_JIM_Germ[TableOne_JIM_Germ.Over_18==1].count()"
   ]
  },
  {
   "cell_type": "markdown",
   "metadata": {},
   "source": [
    "2022_06_15"
   ]
  },
  {
   "cell_type": "code",
   "execution_count": 1,
   "metadata": {},
   "outputs": [],
   "source": [
    "import numpy as np\n",
    "import pandas as pd\n",
    "from datetime import datetime\n",
    "from datetime import date"
   ]
  },
  {
   "cell_type": "code",
   "execution_count": 17,
   "metadata": {},
   "outputs": [],
   "source": [
    "Med = pd.read_excel(r'C:\\Users\\User\\VSCode\\CDSS\\source\\資訊室\\admdata_1110606.xlsx', dtype={'住院號碼':'str'})\n",
    "LookUp_Tb = pd.read_excel(r'C:\\Users\\User\\VSCode\\CDSS\\source\\抗生素藥品對照表.xlsx', dtype={'病歷號碼':'str'})"
   ]
  },
  {
   "cell_type": "code",
   "execution_count": 7,
   "metadata": {},
   "outputs": [
    {
     "name": "stdout",
     "output_type": "stream",
     "text": [
      "Index(['住院號碼', '醫令代碼', '醫令學名', '使用起日', '使用迄日', '頻率', '每次量', '途徑', '劑型', '天數'], dtype='object')\n",
      "\n",
      "Index(['藥品分類', 'ATC code ', '健保碼', '院方藥品碼', '抗生素名稱', ' 給藥途徑', 'DDD', '單位'], dtype='object')\n"
     ]
    }
   ],
   "source": [
    "print(Med.columns)\n",
    "print()\n",
    "print(LookUp_Tb.columns)"
   ]
  },
  {
   "cell_type": "code",
   "execution_count": 18,
   "metadata": {},
   "outputs": [],
   "source": [
    "LookUp_Tb = LookUp_Tb.dropna(axis=0, subset=['院方藥品碼'])\n",
    "LookUp_Tb.rename(columns={\"院方藥品碼\": \"醫令代碼\"}, inplace = True)\n",
    "LookUp_Tb = LookUp_Tb[['藥品分類', '醫令代碼', 'DDD', '單位']]\n",
    "\n",
    "conditions = [\n",
    "                (LookUp_Tb['醫令代碼'] == 'ITEICOP'), (LookUp_Tb['醫令代碼'] == 'IVANCOM3'),\n",
    "                (LookUp_Tb['醫令代碼'] == 'IDAPTOM'), (LookUp_Tb['醫令代碼'] == 'ILINEZO'),\n",
    "                (LookUp_Tb['醫令代碼'] == 'ICEFTA6'),(LookUp_Tb['醫令代碼'] == 'ITIGECY')\n",
    "             ]\n",
    "values = ( 1 , 1 , 1 , 1 , 1 ,1)\n",
    "\n",
    "LookUp_Tb['AntiMRSA'] = np.select(conditions , values)\n",
    "\n"
   ]
  },
  {
   "cell_type": "code",
   "execution_count": 43,
   "metadata": {},
   "outputs": [],
   "source": [
    "LookUp_Tb['MRSA_drugs'] = np.where(LookUp_Tb.groupby('藥品分類')['AntiMRSA'].transform('sum')>=1, 1, 0)"
   ]
  },
  {
   "cell_type": "code",
   "execution_count": 44,
   "metadata": {},
   "outputs": [
    {
     "ename": "AttributeError",
     "evalue": "Can only use .str accessor with string values!",
     "output_type": "error",
     "traceback": [
      "\u001b[1;31m---------------------------------------------------------------------------\u001b[0m",
      "\u001b[1;31mAttributeError\u001b[0m                            Traceback (most recent call last)",
      "\u001b[1;32mc:\\Users\\User\\VSCode\\CMUH\\CDSS_Pneumonia.ipynb Cell 24'\u001b[0m in \u001b[0;36m<module>\u001b[1;34m\u001b[0m\n\u001b[1;32m----> <a href='vscode-notebook-cell:/c%3A/Users/User/VSCode/CMUH/CDSS_Pneumonia.ipynb#ch0000022?line=0'>1</a>\u001b[0m Med[[\u001b[39m'\u001b[39m\u001b[39m使用起日_date\u001b[39m\u001b[39m'\u001b[39m, \u001b[39m'\u001b[39m\u001b[39m使用起日_time\u001b[39m\u001b[39m'\u001b[39m]] \u001b[39m=\u001b[39m Med[\u001b[39m'\u001b[39;49m\u001b[39m使用起日\u001b[39;49m\u001b[39m'\u001b[39;49m]\u001b[39m.\u001b[39;49mstr\u001b[39m.\u001b[39msplit(\u001b[39m'\u001b[39m\u001b[39m \u001b[39m\u001b[39m'\u001b[39m, expand\u001b[39m=\u001b[39m\u001b[39mTrue\u001b[39;00m)\n\u001b[0;32m      <a href='vscode-notebook-cell:/c%3A/Users/User/VSCode/CMUH/CDSS_Pneumonia.ipynb#ch0000022?line=1'>2</a>\u001b[0m Med[[\u001b[39m'\u001b[39m\u001b[39m使用迄日_date\u001b[39m\u001b[39m'\u001b[39m, \u001b[39m'\u001b[39m\u001b[39m使用迄日_time\u001b[39m\u001b[39m'\u001b[39m]] \u001b[39m=\u001b[39m Med[\u001b[39m'\u001b[39m\u001b[39m使用迄日\u001b[39m\u001b[39m'\u001b[39m]\u001b[39m.\u001b[39mstr\u001b[39m.\u001b[39msplit(\u001b[39m'\u001b[39m\u001b[39m \u001b[39m\u001b[39m'\u001b[39m, expand\u001b[39m=\u001b[39m\u001b[39mTrue\u001b[39;00m)\n\u001b[0;32m      <a href='vscode-notebook-cell:/c%3A/Users/User/VSCode/CMUH/CDSS_Pneumonia.ipynb#ch0000022?line=3'>4</a>\u001b[0m Med[[\u001b[39m'\u001b[39m\u001b[39m使用起日_time_h\u001b[39m\u001b[39m'\u001b[39m, \u001b[39m'\u001b[39m\u001b[39m使用起日_time_m\u001b[39m\u001b[39m'\u001b[39m]] \u001b[39m=\u001b[39m Med[\u001b[39m'\u001b[39m\u001b[39m使用起日_time\u001b[39m\u001b[39m'\u001b[39m]\u001b[39m.\u001b[39mstr\u001b[39m.\u001b[39msplit(\u001b[39m'\u001b[39m\u001b[39m:\u001b[39m\u001b[39m'\u001b[39m, expand\u001b[39m=\u001b[39m\u001b[39mTrue\u001b[39;00m)\n",
      "File \u001b[1;32mc:\\Users\\User\\AppData\\Local\\Programs\\Python\\Python38\\lib\\site-packages\\pandas\\core\\generic.py:5583\u001b[0m, in \u001b[0;36mNDFrame.__getattr__\u001b[1;34m(self, name)\u001b[0m\n\u001b[0;32m   5576\u001b[0m \u001b[39mif\u001b[39;00m (\n\u001b[0;32m   5577\u001b[0m     name \u001b[39mnot\u001b[39;00m \u001b[39min\u001b[39;00m \u001b[39mself\u001b[39m\u001b[39m.\u001b[39m_internal_names_set\n\u001b[0;32m   5578\u001b[0m     \u001b[39mand\u001b[39;00m name \u001b[39mnot\u001b[39;00m \u001b[39min\u001b[39;00m \u001b[39mself\u001b[39m\u001b[39m.\u001b[39m_metadata\n\u001b[0;32m   5579\u001b[0m     \u001b[39mand\u001b[39;00m name \u001b[39mnot\u001b[39;00m \u001b[39min\u001b[39;00m \u001b[39mself\u001b[39m\u001b[39m.\u001b[39m_accessors\n\u001b[0;32m   5580\u001b[0m     \u001b[39mand\u001b[39;00m \u001b[39mself\u001b[39m\u001b[39m.\u001b[39m_info_axis\u001b[39m.\u001b[39m_can_hold_identifiers_and_holds_name(name)\n\u001b[0;32m   5581\u001b[0m ):\n\u001b[0;32m   5582\u001b[0m     \u001b[39mreturn\u001b[39;00m \u001b[39mself\u001b[39m[name]\n\u001b[1;32m-> 5583\u001b[0m \u001b[39mreturn\u001b[39;00m \u001b[39mobject\u001b[39;49m\u001b[39m.\u001b[39;49m\u001b[39m__getattribute__\u001b[39;49m(\u001b[39mself\u001b[39;49m, name)\n",
      "File \u001b[1;32mc:\\Users\\User\\AppData\\Local\\Programs\\Python\\Python38\\lib\\site-packages\\pandas\\core\\accessor.py:182\u001b[0m, in \u001b[0;36mCachedAccessor.__get__\u001b[1;34m(self, obj, cls)\u001b[0m\n\u001b[0;32m    179\u001b[0m \u001b[39mif\u001b[39;00m obj \u001b[39mis\u001b[39;00m \u001b[39mNone\u001b[39;00m:\n\u001b[0;32m    180\u001b[0m     \u001b[39m# we're accessing the attribute of the class, i.e., Dataset.geo\u001b[39;00m\n\u001b[0;32m    181\u001b[0m     \u001b[39mreturn\u001b[39;00m \u001b[39mself\u001b[39m\u001b[39m.\u001b[39m_accessor\n\u001b[1;32m--> 182\u001b[0m accessor_obj \u001b[39m=\u001b[39m \u001b[39mself\u001b[39;49m\u001b[39m.\u001b[39;49m_accessor(obj)\n\u001b[0;32m    183\u001b[0m \u001b[39m# Replace the property with the accessor object. Inspired by:\u001b[39;00m\n\u001b[0;32m    184\u001b[0m \u001b[39m# https://www.pydanny.com/cached-property.html\u001b[39;00m\n\u001b[0;32m    185\u001b[0m \u001b[39m# We need to use object.__setattr__ because we overwrite __setattr__ on\u001b[39;00m\n\u001b[0;32m    186\u001b[0m \u001b[39m# NDFrame\u001b[39;00m\n\u001b[0;32m    187\u001b[0m \u001b[39mobject\u001b[39m\u001b[39m.\u001b[39m\u001b[39m__setattr__\u001b[39m(obj, \u001b[39mself\u001b[39m\u001b[39m.\u001b[39m_name, accessor_obj)\n",
      "File \u001b[1;32mc:\\Users\\User\\AppData\\Local\\Programs\\Python\\Python38\\lib\\site-packages\\pandas\\core\\strings\\accessor.py:177\u001b[0m, in \u001b[0;36mStringMethods.__init__\u001b[1;34m(self, data)\u001b[0m\n\u001b[0;32m    174\u001b[0m \u001b[39mdef\u001b[39;00m \u001b[39m__init__\u001b[39m(\u001b[39mself\u001b[39m, data):\n\u001b[0;32m    175\u001b[0m     \u001b[39mfrom\u001b[39;00m \u001b[39mpandas\u001b[39;00m\u001b[39m.\u001b[39;00m\u001b[39mcore\u001b[39;00m\u001b[39m.\u001b[39;00m\u001b[39marrays\u001b[39;00m\u001b[39m.\u001b[39;00m\u001b[39mstring_\u001b[39;00m \u001b[39mimport\u001b[39;00m StringDtype\n\u001b[1;32m--> 177\u001b[0m     \u001b[39mself\u001b[39m\u001b[39m.\u001b[39m_inferred_dtype \u001b[39m=\u001b[39m \u001b[39mself\u001b[39;49m\u001b[39m.\u001b[39;49m_validate(data)\n\u001b[0;32m    178\u001b[0m     \u001b[39mself\u001b[39m\u001b[39m.\u001b[39m_is_categorical \u001b[39m=\u001b[39m is_categorical_dtype(data\u001b[39m.\u001b[39mdtype)\n\u001b[0;32m    179\u001b[0m     \u001b[39mself\u001b[39m\u001b[39m.\u001b[39m_is_string \u001b[39m=\u001b[39m \u001b[39misinstance\u001b[39m(data\u001b[39m.\u001b[39mdtype, StringDtype)\n",
      "File \u001b[1;32mc:\\Users\\User\\AppData\\Local\\Programs\\Python\\Python38\\lib\\site-packages\\pandas\\core\\strings\\accessor.py:231\u001b[0m, in \u001b[0;36mStringMethods._validate\u001b[1;34m(data)\u001b[0m\n\u001b[0;32m    228\u001b[0m inferred_dtype \u001b[39m=\u001b[39m lib\u001b[39m.\u001b[39minfer_dtype(values, skipna\u001b[39m=\u001b[39m\u001b[39mTrue\u001b[39;00m)\n\u001b[0;32m    230\u001b[0m \u001b[39mif\u001b[39;00m inferred_dtype \u001b[39mnot\u001b[39;00m \u001b[39min\u001b[39;00m allowed_types:\n\u001b[1;32m--> 231\u001b[0m     \u001b[39mraise\u001b[39;00m \u001b[39mAttributeError\u001b[39;00m(\u001b[39m\"\u001b[39m\u001b[39mCan only use .str accessor with string values!\u001b[39m\u001b[39m\"\u001b[39m)\n\u001b[0;32m    232\u001b[0m \u001b[39mreturn\u001b[39;00m inferred_dtype\n",
      "\u001b[1;31mAttributeError\u001b[0m: Can only use .str accessor with string values!"
     ]
    }
   ],
   "source": [
    "Med[['使用起日_date', '使用起日_time']] = Med['使用起日'].str.split(' ', expand=True)\n",
    "Med[['使用迄日_date', '使用迄日_time']] = Med['使用迄日'].str.split(' ', expand=True)\n",
    "\n",
    "Med[['使用起日_time_h', '使用起日_time_m']] = Med['使用起日_time'].str.split(':', expand=True)\n",
    "Med[['使用迄日_time_h', '使用迄日_time_m']] = Med['使用迄日_time'].str.split(':', expand=True)\n",
    "\n",
    "Med['使用起日_time_m'] = np.where(Med['使用起日_time_m'].astype('int')>59, '30', Med['使用起日_time_m'])\n",
    "Med['使用迄日_time_m'] = np.where(Med['使用迄日_time_m'].astype('int')>59, '30', Med['使用迄日_time_m'])\n",
    "\n",
    "Med['使用起日_date'] = Med['使用起日_date'].astype('int') + 19110000\n",
    "Med['使用迄日_date'] = Med['使用迄日_date'].astype('int') + 19110000\n",
    "\n",
    "Med['使用起日'] = pd.to_datetime(Med['使用起日_date'].astype('str') + ' '+ Med['使用起日_time_h'] + ':' + Med['使用起日_time_m'] + ':00')\n",
    "Med['使用迄日'] = pd.to_datetime(Med['使用迄日_date'].astype('str') + ' '+ Med['使用迄日_time_h'] + ':' + Med['使用迄日_time_m'] + ':00')\n",
    "\n"
   ]
  },
  {
   "cell_type": "code",
   "execution_count": null,
   "metadata": {},
   "outputs": [
    {
     "data": {
      "text/plain": [
       "Index(['住院號碼', '醫令代碼', '醫令學名', '使用起日', '使用迄日', '頻率', '每次量', '途徑', '劑型', '天數',\n",
       "       '使用起日_date', '使用起日_time', '使用迄日_date', '使用迄日_time', '使用起日_time_h',\n",
       "       '使用起日_time_m', '使用迄日_time_h', '使用迄日_time_m'],\n",
       "      dtype='object')"
      ]
     },
     "execution_count": 23,
     "metadata": {},
     "output_type": "execute_result"
    }
   ],
   "source": [
    "Med.columns"
   ]
  },
  {
   "cell_type": "code",
   "execution_count": 45,
   "metadata": {},
   "outputs": [],
   "source": [
    "Med = Med[['住院號碼', '醫令代碼', '醫令學名', '使用起日', '使用迄日', '頻率', '每次量', '途徑', '劑型', '天數']].drop_duplicates().reset_index(drop=True)\n",
    "\n",
    "\n",
    "\n",
    "\n",
    "Med_ClearDay = pd.merge(Med, LookUp_Tb, how='left', on='醫令代碼').drop_duplicates().dropna(axis=0, subset=['藥品分類']).reset_index(drop=True)\n",
    "\n"
   ]
  },
  {
   "cell_type": "code",
   "execution_count": 46,
   "metadata": {},
   "outputs": [],
   "source": [
    "\n",
    "Med_ClearDay['使用起日_min'] = Med_ClearDay.groupby(['住院號碼', '藥品分類'])['使用起日'].transform('min')\n",
    "Med_ClearDay['使用迄日_Max'] = Med_ClearDay.groupby(['住院號碼', '藥品分類'])['使用迄日'].transform('max')\n",
    "\n",
    "Med_ClearDay = Med_ClearDay[['住院號碼', '藥品分類', '使用起日', '使用迄日', '使用起日_min', '使用迄日_Max', 'MRSA_drugs']].drop_duplicates().sort_values(['住院號碼', '藥品分類', '使用起日', '使用迄日'])\n",
    "Med_ClearDay['使用起日_Next'] = Med_ClearDay.groupby(['住院號碼', '藥品分類'])['使用起日'].shift(-1)\n",
    "\n",
    "Med_ClearDay['Med_Interval'] = (Med_ClearDay['使用起日_Next'] - Med_ClearDay['使用迄日']).dt.days\n",
    "\n",
    "Med_ClearDay['Med_Interval_Bool'] = np.where((Med_ClearDay['Med_Interval']<-1) | (Med_ClearDay['Med_Interval']>1), 1, 0)"
   ]
  },
  {
   "cell_type": "code",
   "execution_count": 47,
   "metadata": {},
   "outputs": [
    {
     "name": "stderr",
     "output_type": "stream",
     "text": [
      "C:\\Users\\User\\AppData\\Local\\Temp\\ipykernel_22520\\1238919967.py:3: SettingWithCopyWarning: \n",
      "A value is trying to be set on a copy of a slice from a DataFrame.\n",
      "Try using .loc[row_indexer,col_indexer] = value instead\n",
      "\n",
      "See the caveats in the documentation: https://pandas.pydata.org/pandas-docs/stable/user_guide/indexing.html#returning-a-view-versus-a-copy\n",
      "  aabb['Med_Interval_fix'] = (aabb['使用迄日'] - aabb['使用起日'] ).dt.days\n"
     ]
    }
   ],
   "source": [
    "aabb = Med_ClearDay[Med_ClearDay['Med_Interval_Bool'] == 1]\n",
    "\n",
    "aabb['Med_Interval_fix'] = (aabb['使用迄日'] - aabb['使用起日'] ).dt.days\n",
    "\n",
    "\n",
    "Med_ClearDay = pd.merge(Med_ClearDay, aabb[['住院號碼', '藥品分類', '使用起日', '使用迄日','Med_Interval', 'Med_Interval_Bool', 'Med_Interval_fix']], how='left', on=['住院號碼', '藥品分類', '使用起日', '使用迄日','Med_Interval', 'Med_Interval_Bool'])\n",
    "\n",
    "# 增加判別欄\n",
    "conditions = [Med_ClearDay.Med_Interval.isna(), Med_ClearDay.Med_Interval_Bool == 1]\n",
    "values = [1, 1]\n",
    "Med_ClearDay['Med_Test'] = np.select(conditions, values)"
   ]
  },
  {
   "cell_type": "code",
   "execution_count": 48,
   "metadata": {},
   "outputs": [],
   "source": [
    "Med_ClearDay['group'] = 0\n",
    "a = Med_ClearDay['Med_Test'].tolist()\n",
    "b = []\n",
    "c = Med_ClearDay['group'].tolist()\n",
    "j = 0\n",
    "k = 0\n",
    "\n",
    "for i in range(len(a)):\n",
    "    if a[i] == 1:\n",
    "        b.append(list(map(lambda x:x+k, c[j:i+1])))\n",
    "        j = i+1\n",
    "        k +=1\n",
    "\n",
    "# 2D-list to 1D-list\n",
    "import itertools\n",
    "flat_list = list(itertools.chain(*b))\n",
    "\n",
    "# 存入group\n",
    "Med_ClearDay['group'] = flat_list\n",
    "\n",
    "del a, b, c, i, j, k "
   ]
  },
  {
   "cell_type": "code",
   "execution_count": 49,
   "metadata": {},
   "outputs": [],
   "source": [
    "Med_ClearDay['start_day'] = Med_ClearDay.groupby(['住院號碼','group'])['使用起日'].transform('min')\n",
    "Med_ClearDay['end_day'] = Med_ClearDay.groupby(['住院號碼','group'])['使用迄日'].transform('max')\n",
    "Med_ClearDay['start_day'] = pd.to_datetime(Med_ClearDay['start_day'], format='%Y-%m%d').dt.date\n",
    "Med_ClearDay['end_day'] = pd.to_datetime(Med_ClearDay['end_day'], format='%Y-%m%d').dt.date\n",
    "Med_ClearDay['day_diff'] = (Med_ClearDay['end_day'] - Med_ClearDay['start_day']).dt.days"
   ]
  },
  {
   "cell_type": "code",
   "execution_count": 51,
   "metadata": {},
   "outputs": [],
   "source": [
    "result = Med_ClearDay[['住院號碼', '藥品分類', 'group', 'start_day', 'end_day', 'day_diff', 'MRSA_drugs']].drop_duplicates()\n",
    "result['day_diff'] = result['day_diff'].add(1)\n",
    "# result.to_excel(r'C:\\Users\\User\\VSCode\\CDSS\\source\\Clean\\抗生素用藥天數.xlsx', index=False)"
   ]
  },
  {
   "cell_type": "code",
   "execution_count": null,
   "metadata": {},
   "outputs": [],
   "source": []
  }
 ],
 "metadata": {
  "interpreter": {
   "hash": "f544ce1a915a9875fad91c894e2c0bcad4b7a79945aa6027ef3ad27810072aa6"
  },
  "kernelspec": {
   "display_name": "Python 3.8.6 64-bit",
   "language": "python",
   "name": "python3"
  },
  "language_info": {
   "codemirror_mode": {
    "name": "ipython",
    "version": 3
   },
   "file_extension": ".py",
   "mimetype": "text/x-python",
   "name": "python",
   "nbconvert_exporter": "python",
   "pygments_lexer": "ipython3",
   "version": "3.8.6"
  },
  "orig_nbformat": 4
 },
 "nbformat": 4,
 "nbformat_minor": 2
}
