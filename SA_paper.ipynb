{
 "cells": [
  {
   "cell_type": "code",
   "execution_count": 1,
   "metadata": {},
   "outputs": [],
   "source": [
    "import numpy as np\n",
    "import pandas as pd\n",
    "from datetime import datetime\n",
    "from datetime import date"
   ]
  },
  {
   "cell_type": "code",
   "execution_count": 234,
   "metadata": {},
   "outputs": [],
   "source": [
    "mdro = pd.read_excel(r'C:\\Users\\User\\VSCode\\CDSS\\output\\CDSS_0502.xlsx', dtype={'病歷號碼':'str'})\n",
    "mdro.openTime = pd.to_datetime(mdro.openTime)\n",
    "mdro_0331 = mdro[mdro.openTime < pd.to_datetime('2022-04-01 00:00')]"
   ]
  },
  {
   "cell_type": "code",
   "execution_count": 149,
   "metadata": {},
   "outputs": [
    {
     "data": {
      "text/plain": [
       "Index(['病歷號碼', 'bed', '就醫序號', '申請編號', 'strain', '部位', '抗藥性菌株', 'examTime',\n",
       "       'reportTime', 'openTime', '菌株', 'PredValue', 'sendTime',\n",
       "       'miniTime_Open', '性別', '生日', 'Age', '來院日期', '離院日期', '天數', '科別代碼', '科別',\n",
       "       'MaxTime_leave', 'PredLevel', 'Group_Strain', 'examDate',\n",
       "       'Resist_bool'],\n",
       "      dtype='object')"
      ]
     },
     "execution_count": 149,
     "metadata": {},
     "output_type": "execute_result"
    }
   ],
   "source": [
    "mdro.columns"
   ]
  },
  {
   "cell_type": "code",
   "execution_count": 150,
   "metadata": {},
   "outputs": [
    {
     "data": {
      "text/plain": [
       "458"
      ]
     },
     "execution_count": 150,
     "metadata": {},
     "output_type": "execute_result"
    }
   ],
   "source": [
    "mdro_0331.病歷號碼.drop_duplicates().count()"
   ]
  },
  {
   "cell_type": "code",
   "execution_count": 151,
   "metadata": {},
   "outputs": [
    {
     "name": "stderr",
     "output_type": "stream",
     "text": [
      "C:\\Users\\User\\AppData\\Local\\Temp\\ipykernel_23660\\406782294.py:1: UserWarning: Boolean Series key will be reindexed to match DataFrame index.\n",
      "  mdro_0331[mdro['Group_Strain']=='Staphylococcus aureus'].病歷號碼.drop_duplicates().count()\n"
     ]
    },
    {
     "data": {
      "text/plain": [
       "80"
      ]
     },
     "execution_count": 151,
     "metadata": {},
     "output_type": "execute_result"
    }
   ],
   "source": [
    "mdro_0331[mdro['Group_Strain']=='Staphylococcus aureus'].病歷號碼.drop_duplicates().count()"
   ]
  },
  {
   "cell_type": "markdown",
   "metadata": {},
   "source": [
    "2022/05/12"
   ]
  },
  {
   "cell_type": "code",
   "execution_count": 2,
   "metadata": {},
   "outputs": [],
   "source": [
    "BigMac = pd.read_excel(r'C:\\Users\\User\\VSCode\\CDSS\\output\\大大大麥克.xlsx', dtype={'病歷號碼':'str'}) "
   ]
  },
  {
   "cell_type": "markdown",
   "metadata": {},
   "source": [
    "Big Mac Columns"
   ]
  },
  {
   "cell_type": "code",
   "execution_count": 153,
   "metadata": {},
   "outputs": [
    {
     "data": {
      "text/plain": [
       "Index(['表單號', '住院號', '申請編號', '病歷號碼', '生日(年月日)', '主診斷1', '診斷2', '診斷3', '診斷4',\n",
       "       '診斷5', '開單醫師', '開單科別', '病房', '住院日', '出院日', '申請日', '採檢日', '簽收日', '報告日',\n",
       "       '項目代碼', '項目名稱', '來源', '檢體', '菌名', 'strain', 'bed', '檢驗部收到時間', '發報告時間',\n",
       "       '參考值', 'Lab_檢驗日期', 'Lab_報告日期', 'Lab_檢驗項目', 'Lab_檢驗值', 'Lab_表單號',\n",
       "       'Lab_申請號', '床號', '性別', '体重', '出院診斷_1', '出院診斷_2', '出院診斷_3', '出院診斷_4',\n",
       "       '出院診斷_5', '出院診斷_6', '出院診斷_7', '死亡日期', '時間', 'ICU', 'Death', '住院天數',\n",
       "       '住院日_next', '住院日_diff', '30D_A', '2022', 'Pneumonia_and_influenza',\n",
       "       'Other_upper_respiratory_infections',\n",
       "       'Chronic_obstructive_pulmonary_disease_and_bronchiectasis',\n",
       "       'Skin_and_subcutaneous_tissue_infections', 'Necrotizing_fasciitis',\n",
       "       'Fever', 'Septicemia', 'Implant', 'PredValue', 'openTime', 'sendTime',\n",
       "       'Group_Strain', 'PredLevel', 'Resist_bool', '生日(年月日)1911', 'age',\n",
       "       'Respiratory', 'Cancer_Skin_and_soft_tissue', 'Primary_bacteremia'],\n",
       "      dtype='object')"
      ]
     },
     "execution_count": 153,
     "metadata": {},
     "output_type": "execute_result"
    }
   ],
   "source": [
    "BigMac.columns"
   ]
  },
  {
   "cell_type": "code",
   "execution_count": 154,
   "metadata": {},
   "outputs": [
    {
     "name": "stderr",
     "output_type": "stream",
     "text": [
      "C:\\Users\\User\\AppData\\Local\\Temp\\ipykernel_23660\\3741624798.py:4: SettingWithCopyWarning: \n",
      "A value is trying to be set on a copy of a slice from a DataFrame.\n",
      "Try using .loc[row_indexer,col_indexer] = value instead\n",
      "\n",
      "See the caveats in the documentation: https://pandas.pydata.org/pandas-docs/stable/user_guide/indexing.html#returning-a-view-versus-a-copy\n",
      "  BBigMac['Over18'] = np.where((BigMac.age > 18), 1, 0)\n"
     ]
    }
   ],
   "source": [
    "BBigMac = BigMac[['病歷號碼', 'age', '性別', 'ICU', 'Death', '2022', 'Implant','PredValue', 'Group_Strain',\n",
    "                  'Respiratory', 'Cancer_Skin_and_soft_tissue', 'Primary_bacteremia']]\n",
    "\n",
    "BBigMac['Over18'] = np.where((BigMac.age > 18), 1, 0)"
   ]
  },
  {
   "cell_type": "code",
   "execution_count": 155,
   "metadata": {},
   "outputs": [],
   "source": [
    "Mac_2021 = BBigMac[(BigMac['2022'] == 0)].drop_duplicates()\n",
    "Mac_2022 = BBigMac[~(BigMac['2022'] == 0)].drop_duplicates()\n",
    "Mac_2022 = Mac_2022[Mac_2022.PredValue.notnull()==True]"
   ]
  },
  {
   "cell_type": "code",
   "execution_count": 156,
   "metadata": {},
   "outputs": [
    {
     "name": "stdout",
     "output_type": "stream",
     "text": [
      "2021:\n",
      "921\n",
      "2022:\n",
      "73\n"
     ]
    }
   ],
   "source": [
    "print('2021:')\n",
    "print(Mac_2021.病歷號碼.drop_duplicates().count())\n",
    "print('2022:')\n",
    "print(Mac_2022.病歷號碼.drop_duplicates().count())"
   ]
  },
  {
   "cell_type": "code",
   "execution_count": 157,
   "metadata": {},
   "outputs": [
    {
     "data": {
      "text/plain": [
       "1    825\n",
       "0     96\n",
       "Name: Over18, dtype: int64"
      ]
     },
     "execution_count": 157,
     "metadata": {},
     "output_type": "execute_result"
    }
   ],
   "source": [
    "# Over 18\n",
    "Mac_2021[['病歷號碼','Over18']].drop_duplicates().Over18.value_counts()"
   ]
  },
  {
   "cell_type": "code",
   "execution_count": 158,
   "metadata": {},
   "outputs": [
    {
     "data": {
      "text/plain": [
       "0    869\n",
       "1     55\n",
       "Name: ICU, dtype: int64"
      ]
     },
     "execution_count": 158,
     "metadata": {},
     "output_type": "execute_result"
    }
   ],
   "source": [
    "# ICU\n",
    "Mac_2021[['病歷號碼','ICU']].drop_duplicates().ICU.value_counts()"
   ]
  },
  {
   "cell_type": "code",
   "execution_count": 159,
   "metadata": {},
   "outputs": [
    {
     "data": {
      "text/plain": [
       "1    561\n",
       "2    360\n",
       "Name: 性別, dtype: int64"
      ]
     },
     "execution_count": 159,
     "metadata": {},
     "output_type": "execute_result"
    }
   ],
   "source": [
    "# Gender\n",
    "Mac_2021[['病歷號碼','性別']].drop_duplicates().性別.value_counts()"
   ]
  },
  {
   "cell_type": "code",
   "execution_count": 160,
   "metadata": {},
   "outputs": [
    {
     "data": {
      "text/plain": [
       "0    771\n",
       "1    150\n",
       "Name: Respiratory, dtype: int64"
      ]
     },
     "execution_count": 160,
     "metadata": {},
     "output_type": "execute_result"
    }
   ],
   "source": [
    "# Respiratory\n",
    "Mac_2021[['病歷號碼','Respiratory']].drop_duplicates().Respiratory.value_counts()"
   ]
  },
  {
   "cell_type": "code",
   "execution_count": 161,
   "metadata": {},
   "outputs": [
    {
     "data": {
      "text/plain": [
       "0    899\n",
       "1     22\n",
       "Name: Implant, dtype: int64"
      ]
     },
     "execution_count": 161,
     "metadata": {},
     "output_type": "execute_result"
    }
   ],
   "source": [
    "# Implant\n",
    "Mac_2021[['病歷號碼','Implant']].drop_duplicates().Implant.value_counts()"
   ]
  },
  {
   "cell_type": "code",
   "execution_count": 162,
   "metadata": {},
   "outputs": [
    {
     "data": {
      "text/plain": [
       "0    621\n",
       "1    300\n",
       "Name: Cancer_Skin_and_soft_tissue, dtype: int64"
      ]
     },
     "execution_count": 162,
     "metadata": {},
     "output_type": "execute_result"
    }
   ],
   "source": [
    "# Cancer_Skin_and_soft_tissue\n",
    "Mac_2021[['病歷號碼','Cancer_Skin_and_soft_tissue']].drop_duplicates().Cancer_Skin_and_soft_tissue.value_counts()"
   ]
  },
  {
   "cell_type": "code",
   "execution_count": 163,
   "metadata": {},
   "outputs": [
    {
     "data": {
      "text/plain": [
       "0    608\n",
       "1    323\n",
       "Name: Primary_bacteremia, dtype: int64"
      ]
     },
     "execution_count": 163,
     "metadata": {},
     "output_type": "execute_result"
    }
   ],
   "source": [
    "# Primary_bacteremia\n",
    "Mac_2021['Primary_bacteremia'].value_counts()"
   ]
  },
  {
   "cell_type": "code",
   "execution_count": 164,
   "metadata": {},
   "outputs": [],
   "source": [
    "BB = BigMac[BigMac['2022'] == 0][['病歷號碼','檢體']].drop_duplicates()"
   ]
  },
  {
   "cell_type": "code",
   "execution_count": 165,
   "metadata": {},
   "outputs": [
    {
     "data": {
      "text/html": [
       "<div>\n",
       "<style scoped>\n",
       "    .dataframe tbody tr th:only-of-type {\n",
       "        vertical-align: middle;\n",
       "    }\n",
       "\n",
       "    .dataframe tbody tr th {\n",
       "        vertical-align: top;\n",
       "    }\n",
       "\n",
       "    .dataframe thead th {\n",
       "        text-align: right;\n",
       "    }\n",
       "</style>\n",
       "<table border=\"1\" class=\"dataframe\">\n",
       "  <thead>\n",
       "    <tr style=\"text-align: right;\">\n",
       "      <th></th>\n",
       "      <th>檢體</th>\n",
       "    </tr>\n",
       "  </thead>\n",
       "  <tbody>\n",
       "    <tr>\n",
       "      <th>DP</th>\n",
       "      <td>457</td>\n",
       "    </tr>\n",
       "    <tr>\n",
       "      <th>PUSS</th>\n",
       "      <td>236</td>\n",
       "    </tr>\n",
       "    <tr>\n",
       "      <th>B</th>\n",
       "      <td>153</td>\n",
       "    </tr>\n",
       "    <tr>\n",
       "      <th>SET</th>\n",
       "      <td>63</td>\n",
       "    </tr>\n",
       "    <tr>\n",
       "      <th>SOFTT</th>\n",
       "      <td>45</td>\n",
       "    </tr>\n",
       "    <tr>\n",
       "      <th>NPS</th>\n",
       "      <td>29</td>\n",
       "    </tr>\n",
       "    <tr>\n",
       "      <th>SCO</th>\n",
       "      <td>27</td>\n",
       "    </tr>\n",
       "    <tr>\n",
       "      <th>CA</th>\n",
       "      <td>27</td>\n",
       "    </tr>\n",
       "    <tr>\n",
       "      <th>UC</th>\n",
       "      <td>20</td>\n",
       "    </tr>\n",
       "    <tr>\n",
       "      <th>UM</th>\n",
       "      <td>16</td>\n",
       "    </tr>\n",
       "    <tr>\n",
       "      <th>BF</th>\n",
       "      <td>16</td>\n",
       "    </tr>\n",
       "    <tr>\n",
       "      <th>AS</th>\n",
       "      <td>12</td>\n",
       "    </tr>\n",
       "    <tr>\n",
       "      <th>AS(CAPD)</th>\n",
       "      <td>7</td>\n",
       "    </tr>\n",
       "    <tr>\n",
       "      <th>SP</th>\n",
       "      <td>7</td>\n",
       "    </tr>\n",
       "    <tr>\n",
       "      <th>JOIF</th>\n",
       "      <td>6</td>\n",
       "    </tr>\n",
       "    <tr>\n",
       "      <th>SBL</th>\n",
       "      <td>6</td>\n",
       "    </tr>\n",
       "    <tr>\n",
       "      <th>CSF</th>\n",
       "      <td>5</td>\n",
       "    </tr>\n",
       "    <tr>\n",
       "      <th>UPCN</th>\n",
       "      <td>4</td>\n",
       "    </tr>\n",
       "    <tr>\n",
       "      <th>BI</th>\n",
       "      <td>3</td>\n",
       "    </tr>\n",
       "    <tr>\n",
       "      <th>PUS</th>\n",
       "      <td>3</td>\n",
       "    </tr>\n",
       "    <tr>\n",
       "      <th>LYMN</th>\n",
       "      <td>3</td>\n",
       "    </tr>\n",
       "    <tr>\n",
       "      <th>PF</th>\n",
       "      <td>3</td>\n",
       "    </tr>\n",
       "    <tr>\n",
       "      <th>PL</th>\n",
       "      <td>2</td>\n",
       "    </tr>\n",
       "    <tr>\n",
       "      <th>BRA</th>\n",
       "      <td>2</td>\n",
       "    </tr>\n",
       "    <tr>\n",
       "      <th>TIP</th>\n",
       "      <td>1</td>\n",
       "    </tr>\n",
       "    <tr>\n",
       "      <th>EYE</th>\n",
       "      <td>1</td>\n",
       "    </tr>\n",
       "    <tr>\n",
       "      <th>TS</th>\n",
       "      <td>1</td>\n",
       "    </tr>\n",
       "    <tr>\n",
       "      <th>SI</th>\n",
       "      <td>1</td>\n",
       "    </tr>\n",
       "    <tr>\n",
       "      <th>BAL</th>\n",
       "      <td>1</td>\n",
       "    </tr>\n",
       "  </tbody>\n",
       "</table>\n",
       "</div>"
      ],
      "text/plain": [
       "           檢體\n",
       "DP        457\n",
       "PUSS      236\n",
       "B         153\n",
       "SET        63\n",
       "SOFTT      45\n",
       "NPS        29\n",
       "SCO        27\n",
       "CA         27\n",
       "UC         20\n",
       "UM         16\n",
       "BF         16\n",
       "AS         12\n",
       "AS(CAPD)    7\n",
       "SP          7\n",
       "JOIF        6\n",
       "SBL         6\n",
       "CSF         5\n",
       "UPCN        4\n",
       "BI          3\n",
       "PUS         3\n",
       "LYMN        3\n",
       "PF          3\n",
       "PL          2\n",
       "BRA         2\n",
       "TIP         1\n",
       "EYE         1\n",
       "TS          1\n",
       "SI          1\n",
       "BAL         1"
      ]
     },
     "execution_count": 165,
     "metadata": {},
     "output_type": "execute_result"
    }
   ],
   "source": [
    "pd.DataFrame(BB.檢體.value_counts())"
   ]
  },
  {
   "cell_type": "code",
   "execution_count": 166,
   "metadata": {},
   "outputs": [],
   "source": [
    "age = Mac_2021[['病歷號碼','Over18']].drop_duplicates()"
   ]
  },
  {
   "cell_type": "code",
   "execution_count": 167,
   "metadata": {},
   "outputs": [
    {
     "data": {
      "text/plain": [
       "1    825\n",
       "0     96\n",
       "Name: Over18, dtype: int64"
      ]
     },
     "execution_count": 167,
     "metadata": {},
     "output_type": "execute_result"
    }
   ],
   "source": [
    "age.Over18.value_counts()"
   ]
  },
  {
   "cell_type": "markdown",
   "metadata": {},
   "source": [
    "Table One "
   ]
  },
  {
   "cell_type": "code",
   "execution_count": 14,
   "metadata": {},
   "outputs": [],
   "source": [
    "# TableMac = BigMac.drop_duplicates().sort_values(['病歷號碼', '住院號', '住院日']).reset_index(drop=True)\n",
    "# TableMac['Over18'] = np.where(TableMac['age']>18, 1, 0)\n",
    "# TableMac['AI'] = np.where(((TableMac.PredValue.notnull()==False) | (TableMac['2022']==0)), 0, 1)\n",
    "# TableMac['Bacterial'] = np.where(TableMac['菌名']=='Staphylococcus aureus', 0, 1)\n",
    "# TableMac['Bacterial_Positive'] = TableMac.groupby(['病歷號碼', '住院號'])['Bacterial'].transform('sum')\n",
    "# TableMac['Bacterial_Positive'] = np.where(TableMac.Bacterial_Positive>=1, 1, 0)\n",
    "# TableMac['Age'] = TableMac.groupby('病歷號碼')['age'].transform('max')\n",
    "# TableMac = TableMac[TableMac.Age==TableMac.age]\n",
    "\n",
    "# TableMac['A_Count'] = TableMac.groupby(['病歷號碼', '住院號'])['住院號'].rank(method=\"first\", ascending=True)\n",
    "\n",
    "# TableMac.to_excel(r'C:\\Users\\User\\VSCode\\CDSS\\output\\無敵大麥克.xlsx', index=False)"
   ]
  },
  {
   "cell_type": "code",
   "execution_count": 61,
   "metadata": {},
   "outputs": [],
   "source": [
    "TableMac = pd.read_excel(r'C:\\Users\\User\\VSCode\\CDSS\\output\\無敵大麥克.xlsx', dtype={'病歷號碼':'str'})\n",
    "\n",
    "TableMac['ICU_sum'] = TableMac.groupby('病歷號碼')['ICU'].transform('sum')\n",
    "TableMac['ICU'] = np.where(TableMac['ICU_sum']>=1, 1, 0)\n",
    "TableMac['AI_Sum'] = TableMac.groupby(['病歷號碼', '住院號'])['AI'].transform('sum')\n",
    "TableMac['AI'] = np.where(TableMac['AI_Sum']>0, 1, 0)"
   ]
  },
  {
   "cell_type": "markdown",
   "metadata": {},
   "source": [
    "Encoding Patient Code"
   ]
  },
  {
   "cell_type": "code",
   "execution_count": 67,
   "metadata": {},
   "outputs": [],
   "source": [
    "aabbcc = TableMac[['病歷號碼', '住院號']].drop_duplicates()\n",
    "\n",
    "aabbcc['A_Count'] = aabbcc.groupby(['病歷號碼'])['住院號'].rank(method=\"first\", ascending=True)\n",
    "\n",
    "aabbcc['Patient_Code'] = aabbcc.病歷號碼.astype('str') + '_' + aabbcc.A_Count.astype('int').astype('str')\n",
    "\n",
    "aabbcc = aabbcc[['病歷號碼', '住院號', 'Patient_Code']]\n",
    "\n",
    "TableMac_MRSA = pd.merge(TableMac[TableMac.Bacterial_Positive==1], aabbcc, how='left', on=['病歷號碼', '住院號'])\n"
   ]
  },
  {
   "cell_type": "markdown",
   "metadata": {},
   "source": [
    "Date Processing"
   ]
  },
  {
   "cell_type": "code",
   "execution_count": 39,
   "metadata": {},
   "outputs": [
    {
     "name": "stderr",
     "output_type": "stream",
     "text": [
      "C:\\Users\\User\\AppData\\Local\\Temp\\ipykernel_6384\\4219599523.py:18: SettingWithCopyWarning: \n",
      "A value is trying to be set on a copy of a slice from a DataFrame.\n",
      "Try using .loc[row_indexer,col_indexer] = value instead\n",
      "\n",
      "See the caveats in the documentation: https://pandas.pydata.org/pandas-docs/stable/user_guide/indexing.html#returning-a-view-versus-a-copy\n",
      "  ExamDay_MRSA['採檢日_Next'] = ExamDay_MRSA.groupby(['病歷號碼', '出院日'])['採檢日'].shift(-1)\n",
      "C:\\Users\\User\\AppData\\Local\\Temp\\ipykernel_6384\\4219599523.py:19: SettingWithCopyWarning: \n",
      "A value is trying to be set on a copy of a slice from a DataFrame.\n",
      "Try using .loc[row_indexer,col_indexer] = value instead\n",
      "\n",
      "See the caveats in the documentation: https://pandas.pydata.org/pandas-docs/stable/user_guide/indexing.html#returning-a-view-versus-a-copy\n",
      "  ExamDay_MRSA['採檢日_diff'] = (ExamDay_MRSA['採檢日_Next']-ExamDay_MRSA['採檢日']).dt.days\n",
      "C:\\Users\\User\\AppData\\Local\\Temp\\ipykernel_6384\\4219599523.py:20: SettingWithCopyWarning: \n",
      "A value is trying to be set on a copy of a slice from a DataFrame.\n",
      "Try using .loc[row_indexer,col_indexer] = value instead\n",
      "\n",
      "See the caveats in the documentation: https://pandas.pydata.org/pandas-docs/stable/user_guide/indexing.html#returning-a-view-versus-a-copy\n",
      "  ExamDay_MRSA['Over30_Exam'] = np.where(ExamDay_MRSA['採檢日_diff']>=30, 1, 0)\n"
     ]
    }
   ],
   "source": [
    "Day = TableMac[['病歷號碼', '住院號', '住院日', '出院日', '住院天數']].drop_duplicates().sort_values(['病歷號碼', '住院日']).reset_index(drop=True)\n",
    "Day['Length_of_Stay'] = Day.groupby('病歷號碼')['住院天數'].transform('sum')\n",
    "Day['住院日_next'] = Day.groupby('病歷號碼')['住院日'].shift(-1)\n",
    "Day['住院_Diff'] = (Day['住院日_next'] - Day['出院日']).dt.days\n",
    "Day['Over30_Stay_All'] = np.where(Day.住院_Diff >= 30, 1, 0)\n",
    "\n",
    "ExamDay = TableMac[['病歷號碼', '住院號', '住院日', '採檢日', '出院日', 'Bacterial_Positive']].drop_duplicates().sort_values(['病歷號碼', '住院號', '採檢日']).reset_index(drop=True)\n",
    "ExamDay['採檢日_Earliest'] = ExamDay.groupby('病歷號碼')['採檢日'].transform('min')\n",
    "# ExamDay = ExamDay[ExamDay.採檢日==ExamDay.採檢日_Earliest]\n",
    "# ExamDay['住院天數_Exam'] = (ExamDay.出院日 - ExamDay.採檢日).dt.days\n",
    "# ExamDay['Length_of_Stay_Exam'] = ExamDay.groupby('病歷號碼')['住院天數_Exam'].transform('sum')\n",
    "\n",
    "# drop whithout length of stay # 7 people\n",
    "# ExamDay = ExamDay[~(ExamDay.住院天數_Exam.isna())]\n",
    "\n",
    "## MRSA Exam\n",
    "ExamDay_MRSA = ExamDay[ExamDay.Bacterial_Positive==1]\n",
    "ExamDay_MRSA['採檢日_Next'] = ExamDay_MRSA.groupby(['病歷號碼', '出院日'])['採檢日'].shift(-1)\n",
    "ExamDay_MRSA['採檢日_diff'] = (ExamDay_MRSA['採檢日_Next']-ExamDay_MRSA['採檢日']).dt.days\n",
    "ExamDay_MRSA['Over30_Exam'] = np.where(ExamDay_MRSA['採檢日_diff']>=30, 1, 0)\n",
    "\n",
    "## MRSA 住離院\n",
    "Stay_MMRSA = ExamDay[ExamDay.Bacterial_Positive==1][['病歷號碼', '住院號', '住院日', '出院日']].drop_duplicates().sort_values(['病歷號碼', '住院號', '住院日'])\n",
    "Stay_MMRSA['住院日_Next'] = Stay_MMRSA.groupby(['病歷號碼'])['住院日'].shift(-1)\n",
    "Stay_MMRSA['住院日_diff'] = (Stay_MMRSA['住院日_Next']-Stay_MMRSA['出院日']).dt.days\n",
    "Stay_MMRSA['Over30_Stay'] = np.where(Stay_MMRSA['住院日_diff']>=30, 1, 0)"
   ]
  },
  {
   "cell_type": "markdown",
   "metadata": {},
   "source": [
    "MRSA List"
   ]
  },
  {
   "cell_type": "code",
   "execution_count": 69,
   "metadata": {},
   "outputs": [
    {
     "name": "stderr",
     "output_type": "stream",
     "text": [
      "C:\\Users\\User\\AppData\\Local\\Temp\\ipykernel_6384\\4294524332.py:6: SettingWithCopyWarning: \n",
      "A value is trying to be set on a copy of a slice from a DataFrame.\n",
      "Try using .loc[row_indexer,col_indexer] = value instead\n",
      "\n",
      "See the caveats in the documentation: https://pandas.pydata.org/pandas-docs/stable/user_guide/indexing.html#returning-a-view-versus-a-copy\n",
      "  MRSA_2['住院日_Mini'] = MRSA_2.groupby('病歷號碼')['住院日'].transform('min')\n"
     ]
    }
   ],
   "source": [
    "# ExamDay_MRSA[ExamDay_MRSA['Over30_Exam']==1].病歷號碼.to_excel(r'C:\\Users\\User\\VSCode\\CDSS\\output\\Exam_Over30.xlsx', index=False)\n",
    "\n",
    "MRSA = pd.merge(Stay_MMRSA, aabbcc, how='left', on=['病歷號碼', '住院號'])\n",
    "MRSA_1 = MRSA[MRSA['Over30_Stay']==1]\n",
    "MRSA_2 = MRSA[~(MRSA['Over30_Stay']==1)]\n",
    "MRSA_2['住院日_Mini'] = MRSA_2.groupby('病歷號碼')['住院日'].transform('min')\n",
    "MRSA_2 = MRSA_2[MRSA_2['住院日_Mini']==MRSA_2['住院日']][['病歷號碼', '住院號', '住院日', '出院日', '住院日_Next', '住院日_diff', 'Over30_Stay', 'Patient_Code']]\n",
    "\n",
    "MRSA = pd.concat([MRSA_1, MRSA_2])\n",
    "MRSA = MRSA[['Patient_Code', '病歷號碼', '住院號', '住院日', '出院日', '住院日_diff', 'Over30_Stay']]\n",
    "\n",
    "TableOne_MRSA = pd.merge(MRSA, TableMac_MRSA[['Patient_Code', '性別', '死亡日期', 'ICU', 'Death', 'Over18', 'Bacterial_Positive', 'Age', 'AI']].drop_duplicates(), how='left' , on='Patient_Code')\n",
    "# TableOne_MRSA.to_excel(r'C:\\Users\\User\\VSCode\\CDSS\\output\\MRSA_TableOne.xlsx', index=False)"
   ]
  },
  {
   "cell_type": "code",
   "execution_count": 66,
   "metadata": {},
   "outputs": [
    {
     "data": {
      "text/html": [
       "<div>\n",
       "<style scoped>\n",
       "    .dataframe tbody tr th:only-of-type {\n",
       "        vertical-align: middle;\n",
       "    }\n",
       "\n",
       "    .dataframe tbody tr th {\n",
       "        vertical-align: top;\n",
       "    }\n",
       "\n",
       "    .dataframe thead th {\n",
       "        text-align: right;\n",
       "    }\n",
       "</style>\n",
       "<table border=\"1\" class=\"dataframe\">\n",
       "  <thead>\n",
       "    <tr style=\"text-align: right;\">\n",
       "      <th></th>\n",
       "      <th>病歷號碼</th>\n",
       "      <th>AI</th>\n",
       "    </tr>\n",
       "  </thead>\n",
       "  <tbody>\n",
       "    <tr>\n",
       "      <th>20780</th>\n",
       "      <td>0021809094</td>\n",
       "      <td>1</td>\n",
       "    </tr>\n",
       "  </tbody>\n",
       "</table>\n",
       "</div>"
      ],
      "text/plain": [
       "             病歷號碼  AI\n",
       "20780  0021809094   1"
      ]
     },
     "execution_count": 66,
     "metadata": {},
     "output_type": "execute_result"
    }
   ],
   "source": [
    "# TableTable = (BigMac.PredValue.notnull()==True) | (BigMac['2022']==0)\n",
    "\n",
    "table_1_list =pd.DataFrame({'病歷號碼':TableMac['病歷號碼'].drop_duplicates()})\n",
    "\n",
    "Stay_MMRSA[Stay_MMRSA['Over30_Stay']==1].count()\n",
    "TableMac[['病歷號碼', 'AI']].drop_duplicates().count()\n",
    "TTT = TableMac[['病歷號碼', 'AI']].drop_duplicates()\n",
    "TTT[TTT['病歷號碼'].duplicated()==True]\n",
    "# # TableMac[~(TableMac.PredValue.notnull()==False)].病歷號碼.drop_duplicates().count()\n",
    "# tt = TableMac_MRSA[['病歷號碼', 'AI']].drop_duplicates()\n",
    "# tt[tt['病歷號碼'].duplicated()==True]"
   ]
  },
  {
   "cell_type": "code",
   "execution_count": 15,
   "metadata": {},
   "outputs": [
    {
     "data": {
      "text/plain": [
       "Index(['表單號', '住院號', '申請編號', '病歷號碼', '生日(年月日)', '主診斷1', '診斷2', '診斷3', '診斷4',\n",
       "       '診斷5', '開單醫師', '開單科別', '病房', '住院日', '出院日', '申請日', '採檢日', '簽收日', '報告日',\n",
       "       '項目代碼', '項目名稱', '來源', '檢體', '菌名', 'strain', 'bed', '檢驗部收到時間', '發報告時間',\n",
       "       '參考值', 'Lab_檢驗日期', 'Lab_報告日期', 'Lab_檢驗項目', 'Lab_檢驗值', 'Lab_表單號',\n",
       "       'Lab_申請號', '床號', '性別', '体重', '出院診斷_1', '出院診斷_2', '出院診斷_3', '出院診斷_4',\n",
       "       '出院診斷_5', '出院診斷_6', '出院診斷_7', '死亡日期', '時間', 'ICU', 'Death', '住院天數',\n",
       "       '住院日_next', '住院日_diff', '30D_A', '2022', 'Pneumonia_and_influenza',\n",
       "       'Other_upper_respiratory_infections',\n",
       "       'Chronic_obstructive_pulmonary_disease_and_bronchiectasis',\n",
       "       'Skin_and_subcutaneous_tissue_infections', 'Necrotizing_fasciitis',\n",
       "       'Fever', 'Septicemia', 'Implant', 'PredValue', 'openTime', 'sendTime',\n",
       "       'Group_Strain', 'PredLevel', 'Resist_bool', '生日(年月日)1911', 'age',\n",
       "       'Respiratory', 'Cancer_Skin_and_soft_tissue', 'Primary_bacteremia',\n",
       "       'Over18', 'AI', 'Bacterial', 'Bacterial_Positive', 'Age', 'ICU_sum',\n",
       "       'Patient_Code'],\n",
       "      dtype='object')"
      ]
     },
     "execution_count": 15,
     "metadata": {},
     "output_type": "execute_result"
    }
   ],
   "source": [
    "TableMac_MRSA.columns"
   ]
  },
  {
   "cell_type": "code",
   "execution_count": 173,
   "metadata": {},
   "outputs": [],
   "source": [
    "Gender = TableMac[['病歷號碼', '性別']].drop_duplicates()\n",
    "Age = TableMac[['病歷號碼', 'Age']].drop_duplicates()\n",
    "Over18 = TableMac[['病歷號碼', 'Over18']].drop_duplicates()\n",
    "ICU = TableMac[['病歷號碼', 'ICU']].drop_duplicates()\n",
    "# Respiratory = TableMac[['病歷號碼', 'Respiratory']].drop_duplicates()\n",
    "# Cancer_Skin_and_soft_tissue = TableMac[['病歷號碼', 'Cancer_Skin_and_soft_tissue']].drop_duplicates()\n",
    "# Primary_bacteremia = TableMac[['病歷號碼', 'Primary_bacteremia']].drop_duplicates()\n",
    "# Implant = TableMac[['病歷號碼', 'Implant']].drop_duplicates()\n",
    "AI = TableMac[['病歷號碼', 'AI']].drop_duplicates()\n",
    "Bacterial_Positive = TableMac[['病歷號碼', 'Bacterial_Positive']].drop_duplicates()\n",
    "# Length_of_Stay = Day[['病歷號碼', 'Length_of_Stay']].drop_duplicates()\n",
    "# Length_of_Stay_Exam = ExamDay[['病歷號碼', 'Length_of_Stay_Exam']].drop_duplicates()"
   ]
  },
  {
   "cell_type": "code",
   "execution_count": 13,
   "metadata": {},
   "outputs": [
    {
     "ename": "KeyError",
     "evalue": "\"['Length_of_Stay_Exam'] not in index\"",
     "output_type": "error",
     "traceback": [
      "\u001b[1;31m---------------------------------------------------------------------------\u001b[0m",
      "\u001b[1;31mKeyError\u001b[0m                                  Traceback (most recent call last)",
      "\u001b[1;32mc:\\Users\\User\\VSCode\\CMUH\\SA_paper.ipynb Cell 36'\u001b[0m in \u001b[0;36m<module>\u001b[1;34m\u001b[0m\n\u001b[1;32m----> <a href='vscode-notebook-cell:/c%3A/Users/User/VSCode/CMUH/SA_paper.ipynb#ch0000033?line=0'>1</a>\u001b[0m ExamDay[[\u001b[39m'\u001b[39;49m\u001b[39m病歷號碼\u001b[39;49m\u001b[39m'\u001b[39;49m, \u001b[39m'\u001b[39;49m\u001b[39mLength_of_Stay_Exam\u001b[39;49m\u001b[39m'\u001b[39;49m]]\u001b[39m.\u001b[39mdrop_duplicates()\u001b[39m.\u001b[39mcount()\n",
      "File \u001b[1;32mc:\\Users\\User\\AppData\\Local\\Programs\\Python\\Python38\\lib\\site-packages\\pandas\\core\\frame.py:3511\u001b[0m, in \u001b[0;36mDataFrame.__getitem__\u001b[1;34m(self, key)\u001b[0m\n\u001b[0;32m   <a href='file:///c%3A/Users/User/AppData/Local/Programs/Python/Python38/lib/site-packages/pandas/core/frame.py?line=3508'>3509</a>\u001b[0m     \u001b[39mif\u001b[39;00m is_iterator(key):\n\u001b[0;32m   <a href='file:///c%3A/Users/User/AppData/Local/Programs/Python/Python38/lib/site-packages/pandas/core/frame.py?line=3509'>3510</a>\u001b[0m         key \u001b[39m=\u001b[39m \u001b[39mlist\u001b[39m(key)\n\u001b[1;32m-> <a href='file:///c%3A/Users/User/AppData/Local/Programs/Python/Python38/lib/site-packages/pandas/core/frame.py?line=3510'>3511</a>\u001b[0m     indexer \u001b[39m=\u001b[39m \u001b[39mself\u001b[39;49m\u001b[39m.\u001b[39;49mcolumns\u001b[39m.\u001b[39;49m_get_indexer_strict(key, \u001b[39m\"\u001b[39;49m\u001b[39mcolumns\u001b[39;49m\u001b[39m\"\u001b[39;49m)[\u001b[39m1\u001b[39m]\n\u001b[0;32m   <a href='file:///c%3A/Users/User/AppData/Local/Programs/Python/Python38/lib/site-packages/pandas/core/frame.py?line=3512'>3513</a>\u001b[0m \u001b[39m# take() does not accept boolean indexers\u001b[39;00m\n\u001b[0;32m   <a href='file:///c%3A/Users/User/AppData/Local/Programs/Python/Python38/lib/site-packages/pandas/core/frame.py?line=3513'>3514</a>\u001b[0m \u001b[39mif\u001b[39;00m \u001b[39mgetattr\u001b[39m(indexer, \u001b[39m\"\u001b[39m\u001b[39mdtype\u001b[39m\u001b[39m\"\u001b[39m, \u001b[39mNone\u001b[39;00m) \u001b[39m==\u001b[39m \u001b[39mbool\u001b[39m:\n",
      "File \u001b[1;32mc:\\Users\\User\\AppData\\Local\\Programs\\Python\\Python38\\lib\\site-packages\\pandas\\core\\indexes\\base.py:5782\u001b[0m, in \u001b[0;36mIndex._get_indexer_strict\u001b[1;34m(self, key, axis_name)\u001b[0m\n\u001b[0;32m   <a href='file:///c%3A/Users/User/AppData/Local/Programs/Python/Python38/lib/site-packages/pandas/core/indexes/base.py?line=5778'>5779</a>\u001b[0m \u001b[39melse\u001b[39;00m:\n\u001b[0;32m   <a href='file:///c%3A/Users/User/AppData/Local/Programs/Python/Python38/lib/site-packages/pandas/core/indexes/base.py?line=5779'>5780</a>\u001b[0m     keyarr, indexer, new_indexer \u001b[39m=\u001b[39m \u001b[39mself\u001b[39m\u001b[39m.\u001b[39m_reindex_non_unique(keyarr)\n\u001b[1;32m-> <a href='file:///c%3A/Users/User/AppData/Local/Programs/Python/Python38/lib/site-packages/pandas/core/indexes/base.py?line=5781'>5782</a>\u001b[0m \u001b[39mself\u001b[39;49m\u001b[39m.\u001b[39;49m_raise_if_missing(keyarr, indexer, axis_name)\n\u001b[0;32m   <a href='file:///c%3A/Users/User/AppData/Local/Programs/Python/Python38/lib/site-packages/pandas/core/indexes/base.py?line=5783'>5784</a>\u001b[0m keyarr \u001b[39m=\u001b[39m \u001b[39mself\u001b[39m\u001b[39m.\u001b[39mtake(indexer)\n\u001b[0;32m   <a href='file:///c%3A/Users/User/AppData/Local/Programs/Python/Python38/lib/site-packages/pandas/core/indexes/base.py?line=5784'>5785</a>\u001b[0m \u001b[39mif\u001b[39;00m \u001b[39misinstance\u001b[39m(key, Index):\n\u001b[0;32m   <a href='file:///c%3A/Users/User/AppData/Local/Programs/Python/Python38/lib/site-packages/pandas/core/indexes/base.py?line=5785'>5786</a>\u001b[0m     \u001b[39m# GH 42790 - Preserve name from an Index\u001b[39;00m\n",
      "File \u001b[1;32mc:\\Users\\User\\AppData\\Local\\Programs\\Python\\Python38\\lib\\site-packages\\pandas\\core\\indexes\\base.py:5845\u001b[0m, in \u001b[0;36mIndex._raise_if_missing\u001b[1;34m(self, key, indexer, axis_name)\u001b[0m\n\u001b[0;32m   <a href='file:///c%3A/Users/User/AppData/Local/Programs/Python/Python38/lib/site-packages/pandas/core/indexes/base.py?line=5841'>5842</a>\u001b[0m     \u001b[39mraise\u001b[39;00m \u001b[39mKeyError\u001b[39;00m(\u001b[39mf\u001b[39m\u001b[39m\"\u001b[39m\u001b[39mNone of [\u001b[39m\u001b[39m{\u001b[39;00mkey\u001b[39m}\u001b[39;00m\u001b[39m] are in the [\u001b[39m\u001b[39m{\u001b[39;00maxis_name\u001b[39m}\u001b[39;00m\u001b[39m]\u001b[39m\u001b[39m\"\u001b[39m)\n\u001b[0;32m   <a href='file:///c%3A/Users/User/AppData/Local/Programs/Python/Python38/lib/site-packages/pandas/core/indexes/base.py?line=5843'>5844</a>\u001b[0m not_found \u001b[39m=\u001b[39m \u001b[39mlist\u001b[39m(ensure_index(key)[missing_mask\u001b[39m.\u001b[39mnonzero()[\u001b[39m0\u001b[39m]]\u001b[39m.\u001b[39munique())\n\u001b[1;32m-> <a href='file:///c%3A/Users/User/AppData/Local/Programs/Python/Python38/lib/site-packages/pandas/core/indexes/base.py?line=5844'>5845</a>\u001b[0m \u001b[39mraise\u001b[39;00m \u001b[39mKeyError\u001b[39;00m(\u001b[39mf\u001b[39m\u001b[39m\"\u001b[39m\u001b[39m{\u001b[39;00mnot_found\u001b[39m}\u001b[39;00m\u001b[39m not in index\u001b[39m\u001b[39m\"\u001b[39m)\n",
      "\u001b[1;31mKeyError\u001b[0m: \"['Length_of_Stay_Exam'] not in index\""
     ]
    }
   ],
   "source": [
    "# ExamDay[['病歷號碼', 'Length_of_Stay_Exam']].drop_duplicates().count()\n"
   ]
  },
  {
   "cell_type": "code",
   "execution_count": 175,
   "metadata": {},
   "outputs": [
    {
     "data": {
      "text/plain": [
       "Index(['表單號', '住院號', '申請編號', '病歷號碼', '生日(年月日)', '主診斷1', '診斷2', '診斷3', '診斷4',\n",
       "       '診斷5', '開單醫師', '開單科別', '病房', '住院日', '出院日', '申請日', '採檢日', '簽收日', '報告日',\n",
       "       '項目代碼', '項目名稱', '來源', '檢體', '菌名', 'strain', 'bed', '檢驗部收到時間', '發報告時間',\n",
       "       '參考值', 'Lab_檢驗日期', 'Lab_報告日期', 'Lab_檢驗項目', 'Lab_檢驗值', 'Lab_表單號',\n",
       "       'Lab_申請號', '床號', '性別', '体重', '出院診斷_1', '出院診斷_2', '出院診斷_3', '出院診斷_4',\n",
       "       '出院診斷_5', '出院診斷_6', '出院診斷_7', '死亡日期', '時間', 'ICU', 'Death', '住院天數',\n",
       "       '住院日_next', '住院日_diff', '30D_A', '2022', 'Pneumonia_and_influenza',\n",
       "       'Other_upper_respiratory_infections',\n",
       "       'Chronic_obstructive_pulmonary_disease_and_bronchiectasis',\n",
       "       'Skin_and_subcutaneous_tissue_infections', 'Necrotizing_fasciitis',\n",
       "       'Fever', 'Septicemia', 'Implant', 'PredValue', 'openTime', 'sendTime',\n",
       "       'Group_Strain', 'PredLevel', 'Resist_bool', '生日(年月日)1911', 'age',\n",
       "       'Respiratory', 'Cancer_Skin_and_soft_tissue', 'Primary_bacteremia'],\n",
       "      dtype='object')"
      ]
     },
     "execution_count": 175,
     "metadata": {},
     "output_type": "execute_result"
    }
   ],
   "source": [
    "BigMac.columns"
   ]
  },
  {
   "cell_type": "code",
   "execution_count": 176,
   "metadata": {},
   "outputs": [
    {
     "ename": "NameError",
     "evalue": "name 'Respiratory' is not defined",
     "output_type": "error",
     "traceback": [
      "\u001b[1;31m---------------------------------------------------------------------------\u001b[0m",
      "\u001b[1;31mNameError\u001b[0m                                 Traceback (most recent call last)",
      "\u001b[1;32mc:\\Users\\User\\VSCode\\CMUH\\SA_paper.ipynb Cell 34'\u001b[0m in \u001b[0;36m<module>\u001b[1;34m\u001b[0m\n\u001b[1;32m----> <a href='vscode-notebook-cell:/c%3A/Users/User/VSCode/CMUH/SA_paper.ipynb#ch0000033?line=0'>1</a>\u001b[0m l \u001b[39m=\u001b[39m [Gender, Age, Over18, ICU, Respiratory, Cancer_Skin_and_soft_tissue, Primary_bacteremia, Implant,\n\u001b[0;32m      <a href='vscode-notebook-cell:/c%3A/Users/User/VSCode/CMUH/SA_paper.ipynb#ch0000033?line=1'>2</a>\u001b[0m      AI, Bacterial_Positive, Length_of_Stay, Length_of_Stay_Exam]\n\u001b[0;32m      <a href='vscode-notebook-cell:/c%3A/Users/User/VSCode/CMUH/SA_paper.ipynb#ch0000033?line=2'>3</a>\u001b[0m \u001b[39mfor\u001b[39;00m i \u001b[39min\u001b[39;00m \u001b[39mrange\u001b[39m(\u001b[39mlen\u001b[39m(l)):\n\u001b[0;32m      <a href='vscode-notebook-cell:/c%3A/Users/User/VSCode/CMUH/SA_paper.ipynb#ch0000033?line=3'>4</a>\u001b[0m     table_1_list \u001b[39m=\u001b[39m pd\u001b[39m.\u001b[39mmerge(table_1_list, l[i], how\u001b[39m=\u001b[39m\u001b[39m'\u001b[39m\u001b[39minner\u001b[39m\u001b[39m'\u001b[39m, on\u001b[39m=\u001b[39m\u001b[39m'\u001b[39m\u001b[39m病歷號碼\u001b[39m\u001b[39m'\u001b[39m)\n",
      "\u001b[1;31mNameError\u001b[0m: name 'Respiratory' is not defined"
     ]
    }
   ],
   "source": [
    "l = [Gender, Age, Over18, ICU, Respiratory, Cancer_Skin_and_soft_tissue, Primary_bacteremia, Implant,\n",
    "     AI, Bacterial_Positive, Length_of_Stay, Length_of_Stay_Exam]\n",
    "for i in range(len(l)):\n",
    "    table_1_list = pd.merge(table_1_list, l[i], how='inner', on='病歷號碼')"
   ]
  },
  {
   "cell_type": "code",
   "execution_count": 177,
   "metadata": {},
   "outputs": [
    {
     "ename": "KeyError",
     "evalue": "'Gender'",
     "output_type": "error",
     "traceback": [
      "\u001b[1;31m---------------------------------------------------------------------------\u001b[0m",
      "\u001b[1;31mKeyError\u001b[0m                                  Traceback (most recent call last)",
      "File \u001b[1;32mc:\\Users\\User\\AppData\\Local\\Programs\\Python\\Python38\\lib\\site-packages\\pandas\\core\\indexes\\base.py:3621\u001b[0m, in \u001b[0;36mIndex.get_loc\u001b[1;34m(self, key, method, tolerance)\u001b[0m\n\u001b[0;32m   <a href='file:///c%3A/Users/User/AppData/Local/Programs/Python/Python38/lib/site-packages/pandas/core/indexes/base.py?line=3619'>3620</a>\u001b[0m \u001b[39mtry\u001b[39;00m:\n\u001b[1;32m-> <a href='file:///c%3A/Users/User/AppData/Local/Programs/Python/Python38/lib/site-packages/pandas/core/indexes/base.py?line=3620'>3621</a>\u001b[0m     \u001b[39mreturn\u001b[39;00m \u001b[39mself\u001b[39;49m\u001b[39m.\u001b[39;49m_engine\u001b[39m.\u001b[39;49mget_loc(casted_key)\n\u001b[0;32m   <a href='file:///c%3A/Users/User/AppData/Local/Programs/Python/Python38/lib/site-packages/pandas/core/indexes/base.py?line=3621'>3622</a>\u001b[0m \u001b[39mexcept\u001b[39;00m \u001b[39mKeyError\u001b[39;00m \u001b[39mas\u001b[39;00m err:\n",
      "File \u001b[1;32mc:\\Users\\User\\AppData\\Local\\Programs\\Python\\Python38\\lib\\site-packages\\pandas\\_libs\\index.pyx:136\u001b[0m, in \u001b[0;36mpandas._libs.index.IndexEngine.get_loc\u001b[1;34m()\u001b[0m\n",
      "File \u001b[1;32mc:\\Users\\User\\AppData\\Local\\Programs\\Python\\Python38\\lib\\site-packages\\pandas\\_libs\\index.pyx:163\u001b[0m, in \u001b[0;36mpandas._libs.index.IndexEngine.get_loc\u001b[1;34m()\u001b[0m\n",
      "File \u001b[1;32mpandas\\_libs\\hashtable_class_helper.pxi:5198\u001b[0m, in \u001b[0;36mpandas._libs.hashtable.PyObjectHashTable.get_item\u001b[1;34m()\u001b[0m\n",
      "File \u001b[1;32mpandas\\_libs\\hashtable_class_helper.pxi:5206\u001b[0m, in \u001b[0;36mpandas._libs.hashtable.PyObjectHashTable.get_item\u001b[1;34m()\u001b[0m\n",
      "\u001b[1;31mKeyError\u001b[0m: 'Gender'",
      "\nThe above exception was the direct cause of the following exception:\n",
      "\u001b[1;31mKeyError\u001b[0m                                  Traceback (most recent call last)",
      "\u001b[1;32mc:\\Users\\User\\VSCode\\CMUH\\SA_paper.ipynb Cell 35'\u001b[0m in \u001b[0;36m<module>\u001b[1;34m\u001b[0m\n\u001b[0;32m      <a href='vscode-notebook-cell:/c%3A/Users/User/VSCode/CMUH/SA_paper.ipynb#ch0000034?line=0'>1</a>\u001b[0m table_1_list\u001b[39m.\u001b[39mrename(columns\u001b[39m=\u001b[39m{\u001b[39m'\u001b[39m\u001b[39m性別\u001b[39m\u001b[39m'\u001b[39m:\u001b[39m'\u001b[39m\u001b[39mGender\u001b[39m\u001b[39m'\u001b[39m}, inplace\u001b[39m=\u001b[39m\u001b[39mTrue\u001b[39;00m)\n\u001b[1;32m----> <a href='vscode-notebook-cell:/c%3A/Users/User/VSCode/CMUH/SA_paper.ipynb#ch0000034?line=1'>2</a>\u001b[0m table_1_list[\u001b[39m'\u001b[39m\u001b[39mGender\u001b[39m\u001b[39m'\u001b[39m] \u001b[39m=\u001b[39m np\u001b[39m.\u001b[39mwhere(table_1_list[\u001b[39m'\u001b[39;49m\u001b[39mGender\u001b[39;49m\u001b[39m'\u001b[39;49m]\u001b[39m==\u001b[39m\u001b[39m2\u001b[39m, \u001b[39m'\u001b[39m\u001b[39mM\u001b[39m\u001b[39m'\u001b[39m, \u001b[39m'\u001b[39m\u001b[39mF\u001b[39m\u001b[39m'\u001b[39m)\n\u001b[0;32m      <a href='vscode-notebook-cell:/c%3A/Users/User/VSCode/CMUH/SA_paper.ipynb#ch0000034?line=3'>4</a>\u001b[0m table_1_list[\u001b[39m'\u001b[39m\u001b[39mBacterial_Positive\u001b[39m\u001b[39m'\u001b[39m] \u001b[39m=\u001b[39m np\u001b[39m.\u001b[39mwhere(table_1_list[\u001b[39m'\u001b[39m\u001b[39mBacterial_Positive\u001b[39m\u001b[39m'\u001b[39m]\u001b[39m==\u001b[39m\u001b[39m1\u001b[39m, \u001b[39m'\u001b[39m\u001b[39mMRSA\u001b[39m\u001b[39m'\u001b[39m, \u001b[39m'\u001b[39m\u001b[39mMSSA\u001b[39m\u001b[39m'\u001b[39m)\n",
      "File \u001b[1;32mc:\\Users\\User\\AppData\\Local\\Programs\\Python\\Python38\\lib\\site-packages\\pandas\\core\\frame.py:3505\u001b[0m, in \u001b[0;36mDataFrame.__getitem__\u001b[1;34m(self, key)\u001b[0m\n\u001b[0;32m   <a href='file:///c%3A/Users/User/AppData/Local/Programs/Python/Python38/lib/site-packages/pandas/core/frame.py?line=3502'>3503</a>\u001b[0m \u001b[39mif\u001b[39;00m \u001b[39mself\u001b[39m\u001b[39m.\u001b[39mcolumns\u001b[39m.\u001b[39mnlevels \u001b[39m>\u001b[39m \u001b[39m1\u001b[39m:\n\u001b[0;32m   <a href='file:///c%3A/Users/User/AppData/Local/Programs/Python/Python38/lib/site-packages/pandas/core/frame.py?line=3503'>3504</a>\u001b[0m     \u001b[39mreturn\u001b[39;00m \u001b[39mself\u001b[39m\u001b[39m.\u001b[39m_getitem_multilevel(key)\n\u001b[1;32m-> <a href='file:///c%3A/Users/User/AppData/Local/Programs/Python/Python38/lib/site-packages/pandas/core/frame.py?line=3504'>3505</a>\u001b[0m indexer \u001b[39m=\u001b[39m \u001b[39mself\u001b[39;49m\u001b[39m.\u001b[39;49mcolumns\u001b[39m.\u001b[39;49mget_loc(key)\n\u001b[0;32m   <a href='file:///c%3A/Users/User/AppData/Local/Programs/Python/Python38/lib/site-packages/pandas/core/frame.py?line=3505'>3506</a>\u001b[0m \u001b[39mif\u001b[39;00m is_integer(indexer):\n\u001b[0;32m   <a href='file:///c%3A/Users/User/AppData/Local/Programs/Python/Python38/lib/site-packages/pandas/core/frame.py?line=3506'>3507</a>\u001b[0m     indexer \u001b[39m=\u001b[39m [indexer]\n",
      "File \u001b[1;32mc:\\Users\\User\\AppData\\Local\\Programs\\Python\\Python38\\lib\\site-packages\\pandas\\core\\indexes\\base.py:3623\u001b[0m, in \u001b[0;36mIndex.get_loc\u001b[1;34m(self, key, method, tolerance)\u001b[0m\n\u001b[0;32m   <a href='file:///c%3A/Users/User/AppData/Local/Programs/Python/Python38/lib/site-packages/pandas/core/indexes/base.py?line=3620'>3621</a>\u001b[0m     \u001b[39mreturn\u001b[39;00m \u001b[39mself\u001b[39m\u001b[39m.\u001b[39m_engine\u001b[39m.\u001b[39mget_loc(casted_key)\n\u001b[0;32m   <a href='file:///c%3A/Users/User/AppData/Local/Programs/Python/Python38/lib/site-packages/pandas/core/indexes/base.py?line=3621'>3622</a>\u001b[0m \u001b[39mexcept\u001b[39;00m \u001b[39mKeyError\u001b[39;00m \u001b[39mas\u001b[39;00m err:\n\u001b[1;32m-> <a href='file:///c%3A/Users/User/AppData/Local/Programs/Python/Python38/lib/site-packages/pandas/core/indexes/base.py?line=3622'>3623</a>\u001b[0m     \u001b[39mraise\u001b[39;00m \u001b[39mKeyError\u001b[39;00m(key) \u001b[39mfrom\u001b[39;00m \u001b[39merr\u001b[39;00m\n\u001b[0;32m   <a href='file:///c%3A/Users/User/AppData/Local/Programs/Python/Python38/lib/site-packages/pandas/core/indexes/base.py?line=3623'>3624</a>\u001b[0m \u001b[39mexcept\u001b[39;00m \u001b[39mTypeError\u001b[39;00m:\n\u001b[0;32m   <a href='file:///c%3A/Users/User/AppData/Local/Programs/Python/Python38/lib/site-packages/pandas/core/indexes/base.py?line=3624'>3625</a>\u001b[0m     \u001b[39m# If we have a listlike key, _check_indexing_error will raise\u001b[39;00m\n\u001b[0;32m   <a href='file:///c%3A/Users/User/AppData/Local/Programs/Python/Python38/lib/site-packages/pandas/core/indexes/base.py?line=3625'>3626</a>\u001b[0m     \u001b[39m#  InvalidIndexError. Otherwise we fall through and re-raise\u001b[39;00m\n\u001b[0;32m   <a href='file:///c%3A/Users/User/AppData/Local/Programs/Python/Python38/lib/site-packages/pandas/core/indexes/base.py?line=3626'>3627</a>\u001b[0m     \u001b[39m#  the TypeError.\u001b[39;00m\n\u001b[0;32m   <a href='file:///c%3A/Users/User/AppData/Local/Programs/Python/Python38/lib/site-packages/pandas/core/indexes/base.py?line=3627'>3628</a>\u001b[0m     \u001b[39mself\u001b[39m\u001b[39m.\u001b[39m_check_indexing_error(key)\n",
      "\u001b[1;31mKeyError\u001b[0m: 'Gender'"
     ]
    }
   ],
   "source": [
    "table_1_list.rename(columns={'性別':'Gender'}, inplace=True)\n",
    "table_1_list['Gender'] = np.where(table_1_list['Gender']==2, 'M', 'F')\n",
    "\n",
    "table_1_list['Bacterial_Positive'] = np.where(table_1_list['Bacterial_Positive']==1, 'MRSA', 'MSSA')\n"
   ]
  },
  {
   "cell_type": "code",
   "execution_count": 178,
   "metadata": {},
   "outputs": [],
   "source": [
    "# table_1_list.to_excel(r'C:\\Users\\User\\VSCode\\CDSS\\output\\CDSS_TableOneOneOne.xlsx', index=False)"
   ]
  },
  {
   "cell_type": "code",
   "execution_count": 179,
   "metadata": {},
   "outputs": [],
   "source": [
    "guaguabao = pd.read_excel(r'C:\\Users\\User\\VSCode\\CDSS\\source\\呱呱包.xlsx', dtype={'病歷號碼':'str'})"
   ]
  },
  {
   "cell_type": "code",
   "execution_count": 180,
   "metadata": {},
   "outputs": [
    {
     "data": {
      "text/plain": [
       "Index(['表單號', '住院號', '申請編號', '病歷號碼', '生日(年月日)', '主診斷1', '診斷2', '診斷3', '診斷4',\n",
       "       '診斷5', '開單醫師', '開單科別', '病房', '住院日', '出院日', '申請日', '採檢日', '簽收日', '報告日',\n",
       "       '項目代碼', '項目名稱', '來源', '檢體', '菌名', 'strain', 'bed', '檢驗部收到時間', '發報告時間',\n",
       "       '參考值', 'Lab_檢驗日期', 'Lab_報告日期', 'Lab_檢驗項目', 'Lab_檢驗值', 'Lab_表單號',\n",
       "       'Lab_申請號', '床號', '性別', '体重', '出院診斷_1', '出院診斷_2', '出院診斷_3', '出院診斷_4',\n",
       "       '出院診斷_5', '出院診斷_6', '出院診斷_7', '死亡日期', '時間', 'ICU', 'Death', '住院天數'],\n",
       "      dtype='object')"
      ]
     },
     "execution_count": 180,
     "metadata": {},
     "output_type": "execute_result"
    }
   ],
   "source": [
    "guaguabao.columns"
   ]
  },
  {
   "cell_type": "code",
   "execution_count": 181,
   "metadata": {},
   "outputs": [
    {
     "data": {
      "text/plain": [
       "6281"
      ]
     },
     "execution_count": 181,
     "metadata": {},
     "output_type": "execute_result"
    }
   ],
   "source": [
    "guaguabao.病歷號碼.drop_duplicates().count()"
   ]
  },
  {
   "cell_type": "code",
   "execution_count": 182,
   "metadata": {},
   "outputs": [
    {
     "data": {
      "text/plain": [
       "病歷號碼    1259\n",
       "住院號     1259\n",
       "dtype: int64"
      ]
     },
     "execution_count": 182,
     "metadata": {},
     "output_type": "execute_result"
    }
   ],
   "source": [
    "TableMac[['病歷號碼' ,'住院號']].drop_duplicates().count()"
   ]
  },
  {
   "cell_type": "code",
   "execution_count": 183,
   "metadata": {},
   "outputs": [
    {
     "data": {
      "text/plain": [
       "73"
      ]
     },
     "execution_count": 183,
     "metadata": {},
     "output_type": "execute_result"
    }
   ],
   "source": [
    "TableMac[~(TableMac.AI==0)].病歷號碼.drop_duplicates().count()"
   ]
  },
  {
   "cell_type": "code",
   "execution_count": 184,
   "metadata": {},
   "outputs": [
    {
     "data": {
      "text/plain": [
       "Index(['表單號', '住院號', '申請編號', '病歷號碼', '生日(年月日)', '主診斷1', '診斷2', '診斷3', '診斷4',\n",
       "       '診斷5', '開單醫師', '開單科別', '病房', '住院日', '出院日', '申請日', '採檢日', '簽收日', '報告日',\n",
       "       '項目代碼', '項目名稱', '來源', '檢體', '菌名', 'strain', 'bed', '檢驗部收到時間', '發報告時間',\n",
       "       '參考值', 'Lab_檢驗日期', 'Lab_報告日期', 'Lab_檢驗項目', 'Lab_檢驗值', 'Lab_表單號',\n",
       "       'Lab_申請號', '床號', '性別', '体重', '出院診斷_1', '出院診斷_2', '出院診斷_3', '出院診斷_4',\n",
       "       '出院診斷_5', '出院診斷_6', '出院診斷_7', '死亡日期', '時間', 'ICU', 'Death', '住院天數',\n",
       "       '住院日_next', '住院日_diff', '30D_A', '2022', 'Pneumonia_and_influenza',\n",
       "       'Other_upper_respiratory_infections',\n",
       "       'Chronic_obstructive_pulmonary_disease_and_bronchiectasis',\n",
       "       'Skin_and_subcutaneous_tissue_infections', 'Necrotizing_fasciitis',\n",
       "       'Fever', 'Septicemia', 'Implant', 'PredValue', 'openTime', 'sendTime',\n",
       "       'Group_Strain', 'PredLevel', 'Resist_bool', '生日(年月日)1911', 'age',\n",
       "       'Respiratory', 'Cancer_Skin_and_soft_tissue', 'Primary_bacteremia',\n",
       "       'Over18', 'AI', 'Bacterial', 'Bacterial_Positive', 'Age', 'ICU_sum'],\n",
       "      dtype='object')"
      ]
     },
     "execution_count": 184,
     "metadata": {},
     "output_type": "execute_result"
    }
   ],
   "source": [
    "TableMac.columns"
   ]
  },
  {
   "cell_type": "code",
   "execution_count": 256,
   "metadata": {},
   "outputs": [
    {
     "data": {
      "text/plain": [
       "592"
      ]
     },
     "execution_count": 256,
     "metadata": {},
     "output_type": "execute_result"
    }
   ],
   "source": [
    "# TableMac[TableMac.Bacterial_Positive==1].病歷號碼.drop_duplicates().count()\n",
    "# TableMac[TableMac['菌名']=='Staphylococcus aureus(MRSA)'].病歷號碼.drop_duplicates().count()"
   ]
  },
  {
   "cell_type": "code",
   "execution_count": 12,
   "metadata": {},
   "outputs": [
    {
     "data": {
      "text/plain": [
       "592"
      ]
     },
     "execution_count": 12,
     "metadata": {},
     "output_type": "execute_result"
    }
   ],
   "source": [
    "ExamDay_MRSA.病歷號碼.drop_duplicates().count()"
   ]
  },
  {
   "cell_type": "code",
   "execution_count": 8,
   "metadata": {},
   "outputs": [],
   "source": [
    "aabbcc = TableMac[['病歷號碼', '住院號']].drop_duplicates()\n",
    "\n",
    "aabbcc['A_Count'] = aabbcc.groupby(['病歷號碼'])['住院號'].rank(method=\"first\", ascending=True)\n",
    "\n",
    "aabbcc['Patient_Code'] = aabbcc.病歷號碼.astype('str') + '_' + aabbcc.A_Count.astype('int').astype('str')\n",
    "\n",
    "TableMac_MRSA = pd.merge(TableMac[TableMac.Bacterial_Positive==1], aabbcc, how='left', on=['病歷號碼', '住院號'])\n"
   ]
  },
  {
   "cell_type": "code",
   "execution_count": 276,
   "metadata": {},
   "outputs": [],
   "source": [
    "TableMac = pd.merge(TableMac, Stay_MMRSA[['病歷號碼', '住院號', '住院日_diff', 'Over30_Stay']], how='left', on=['病歷號碼', '住院號'])"
   ]
  },
  {
   "cell_type": "code",
   "execution_count": 285,
   "metadata": {},
   "outputs": [
    {
     "name": "stdout",
     "output_type": "stream",
     "text": [
      "47\n",
      "571\n"
     ]
    }
   ],
   "source": [
    "print(TableMac[(TableMac.Bacterial_Positive == 1) & (TableMac.AI == 1)].病歷號碼.drop_duplicates().count())\n",
    "print(TableMac[(TableMac.Bacterial_Positive == 1) & (TableMac.AI == 0)].病歷號碼.drop_duplicates().count())\n",
    "# \n",
    "# "
   ]
  },
  {
   "cell_type": "code",
   "execution_count": 278,
   "metadata": {},
   "outputs": [
    {
     "data": {
      "text/plain": [
       "Index(['表單號', '住院號', '申請編號', '病歷號碼', '生日(年月日)', '主診斷1', '診斷2', '診斷3', '診斷4',\n",
       "       '診斷5', '開單醫師', '開單科別', '病房', '住院日', '出院日', '申請日', '採檢日', '簽收日', '報告日',\n",
       "       '項目代碼', '項目名稱', '來源', '檢體', '菌名', 'strain', 'bed', '檢驗部收到時間', '發報告時間',\n",
       "       '參考值', 'Lab_檢驗日期', 'Lab_報告日期', 'Lab_檢驗項目', 'Lab_檢驗值', 'Lab_表單號',\n",
       "       'Lab_申請號', '床號', '性別', '体重', '出院診斷_1', '出院診斷_2', '出院診斷_3', '出院診斷_4',\n",
       "       '出院診斷_5', '出院診斷_6', '出院診斷_7', '死亡日期', '時間', 'ICU', 'Death', '住院天數',\n",
       "       '住院日_next', '住院日_diff_x', '30D_A', '2022', 'Pneumonia_and_influenza',\n",
       "       'Other_upper_respiratory_infections',\n",
       "       'Chronic_obstructive_pulmonary_disease_and_bronchiectasis',\n",
       "       'Skin_and_subcutaneous_tissue_infections', 'Necrotizing_fasciitis',\n",
       "       'Fever', 'Septicemia', 'Implant', 'PredValue', 'openTime', 'sendTime',\n",
       "       'Group_Strain', 'PredLevel', 'Resist_bool', '生日(年月日)1911', 'age',\n",
       "       'Respiratory', 'Cancer_Skin_and_soft_tissue', 'Primary_bacteremia',\n",
       "       'Over18', 'AI', 'Bacterial', 'Bacterial_Positive', 'Age', 'A_Count_x',\n",
       "       'A_Count_y', 'Patient_Code', '住院日_diff_y', 'Over30_Stay'],\n",
       "      dtype='object')"
      ]
     },
     "execution_count": 278,
     "metadata": {},
     "output_type": "execute_result"
    }
   ],
   "source": [
    "TableMac.columns"
   ]
  },
  {
   "cell_type": "code",
   "execution_count": 3,
   "metadata": {},
   "outputs": [
    {
     "data": {
      "text/plain": [
       "593"
      ]
     },
     "execution_count": 3,
     "metadata": {},
     "output_type": "execute_result"
    }
   ],
   "source": [
    "TableMac[TableMac['Bacterial_Positive']==1].病歷號碼.drop_duplicates().count()"
   ]
  },
  {
   "cell_type": "code",
   "execution_count": null,
   "metadata": {},
   "outputs": [],
   "source": []
  }
 ],
 "metadata": {
  "interpreter": {
   "hash": "f544ce1a915a9875fad91c894e2c0bcad4b7a79945aa6027ef3ad27810072aa6"
  },
  "kernelspec": {
   "display_name": "Python 3.8.6 64-bit",
   "language": "python",
   "name": "python3"
  },
  "language_info": {
   "codemirror_mode": {
    "name": "ipython",
    "version": 3
   },
   "file_extension": ".py",
   "mimetype": "text/x-python",
   "name": "python",
   "nbconvert_exporter": "python",
   "pygments_lexer": "ipython3",
   "version": "3.8.6"
  },
  "orig_nbformat": 4
 },
 "nbformat": 4,
 "nbformat_minor": 2
}
