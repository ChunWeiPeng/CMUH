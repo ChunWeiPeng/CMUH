{
 "cells": [
  {
   "cell_type": "code",
   "execution_count": 1,
   "metadata": {},
   "outputs": [],
   "source": [
    "import numpy as np\n",
    "import pandas as pd\n",
    "from datetime import datetime\n",
    "from datetime import date"
   ]
  },
  {
   "cell_type": "code",
   "execution_count": 2,
   "metadata": {},
   "outputs": [],
   "source": [
    "mdro = pd.read_excel(r'C:\\Users\\User\\VSCode\\CDSS\\output\\CDSS_0502.xlsx', dtype={'病歷號碼':'str'})\n",
    "mdro.openTime = pd.to_datetime(mdro.openTime)\n",
    "mdro_0331 = mdro[mdro.openTime < pd.to_datetime('2022-04-01 00:00')]"
   ]
  },
  {
   "cell_type": "code",
   "execution_count": 3,
   "metadata": {},
   "outputs": [
    {
     "data": {
      "text/plain": [
       "Index(['病歷號碼', 'bed', '就醫序號', '申請編號', 'strain', '部位', '抗藥性菌株', 'examTime',\n",
       "       'reportTime', 'openTime', '菌株', 'PredValue', 'sendTime',\n",
       "       'miniTime_Open', '性別', '生日', 'Age', '來院日期', '離院日期', '天數', '科別代碼', '科別',\n",
       "       'MaxTime_leave', 'PredLevel', 'Group_Strain', 'examDate',\n",
       "       'Resist_bool'],\n",
       "      dtype='object')"
      ]
     },
     "execution_count": 3,
     "metadata": {},
     "output_type": "execute_result"
    }
   ],
   "source": [
    "mdro.columns"
   ]
  },
  {
   "cell_type": "code",
   "execution_count": 4,
   "metadata": {},
   "outputs": [
    {
     "data": {
      "text/plain": [
       "458"
      ]
     },
     "execution_count": 4,
     "metadata": {},
     "output_type": "execute_result"
    }
   ],
   "source": [
    "mdro_0331.病歷號碼.drop_duplicates().count()"
   ]
  },
  {
   "cell_type": "code",
   "execution_count": 5,
   "metadata": {},
   "outputs": [
    {
     "name": "stderr",
     "output_type": "stream",
     "text": [
      "C:\\Users\\User\\AppData\\Local\\Temp\\ipykernel_16060\\406782294.py:1: UserWarning: Boolean Series key will be reindexed to match DataFrame index.\n",
      "  mdro_0331[mdro['Group_Strain']=='Staphylococcus aureus'].病歷號碼.drop_duplicates().count()\n"
     ]
    },
    {
     "data": {
      "text/plain": [
       "80"
      ]
     },
     "execution_count": 5,
     "metadata": {},
     "output_type": "execute_result"
    }
   ],
   "source": [
    "mdro_0331[mdro['Group_Strain']=='Staphylococcus aureus'].病歷號碼.drop_duplicates().count()"
   ]
  },
  {
   "cell_type": "markdown",
   "metadata": {},
   "source": [
    "2022/05/12"
   ]
  },
  {
   "cell_type": "code",
   "execution_count": 31,
   "metadata": {},
   "outputs": [],
   "source": [
    "BigMac = pd.read_excel(r'C:\\Users\\User\\VSCode\\CDSS\\output\\大大大麥克.xlsx', dtype={'病歷號碼':'str'}) "
   ]
  },
  {
   "cell_type": "markdown",
   "metadata": {},
   "source": [
    "Big Mac Columns"
   ]
  },
  {
   "cell_type": "code",
   "execution_count": 152,
   "metadata": {},
   "outputs": [
    {
     "data": {
      "text/plain": [
       "Index(['表單號', '住院號', '申請編號', '病歷號碼', '生日(年月日)', '主診斷1', '診斷2', '診斷3', '診斷4',\n",
       "       '診斷5', '開單醫師', '開單科別', '病房', '住院日', '出院日', '申請日', '採檢日', '簽收日', '報告日',\n",
       "       '項目代碼', '項目名稱', '來源', '檢體', '菌名', 'strain', 'bed', '檢驗部收到時間', '發報告時間',\n",
       "       '參考值', 'Lab_檢驗日期', 'Lab_報告日期', 'Lab_檢驗項目', 'Lab_檢驗值', 'Lab_表單號',\n",
       "       'Lab_申請號', '床號', '性別', '体重', '出院診斷_1', '出院診斷_2', '出院診斷_3', '出院診斷_4',\n",
       "       '出院診斷_5', '出院診斷_6', '出院診斷_7', '死亡日期', '時間', 'ICU', 'Death', '住院天數',\n",
       "       '住院日_next', '住院日_diff', '30D_A', '2022', 'Pneumonia_and_influenza',\n",
       "       'Other_upper_respiratory_infections',\n",
       "       'Chronic_obstructive_pulmonary_disease_and_bronchiectasis',\n",
       "       'Skin_and_subcutaneous_tissue_infections', 'Necrotizing_fasciitis',\n",
       "       'Fever', 'Septicemia', 'Implant', 'PredValue', 'openTime', 'sendTime',\n",
       "       'Group_Strain', 'PredLevel', 'Resist_bool', '生日(年月日)1911', 'age',\n",
       "       'Respiratory', 'Cancer_Skin_and_soft_tissue', 'Primary_bacteremia'],\n",
       "      dtype='object')"
      ]
     },
     "execution_count": 152,
     "metadata": {},
     "output_type": "execute_result"
    }
   ],
   "source": [
    "BigMac.columns"
   ]
  },
  {
   "cell_type": "code",
   "execution_count": 155,
   "metadata": {},
   "outputs": [],
   "source": [
    "# BigMac[BigMac['2022']==0][['病歷號碼', '住院號']].drop_duplicates().to_excel(r'C:\\Users\\User\\VSCode\\CDSS\\output\\智抗菌住院病人費用_2021名單.xlsx', index=False)"
   ]
  },
  {
   "cell_type": "code",
   "execution_count": 8,
   "metadata": {},
   "outputs": [
    {
     "name": "stderr",
     "output_type": "stream",
     "text": [
      "C:\\Users\\User\\AppData\\Local\\Temp\\ipykernel_16060\\3741624798.py:4: SettingWithCopyWarning: \n",
      "A value is trying to be set on a copy of a slice from a DataFrame.\n",
      "Try using .loc[row_indexer,col_indexer] = value instead\n",
      "\n",
      "See the caveats in the documentation: https://pandas.pydata.org/pandas-docs/stable/user_guide/indexing.html#returning-a-view-versus-a-copy\n",
      "  BBigMac['Over18'] = np.where((BigMac.age > 18), 1, 0)\n"
     ]
    }
   ],
   "source": [
    "BBigMac = BigMac[['病歷號碼', 'age', '性別', 'ICU', 'Death', '2022', 'Implant','PredValue', 'Group_Strain',\n",
    "                  'Respiratory', 'Cancer_Skin_and_soft_tissue', 'Primary_bacteremia']]\n",
    "\n",
    "BBigMac['Over18'] = np.where((BigMac.age > 18), 1, 0)"
   ]
  },
  {
   "cell_type": "code",
   "execution_count": 9,
   "metadata": {},
   "outputs": [],
   "source": [
    "Mac_2021 = BBigMac[(BigMac['2022'] == 0)].drop_duplicates()\n",
    "Mac_2022 = BBigMac[~(BigMac['2022'] == 0)].drop_duplicates()\n",
    "Mac_2022 = Mac_2022[Mac_2022.PredValue.notnull()==True]"
   ]
  },
  {
   "cell_type": "code",
   "execution_count": 10,
   "metadata": {},
   "outputs": [
    {
     "name": "stdout",
     "output_type": "stream",
     "text": [
      "2021:\n",
      "921\n",
      "2022:\n",
      "73\n"
     ]
    }
   ],
   "source": [
    "print('2021:')\n",
    "print(Mac_2021.病歷號碼.drop_duplicates().count())\n",
    "print('2022:')\n",
    "print(Mac_2022.病歷號碼.drop_duplicates().count())"
   ]
  },
  {
   "cell_type": "code",
   "execution_count": 11,
   "metadata": {},
   "outputs": [
    {
     "data": {
      "text/plain": [
       "1    825\n",
       "0     96\n",
       "Name: Over18, dtype: int64"
      ]
     },
     "execution_count": 11,
     "metadata": {},
     "output_type": "execute_result"
    }
   ],
   "source": [
    "# Over 18\n",
    "Mac_2021[['病歷號碼','Over18']].drop_duplicates().Over18.value_counts()"
   ]
  },
  {
   "cell_type": "code",
   "execution_count": 12,
   "metadata": {},
   "outputs": [
    {
     "data": {
      "text/plain": [
       "0    869\n",
       "1     55\n",
       "Name: ICU, dtype: int64"
      ]
     },
     "execution_count": 12,
     "metadata": {},
     "output_type": "execute_result"
    }
   ],
   "source": [
    "# ICU\n",
    "Mac_2021[['病歷號碼','ICU']].drop_duplicates().ICU.value_counts()"
   ]
  },
  {
   "cell_type": "code",
   "execution_count": 13,
   "metadata": {},
   "outputs": [
    {
     "data": {
      "text/plain": [
       "1    561\n",
       "2    360\n",
       "Name: 性別, dtype: int64"
      ]
     },
     "execution_count": 13,
     "metadata": {},
     "output_type": "execute_result"
    }
   ],
   "source": [
    "# Gender\n",
    "Mac_2021[['病歷號碼','性別']].drop_duplicates().性別.value_counts()"
   ]
  },
  {
   "cell_type": "code",
   "execution_count": 14,
   "metadata": {},
   "outputs": [
    {
     "data": {
      "text/plain": [
       "0    771\n",
       "1    150\n",
       "Name: Respiratory, dtype: int64"
      ]
     },
     "execution_count": 14,
     "metadata": {},
     "output_type": "execute_result"
    }
   ],
   "source": [
    "# Respiratory\n",
    "Mac_2021[['病歷號碼','Respiratory']].drop_duplicates().Respiratory.value_counts()"
   ]
  },
  {
   "cell_type": "code",
   "execution_count": 15,
   "metadata": {},
   "outputs": [
    {
     "data": {
      "text/plain": [
       "0    899\n",
       "1     22\n",
       "Name: Implant, dtype: int64"
      ]
     },
     "execution_count": 15,
     "metadata": {},
     "output_type": "execute_result"
    }
   ],
   "source": [
    "# Implant\n",
    "Mac_2021[['病歷號碼','Implant']].drop_duplicates().Implant.value_counts()"
   ]
  },
  {
   "cell_type": "code",
   "execution_count": 16,
   "metadata": {},
   "outputs": [
    {
     "data": {
      "text/plain": [
       "0    621\n",
       "1    300\n",
       "Name: Cancer_Skin_and_soft_tissue, dtype: int64"
      ]
     },
     "execution_count": 16,
     "metadata": {},
     "output_type": "execute_result"
    }
   ],
   "source": [
    "# Cancer_Skin_and_soft_tissue\n",
    "Mac_2021[['病歷號碼','Cancer_Skin_and_soft_tissue']].drop_duplicates().Cancer_Skin_and_soft_tissue.value_counts()"
   ]
  },
  {
   "cell_type": "code",
   "execution_count": 17,
   "metadata": {},
   "outputs": [
    {
     "data": {
      "text/plain": [
       "0    608\n",
       "1    323\n",
       "Name: Primary_bacteremia, dtype: int64"
      ]
     },
     "execution_count": 17,
     "metadata": {},
     "output_type": "execute_result"
    }
   ],
   "source": [
    "# Primary_bacteremia\n",
    "Mac_2021['Primary_bacteremia'].value_counts()"
   ]
  },
  {
   "cell_type": "code",
   "execution_count": 18,
   "metadata": {},
   "outputs": [],
   "source": [
    "BB = BigMac[BigMac['2022'] == 0][['病歷號碼','檢體']].drop_duplicates()"
   ]
  },
  {
   "cell_type": "code",
   "execution_count": 19,
   "metadata": {},
   "outputs": [
    {
     "data": {
      "text/html": [
       "<div>\n",
       "<style scoped>\n",
       "    .dataframe tbody tr th:only-of-type {\n",
       "        vertical-align: middle;\n",
       "    }\n",
       "\n",
       "    .dataframe tbody tr th {\n",
       "        vertical-align: top;\n",
       "    }\n",
       "\n",
       "    .dataframe thead th {\n",
       "        text-align: right;\n",
       "    }\n",
       "</style>\n",
       "<table border=\"1\" class=\"dataframe\">\n",
       "  <thead>\n",
       "    <tr style=\"text-align: right;\">\n",
       "      <th></th>\n",
       "      <th>檢體</th>\n",
       "    </tr>\n",
       "  </thead>\n",
       "  <tbody>\n",
       "    <tr>\n",
       "      <th>DP</th>\n",
       "      <td>457</td>\n",
       "    </tr>\n",
       "    <tr>\n",
       "      <th>PUSS</th>\n",
       "      <td>236</td>\n",
       "    </tr>\n",
       "    <tr>\n",
       "      <th>B</th>\n",
       "      <td>153</td>\n",
       "    </tr>\n",
       "    <tr>\n",
       "      <th>SET</th>\n",
       "      <td>63</td>\n",
       "    </tr>\n",
       "    <tr>\n",
       "      <th>SOFTT</th>\n",
       "      <td>45</td>\n",
       "    </tr>\n",
       "    <tr>\n",
       "      <th>NPS</th>\n",
       "      <td>29</td>\n",
       "    </tr>\n",
       "    <tr>\n",
       "      <th>SCO</th>\n",
       "      <td>27</td>\n",
       "    </tr>\n",
       "    <tr>\n",
       "      <th>CA</th>\n",
       "      <td>27</td>\n",
       "    </tr>\n",
       "    <tr>\n",
       "      <th>UC</th>\n",
       "      <td>20</td>\n",
       "    </tr>\n",
       "    <tr>\n",
       "      <th>UM</th>\n",
       "      <td>16</td>\n",
       "    </tr>\n",
       "    <tr>\n",
       "      <th>BF</th>\n",
       "      <td>16</td>\n",
       "    </tr>\n",
       "    <tr>\n",
       "      <th>AS</th>\n",
       "      <td>12</td>\n",
       "    </tr>\n",
       "    <tr>\n",
       "      <th>AS(CAPD)</th>\n",
       "      <td>7</td>\n",
       "    </tr>\n",
       "    <tr>\n",
       "      <th>SP</th>\n",
       "      <td>7</td>\n",
       "    </tr>\n",
       "    <tr>\n",
       "      <th>JOIF</th>\n",
       "      <td>6</td>\n",
       "    </tr>\n",
       "    <tr>\n",
       "      <th>SBL</th>\n",
       "      <td>6</td>\n",
       "    </tr>\n",
       "    <tr>\n",
       "      <th>CSF</th>\n",
       "      <td>5</td>\n",
       "    </tr>\n",
       "    <tr>\n",
       "      <th>UPCN</th>\n",
       "      <td>4</td>\n",
       "    </tr>\n",
       "    <tr>\n",
       "      <th>BI</th>\n",
       "      <td>3</td>\n",
       "    </tr>\n",
       "    <tr>\n",
       "      <th>PUS</th>\n",
       "      <td>3</td>\n",
       "    </tr>\n",
       "    <tr>\n",
       "      <th>LYMN</th>\n",
       "      <td>3</td>\n",
       "    </tr>\n",
       "    <tr>\n",
       "      <th>PF</th>\n",
       "      <td>3</td>\n",
       "    </tr>\n",
       "    <tr>\n",
       "      <th>PL</th>\n",
       "      <td>2</td>\n",
       "    </tr>\n",
       "    <tr>\n",
       "      <th>BRA</th>\n",
       "      <td>2</td>\n",
       "    </tr>\n",
       "    <tr>\n",
       "      <th>TIP</th>\n",
       "      <td>1</td>\n",
       "    </tr>\n",
       "    <tr>\n",
       "      <th>EYE</th>\n",
       "      <td>1</td>\n",
       "    </tr>\n",
       "    <tr>\n",
       "      <th>TS</th>\n",
       "      <td>1</td>\n",
       "    </tr>\n",
       "    <tr>\n",
       "      <th>SI</th>\n",
       "      <td>1</td>\n",
       "    </tr>\n",
       "    <tr>\n",
       "      <th>BAL</th>\n",
       "      <td>1</td>\n",
       "    </tr>\n",
       "  </tbody>\n",
       "</table>\n",
       "</div>"
      ],
      "text/plain": [
       "           檢體\n",
       "DP        457\n",
       "PUSS      236\n",
       "B         153\n",
       "SET        63\n",
       "SOFTT      45\n",
       "NPS        29\n",
       "SCO        27\n",
       "CA         27\n",
       "UC         20\n",
       "UM         16\n",
       "BF         16\n",
       "AS         12\n",
       "AS(CAPD)    7\n",
       "SP          7\n",
       "JOIF        6\n",
       "SBL         6\n",
       "CSF         5\n",
       "UPCN        4\n",
       "BI          3\n",
       "PUS         3\n",
       "LYMN        3\n",
       "PF          3\n",
       "PL          2\n",
       "BRA         2\n",
       "TIP         1\n",
       "EYE         1\n",
       "TS          1\n",
       "SI          1\n",
       "BAL         1"
      ]
     },
     "execution_count": 19,
     "metadata": {},
     "output_type": "execute_result"
    }
   ],
   "source": [
    "pd.DataFrame(BB.檢體.value_counts())"
   ]
  },
  {
   "cell_type": "code",
   "execution_count": 20,
   "metadata": {},
   "outputs": [],
   "source": [
    "age = Mac_2021[['病歷號碼','Over18']].drop_duplicates()"
   ]
  },
  {
   "cell_type": "code",
   "execution_count": 21,
   "metadata": {},
   "outputs": [
    {
     "data": {
      "text/plain": [
       "1    825\n",
       "0     96\n",
       "Name: Over18, dtype: int64"
      ]
     },
     "execution_count": 21,
     "metadata": {},
     "output_type": "execute_result"
    }
   ],
   "source": [
    "age.Over18.value_counts()"
   ]
  },
  {
   "cell_type": "markdown",
   "metadata": {},
   "source": [
    "Table One "
   ]
  },
  {
   "cell_type": "code",
   "execution_count": 22,
   "metadata": {},
   "outputs": [],
   "source": [
    "# TableMac = BigMac.drop_duplicates().sort_values(['病歷號碼', '住院號', '住院日']).reset_index(drop=True)\n",
    "# TableMac['Over18'] = np.where(TableMac['age']>18, 1, 0)\n",
    "# TableMac['AI'] = np.where(((TableMac.PredValue.notnull()==False) | (TableMac['2022']==0)), 0, 1)\n",
    "# TableMac['Bacterial'] = np.where(TableMac['菌名']=='Staphylococcus aureus', 0, 1)\n",
    "# TableMac['Bacterial_Positive'] = TableMac.groupby(['病歷號碼', '住院號'])['Bacterial'].transform('sum')\n",
    "# TableMac['Bacterial_Positive'] = np.where(TableMac.Bacterial_Positive>=1, 1, 0)\n",
    "# TableMac['Age'] = TableMac.groupby('病歷號碼')['age'].transform('max')\n",
    "# TableMac = TableMac[TableMac.Age==TableMac.age]\n",
    "\n",
    "# TableMac['A_Count'] = TableMac.groupby(['病歷號碼', '住院號'])['住院號'].rank(method=\"first\", ascending=True)\n",
    "\n",
    "# TableMac.to_excel(r'C:\\Users\\User\\VSCode\\CDSS\\output\\無敵大麥克.xlsx', index=False)"
   ]
  },
  {
   "cell_type": "code",
   "execution_count": 9,
   "metadata": {},
   "outputs": [],
   "source": [
    "TableMac = pd.read_excel(r'C:\\Users\\User\\VSCode\\CDSS\\output\\無敵大麥克.xlsx', dtype={'病歷號碼':'str'})\n",
    "\n",
    "TableMac['ICU_sum'] = TableMac.groupby('病歷號碼')['ICU'].transform('sum')\n",
    "TableMac['ICU'] = np.where(TableMac['ICU_sum']>=1, 1, 0)\n",
    "TableMac['AI_Sum'] = TableMac.groupby(['病歷號碼', '住院號'])['AI'].transform('sum')\n",
    "TableMac['AI'] = np.where(TableMac['AI_Sum']>0, 1, 0)"
   ]
  },
  {
   "cell_type": "markdown",
   "metadata": {},
   "source": [
    "Encoding Patient Code"
   ]
  },
  {
   "cell_type": "code",
   "execution_count": 10,
   "metadata": {},
   "outputs": [],
   "source": [
    "aabbcc = TableMac[['病歷號碼', '住院號']].drop_duplicates()\n",
    "\n",
    "aabbcc['A_Count'] = aabbcc.groupby(['病歷號碼'])['住院號'].rank(method=\"first\", ascending=True)\n",
    "\n",
    "aabbcc['Patient_Code'] = aabbcc.病歷號碼.astype('str') + '_' + aabbcc.A_Count.astype('int').astype('str')\n",
    "\n",
    "aabbcc = aabbcc[['病歷號碼', '住院號', 'Patient_Code']]\n",
    "\n",
    "TableMac_MRSA = pd.merge(TableMac[TableMac.Bacterial_Positive==1], aabbcc, how='left', on=['病歷號碼', '住院號'])\n"
   ]
  },
  {
   "cell_type": "markdown",
   "metadata": {},
   "source": [
    "Date Processing"
   ]
  },
  {
   "cell_type": "code",
   "execution_count": 31,
   "metadata": {},
   "outputs": [],
   "source": [
    "Day = TableMac_MRSA[['病歷號碼', '住院號', '住院日', '出院日', '住院天數', 'Bacterial_Positive']].drop_duplicates().sort_values(['病歷號碼', '住院日']).reset_index(drop=True)\n",
    "Day['Length_of_Stay'] = Day.groupby('病歷號碼')['住院天數'].transform('sum')\n",
    "Day['住院日_next'] = Day.groupby('病歷號碼')['住院日'].shift(-1)\n",
    "Day['住院_Diff'] = (Day['住院日_next'] - Day['出院日']).dt.days\n",
    "Day['Over30_Stay_All'] = np.where(Day.住院_Diff >= 30, 1, 0)\n",
    "\n",
    "ExamDay = TableMac_MRSA[['病歷號碼', '住院號', '住院日', '採檢日', '出院日', 'Bacterial_Positive']].drop_duplicates().sort_values(['病歷號碼', '住院號', '採檢日']).reset_index(drop=True)\n",
    "ExamDay['採檢日_Earliest'] = ExamDay.groupby(['病歷號碼', '住院號'])['採檢日'].transform('min')\n",
    "# ExamDay = ExamDay[ExamDay.採檢日==ExamDay.採檢日_Earliest]\n",
    "# ExamDay['住院天數_Exam'] = (ExamDay.出院日 - ExamDay.採檢日).dt.days\n",
    "# ExamDay['Length_of_Stay_Exam'] = ExamDay.groupby('病歷號碼')['住院天數_Exam'].transform('sum')\n",
    "\n",
    "# drop whithout length of stay # 7 people\n",
    "# ExamDay = ExamDay[~(ExamDay.住院天數_Exam.isna())]\n",
    "\n",
    "## MRSA Exam\n",
    "ExamDay_MRSA = ExamDay[ExamDay.Bacterial_Positive==1]\n",
    "ExamDay_MRSA['採檢日_Next'] = ExamDay_MRSA.groupby(['病歷號碼', '出院日'])['採檢日'].shift(-1)\n",
    "ExamDay_MRSA['採檢日_diff'] = (ExamDay_MRSA['採檢日_Next']-ExamDay_MRSA['採檢日']).dt.days\n",
    "ExamDay_MRSA['Over30_Exam'] = np.where(ExamDay_MRSA['採檢日_diff']>=30, 1, 0)\n",
    "\n",
    "## MRSA 住離院\n",
    "Stay_MMRSA = ExamDay[ExamDay.Bacterial_Positive==1][['病歷號碼', '住院號', '住院日', '出院日']].drop_duplicates().sort_values(['病歷號碼', '住院號', '住院日'])\n",
    "Stay_MMRSA['住院日_Next'] = Stay_MMRSA.groupby(['病歷號碼'])['住院日'].shift(-1)\n",
    "Stay_MMRSA['住院日_diff'] = (Stay_MMRSA['住院日_Next']-Stay_MMRSA['出院日']).dt.days\n",
    "Stay_MMRSA['Over30_Stay'] = np.where(Stay_MMRSA['住院日_diff']>=30, 1, 0)"
   ]
  },
  {
   "cell_type": "markdown",
   "metadata": {},
   "source": [
    "Medicine Fee"
   ]
  },
  {
   "cell_type": "code",
   "execution_count": 21,
   "metadata": {},
   "outputs": [],
   "source": [
    "import msoffcrypto\n",
    "import io\n",
    "\n",
    "temp_1 = io.BytesIO()\n",
    "temp_2 = io.BytesIO()"
   ]
  },
  {
   "cell_type": "code",
   "execution_count": 22,
   "metadata": {},
   "outputs": [],
   "source": [
    "with open(r'C:\\Users\\User\\VSCode\\CDSS\\source\\智抗菌住院病人費用_2021名單.xlsx', 'rb') as f:\n",
    "    excel = msoffcrypto.OfficeFile(f)\n",
    "    excel.load_key('13226')\n",
    "    excel.decrypt(temp_1)\n",
    "    \n",
    "Fee_1 = pd.read_excel(temp_1, dtype={'病歷號':'str'}, sheet_name='醫療費用')\n",
    "del temp_1\n",
    "\n",
    "\n",
    "with open(r'C:\\Users\\User\\VSCode\\CDSS\\source\\智抗菌住院病人費用_1110523追加.xlsx', 'rb') as f:\n",
    "    excel = msoffcrypto.OfficeFile(f)\n",
    "    excel.load_key('13226')\n",
    "    excel.decrypt(temp_2)\n",
    "    \n",
    "Fee_2 = pd.read_excel(temp_2, dtype={'病歷號':'str'})\n",
    "del temp_2\n",
    "\n",
    "Fee = pd.concat([Fee_1, Fee_2]).sort_values(['住院號']).reset_index(drop=True)"
   ]
  },
  {
   "cell_type": "code",
   "execution_count": 32,
   "metadata": {},
   "outputs": [],
   "source": [
    "MRSA = pd.merge(Stay_MMRSA, aabbcc, how='left', on=['病歷號碼', '住院號'])\n",
    "MRSA = pd.merge(MRSA, Fee, how='left', on=['住院號'])\n",
    "MRSA_1 = MRSA[MRSA['Over30_Stay']==1].drop_duplicates()"
   ]
  },
  {
   "cell_type": "markdown",
   "metadata": {},
   "source": [
    "MRSA List"
   ]
  },
  {
   "cell_type": "code",
   "execution_count": 26,
   "metadata": {},
   "outputs": [],
   "source": [
    "# ExamDay_MRSA[ExamDay_MRSA['Over30_Exam']==1].病歷號碼.to_excel(r'C:\\Users\\User\\VSCode\\CDSS\\output\\Exam_Over30.xlsx', index=False)\n",
    "\n",
    "MRSA = pd.merge(Stay_MMRSA, aabbcc, how='left', on=['病歷號碼', '住院號'])\n",
    "MRSA = pd.merge(MRSA, Fee, how='left', on=['住院號'])\n",
    "MRSA_1 = MRSA[MRSA['Over30_Stay']==1].drop_duplicates()\n",
    "MRSA_1['Length of Stay'] = (MRSA_1.出院日 - MRSA_1.住院日).dt.days\n",
    "\n",
    "MRSA_2 = MRSA[~(MRSA['Over30_Stay']==1)].drop_duplicates()\n",
    "MRSA_2['Days of Stay'] = (MRSA_2.出院日 - MRSA_2.住院日).dt.days\n",
    "MRSA_2['醫療總費用'] = MRSA_2.groupby('病歷號碼')['醫療總費用'].transform('sum')\n",
    "MRSA_2['西藥費'] = MRSA_2.groupby('病歷號碼')['西藥費'].transform('sum')\n",
    "MRSA_2['Length of Stay'] = MRSA_2.groupby('病歷號碼')['Days of Stay'].transform('sum')\n",
    "MRSA_2['住院日_Mini'] = MRSA_2.groupby('病歷號碼')['住院日'].transform('min')\n",
    "MRSA_2 = MRSA_2[MRSA_2['住院日_Mini']==MRSA_2['住院日']][['病歷號碼', '住院號', '住院日', '出院日', '住院日_Next', '住院日_diff', 'Over30_Stay', 'Patient_Code', 'Length of Stay', '醫療總費用', '西藥費']]\n",
    "\n",
    "MRSA = pd.concat([MRSA_1, MRSA_2])\n",
    "MRSA = MRSA[['Patient_Code', '病歷號碼', '住院號', '住院日', '出院日', '住院日_diff', 'Over30_Stay', 'Length of Stay', '醫療總費用', '西藥費']].sort_values(['病歷號碼', '住院號']).reset_index(drop=True)\n",
    "MRSA['Count of Stay'] = MRSA.groupby(['病歷號碼'])['住院號'].rank(method=\"first\", ascending=True)\n",
    "\n",
    "\n",
    "# Length og Stay base on Exam Day\n",
    "MRSA_exam = pd.merge(MRSA, ExamDay_MRSA[['病歷號碼', '住院號', '採檢日_Earliest']].drop_duplicates(), how='left' , on=['病歷號碼', '住院號'])\n",
    "MRSA_exam['Length of Stay (Exam)'] = (MRSA_exam.出院日 - MRSA_exam.採檢日_Earliest).dt.days\n",
    "\n",
    "\n",
    "TableOne_MRSA = pd.merge(MRSA_exam, TableMac_MRSA[['Patient_Code', '性別', '死亡日期', 'ICU', 'Death', 'Over18', 'Bacterial_Positive', 'Age', 'AI']].drop_duplicates(), how='left' , on='Patient_Code')\n",
    "# TableOne_MRSA.to_excel(r'C:\\Users\\User\\VSCode\\CDSS\\output\\MRSA_TableOne.xlsx', index=False)"
   ]
  },
  {
   "cell_type": "code",
   "execution_count": null,
   "metadata": {},
   "outputs": [],
   "source": []
  },
  {
   "cell_type": "code",
   "execution_count": 27,
   "metadata": {},
   "outputs": [
    {
     "data": {
      "text/html": [
       "<div>\n",
       "<style scoped>\n",
       "    .dataframe tbody tr th:only-of-type {\n",
       "        vertical-align: middle;\n",
       "    }\n",
       "\n",
       "    .dataframe tbody tr th {\n",
       "        vertical-align: top;\n",
       "    }\n",
       "\n",
       "    .dataframe thead th {\n",
       "        text-align: right;\n",
       "    }\n",
       "</style>\n",
       "<table border=\"1\" class=\"dataframe\">\n",
       "  <thead>\n",
       "    <tr style=\"text-align: right;\">\n",
       "      <th></th>\n",
       "      <th>病歷號碼</th>\n",
       "      <th>AI</th>\n",
       "    </tr>\n",
       "  </thead>\n",
       "  <tbody>\n",
       "    <tr>\n",
       "      <th>20780</th>\n",
       "      <td>0021809094</td>\n",
       "      <td>1</td>\n",
       "    </tr>\n",
       "  </tbody>\n",
       "</table>\n",
       "</div>"
      ],
      "text/plain": [
       "             病歷號碼  AI\n",
       "20780  0021809094   1"
      ]
     },
     "execution_count": 27,
     "metadata": {},
     "output_type": "execute_result"
    }
   ],
   "source": [
    "# TableTable = (BigMac.PredValue.notnull()==True) | (BigMac['2022']==0)\n",
    "\n",
    "# table_1_list =pd.DataFrame({'病歷號碼':TableMac['病歷號碼'].drop_duplicates()})\n",
    "\n",
    "# Stay_MMRSA[Stay_MMRSA['Over30_Stay']==1].count()\n",
    "# TableMac[['病歷號碼', 'AI']].drop_duplicates().count()\n",
    "# TTT = TableMac[['病歷號碼', 'AI']].drop_duplicates()\n",
    "# TTT[TTT['病歷號碼'].duplicated()==True]\n",
    "# # TableMac[~(TableMac.PredValue.notnull()==False)].病歷號碼.drop_duplicates().count()\n",
    "# tt = TableMac_MRSA[['病歷號碼', 'AI']].drop_duplicates()\n",
    "# tt[tt['病歷號碼'].duplicated()==True]"
   ]
  },
  {
   "cell_type": "code",
   "execution_count": 28,
   "metadata": {},
   "outputs": [
    {
     "data": {
      "text/plain": [
       "Index(['表單號', '住院號', '申請編號', '病歷號碼', '生日(年月日)', '主診斷1', '診斷2', '診斷3', '診斷4',\n",
       "       '診斷5', '開單醫師', '開單科別', '病房', '住院日', '出院日', '申請日', '採檢日', '簽收日', '報告日',\n",
       "       '項目代碼', '項目名稱', '來源', '檢體', '菌名', 'strain', 'bed', '檢驗部收到時間', '發報告時間',\n",
       "       '參考值', 'Lab_檢驗日期', 'Lab_報告日期', 'Lab_檢驗項目', 'Lab_檢驗值', 'Lab_表單號',\n",
       "       'Lab_申請號', '床號', '性別', '体重', '出院診斷_1', '出院診斷_2', '出院診斷_3', '出院診斷_4',\n",
       "       '出院診斷_5', '出院診斷_6', '出院診斷_7', '死亡日期', '時間', 'ICU', 'Death', '住院天數',\n",
       "       '住院日_next', '住院日_diff', '30D_A', '2022', 'Pneumonia_and_influenza',\n",
       "       'Other_upper_respiratory_infections',\n",
       "       'Chronic_obstructive_pulmonary_disease_and_bronchiectasis',\n",
       "       'Skin_and_subcutaneous_tissue_infections', 'Necrotizing_fasciitis',\n",
       "       'Fever', 'Septicemia', 'Implant', 'PredValue', 'openTime', 'sendTime',\n",
       "       'Group_Strain', 'PredLevel', 'Resist_bool', '生日(年月日)1911', 'age',\n",
       "       'Respiratory', 'Cancer_Skin_and_soft_tissue', 'Primary_bacteremia',\n",
       "       'Over18', 'AI', 'Bacterial', 'Bacterial_Positive', 'Age', 'ICU_sum',\n",
       "       'AI_Sum', 'A_Count', 'Patient_Code'],\n",
       "      dtype='object')"
      ]
     },
     "execution_count": 28,
     "metadata": {},
     "output_type": "execute_result"
    }
   ],
   "source": [
    "TableMac_MRSA.columns"
   ]
  },
  {
   "cell_type": "code",
   "execution_count": 29,
   "metadata": {},
   "outputs": [],
   "source": [
    "# Gender = TableMac[['病歷號碼', '性別']].drop_duplicates()\n",
    "# Age = TableMac[['病歷號碼', 'Age']].drop_duplicates()\n",
    "# Over18 = TableMac[['病歷號碼', 'Over18']].drop_duplicates()\n",
    "# ICU = TableMac[['病歷號碼', 'ICU']].drop_duplicates()\n",
    "# Respiratory = TableMac[['病歷號碼', 'Respiratory']].drop_duplicates()\n",
    "# Cancer_Skin_and_soft_tissue = TableMac[['病歷號碼', 'Cancer_Skin_and_soft_tissue']].drop_duplicates()\n",
    "# Primary_bacteremia = TableMac[['病歷號碼', 'Primary_bacteremia']].drop_duplicates()\n",
    "# Implant = TableMac[['病歷號碼', 'Implant']].drop_duplicates()\n",
    "# AI = TableMac[['病歷號碼', 'AI']].drop_duplicates()\n",
    "# Bacterial_Positive = TableMac[['病歷號碼', 'Bacterial_Positive']].drop_duplicates()\n",
    "# Length_of_Stay = Day[['病歷號碼', 'Length_of_Stay']].drop_duplicates()\n",
    "# Length_of_Stay_Exam = ExamDay[['病歷號碼', 'Length_of_Stay_Exam']].drop_duplicates()"
   ]
  },
  {
   "cell_type": "code",
   "execution_count": 30,
   "metadata": {},
   "outputs": [],
   "source": [
    "# ExamDay[['病歷號碼', 'Length_of_Stay_Exam']].drop_duplicates().count()\n"
   ]
  },
  {
   "cell_type": "code",
   "execution_count": 31,
   "metadata": {},
   "outputs": [
    {
     "data": {
      "text/plain": [
       "Index(['表單號', '住院號', '申請編號', '病歷號碼', '生日(年月日)', '主診斷1', '診斷2', '診斷3', '診斷4',\n",
       "       '診斷5', '開單醫師', '開單科別', '病房', '住院日', '出院日', '申請日', '採檢日', '簽收日', '報告日',\n",
       "       '項目代碼', '項目名稱', '來源', '檢體', '菌名', 'strain', 'bed', '檢驗部收到時間', '發報告時間',\n",
       "       '參考值', 'Lab_檢驗日期', 'Lab_報告日期', 'Lab_檢驗項目', 'Lab_檢驗值', 'Lab_表單號',\n",
       "       'Lab_申請號', '床號', '性別', '体重', '出院診斷_1', '出院診斷_2', '出院診斷_3', '出院診斷_4',\n",
       "       '出院診斷_5', '出院診斷_6', '出院診斷_7', '死亡日期', '時間', 'ICU', 'Death', '住院天數',\n",
       "       '住院日_next', '住院日_diff', '30D_A', '2022', 'Pneumonia_and_influenza',\n",
       "       'Other_upper_respiratory_infections',\n",
       "       'Chronic_obstructive_pulmonary_disease_and_bronchiectasis',\n",
       "       'Skin_and_subcutaneous_tissue_infections', 'Necrotizing_fasciitis',\n",
       "       'Fever', 'Septicemia', 'Implant', 'PredValue', 'openTime', 'sendTime',\n",
       "       'Group_Strain', 'PredLevel', 'Resist_bool', '生日(年月日)1911', 'age',\n",
       "       'Respiratory', 'Cancer_Skin_and_soft_tissue', 'Primary_bacteremia'],\n",
       "      dtype='object')"
      ]
     },
     "execution_count": 31,
     "metadata": {},
     "output_type": "execute_result"
    }
   ],
   "source": [
    "BigMac.columns"
   ]
  },
  {
   "cell_type": "code",
   "execution_count": 132,
   "metadata": {},
   "outputs": [],
   "source": [
    "# l = [Gender, Age, Over18, ICU, Respiratory, Cancer_Skin_and_soft_tissue, Primary_bacteremia, Implant,\n",
    "#      AI, Bacterial_Positive, Length_of_Stay, Length_of_Stay_Exam]\n",
    "# for i in range(len(l)):\n",
    "#     table_1_list = pd.merge(table_1_list, l[i], how='inner', on='病歷號碼')"
   ]
  },
  {
   "cell_type": "code",
   "execution_count": 133,
   "metadata": {},
   "outputs": [],
   "source": [
    "# table_1_list.rename(columns={'性別':'Gender'}, inplace=True)\n",
    "# table_1_list['Gender'] = np.where(table_1_list['Gender']==2, 'M', 'F')\n",
    "\n",
    "# table_1_list['Bacterial_Positive'] = np.where(table_1_list['Bacterial_Positive']==1, 'MRSA', 'MSSA')\n"
   ]
  },
  {
   "cell_type": "code",
   "execution_count": null,
   "metadata": {},
   "outputs": [],
   "source": [
    "# table_1_list.to_excel(r'C:\\Users\\User\\VSCode\\CDSS\\output\\CDSS_TableOneOneOne.xlsx', index=False)"
   ]
  },
  {
   "cell_type": "code",
   "execution_count": 2,
   "metadata": {},
   "outputs": [],
   "source": [
    "guaguabao = pd.read_excel(r'C:\\Users\\User\\VSCode\\CDSS\\source\\Clean\\呱呱包.xlsx', dtype={'病歷號碼':'str'})"
   ]
  },
  {
   "cell_type": "code",
   "execution_count": 4,
   "metadata": {},
   "outputs": [
    {
     "data": {
      "text/plain": [
       "Index(['表單號', '住院號', '申請編號', '病歷號碼', '生日(年月日)', '主診斷1', '診斷2', '診斷3', '診斷4',\n",
       "       '診斷5', '開單醫師', '開單科別', '病房', '住院日', '出院日', '申請日', '採檢日', '簽收日', '報告日',\n",
       "       '項目代碼', '項目名稱', '來源', '檢體', '菌名', 'strain', 'bed', '檢驗部收到時間', '發報告時間',\n",
       "       '參考值', 'Lab_檢驗日期', 'Lab_報告日期', 'Lab_檢驗項目', 'Lab_檢驗值', 'Lab_表單號',\n",
       "       'Lab_申請號', '床號', '性別', '体重', '出院診斷_1', '出院診斷_2', '出院診斷_3', '出院診斷_4',\n",
       "       '出院診斷_5', '出院診斷_6', '出院診斷_7', '死亡日期', '時間', 'ICU', 'Death', '住院天數'],\n",
       "      dtype='object')"
      ]
     },
     "execution_count": 4,
     "metadata": {},
     "output_type": "execute_result"
    }
   ],
   "source": [
    "guaguabao.columns"
   ]
  },
  {
   "cell_type": "code",
   "execution_count": 3,
   "metadata": {},
   "outputs": [
    {
     "data": {
      "text/plain": [
       "Klebsiella pneumoniae                            97000\n",
       "Enterococcus faecium(VRE)                        95647\n",
       "Acinetobacter baumannii                          92283\n",
       "Pseudomonas aeruginosa                           88643\n",
       "Escherichia coli                                 73512\n",
       "Staphylococcus aureus(MRSA)                      33473\n",
       "Enterococcus faecium                             23085\n",
       "Enterococcus faecalis                            19892\n",
       "Acinetobacter baumannii/calcoaceticus complex    13470\n",
       "Staphylococcus aureus                            13290\n",
       "Morganella morganii                               4909\n",
       "Enterococcus faecalis(VRE)                         425\n",
       "Name: 菌名, dtype: int64"
      ]
     },
     "execution_count": 3,
     "metadata": {},
     "output_type": "execute_result"
    }
   ],
   "source": [
    "guaguabao.菌名.value_counts()"
   ]
  },
  {
   "cell_type": "code",
   "execution_count": null,
   "metadata": {},
   "outputs": [],
   "source": [
    "guaguabao = guaguabao[['病歷號碼', '住院號', '採檢日', '菌名']]"
   ]
  },
  {
   "cell_type": "markdown",
   "metadata": {},
   "source": [
    "Multi Bacteria"
   ]
  },
  {
   "cell_type": "code",
   "execution_count": 27,
   "metadata": {},
   "outputs": [],
   "source": [
    "Jim = guaguabao[['病歷號碼', '住院號', '菌名']].drop_duplicates()\n",
    "\n",
    "Jim_condition = [\n",
    "    (Jim.菌名.isin(['Staphylococcus aureus(MRSA)', 'Staphylococcus aureus'])),\n",
    "    (Jim.菌名.isin(['Klebsiella pneumoniae'])),\n",
    "    (Jim.菌名.isin(['Enterococcus faecium(VRE)', 'Enterococcus faecium'])),\n",
    "    (Jim.菌名.isin(['Acinetobacter baumannii', 'Acinetobacter baumannii/calcoaceticus complex'])),\n",
    "    (Jim.菌名.isin(['Pseudomonas aeruginosa'])),\n",
    "    (Jim.菌名.isin(['Escherichia coli'])),\n",
    "    (Jim.菌名.isin(['Enterococcus faecalis', 'Enterococcus faecalis(VRE)'])),\n",
    "    (Jim.菌名.isin(['Morganella morganii']))\n",
    "]\n",
    "\n",
    "Jim_value = ['SA', 'KP', 'EF', 'AB', 'PA', 'ECL', 'EFC', 'MM'\n",
    "    \n",
    "]\n",
    "\n",
    "Jim['Group_Of_Bacteria'] = np.select(Jim_condition, Jim_value)\n",
    "\n",
    "Jim = Jim[['病歷號碼', 'Group_Of_Bacteria']].drop_duplicates()\n",
    "Jim['Count_Of_Bacteria'] = Jim.groupby('病歷號碼')['Group_Of_Bacteria'].transform('count')\n",
    "\n",
    "Jim = Jim[['病歷號碼', 'Count_Of_Bacteria']].drop_duplicates()\n",
    "\n",
    "\n",
    "TableOne_MRSA_Jim = pd.merge(TableOne_MRSA, Jim, how='left', on='病歷號碼')\n",
    "\n",
    "# TableOne_MRSA_Jim.to_excel(r'C:\\Users\\User\\VSCode\\CDSS\\output\\MRSA_TableOne.xlsx', index=False)"
   ]
  },
  {
   "cell_type": "markdown",
   "metadata": {},
   "source": [
    "2022-05-27 肝腎功能/體重"
   ]
  },
  {
   "cell_type": "code",
   "execution_count": 4,
   "metadata": {},
   "outputs": [],
   "source": [
    "BigMac = pd.read_excel(r'C:\\Users\\User\\VSCode\\CDSS\\source\\Clean\\呱呱包.xlsx', dtype={'病歷號碼':'str'})"
   ]
  },
  {
   "cell_type": "code",
   "execution_count": 43,
   "metadata": {},
   "outputs": [
    {
     "data": {
      "text/plain": [
       "658"
      ]
     },
     "execution_count": 43,
     "metadata": {},
     "output_type": "execute_result"
    }
   ],
   "source": [
    "Weight.住院號.drop_duplicates().count()"
   ]
  },
  {
   "cell_type": "code",
   "execution_count": 38,
   "metadata": {},
   "outputs": [],
   "source": [
    "LabValue_Weight = BigMac[BigMac.菌名.str.contains('MRSA')][['病歷號碼', '住院號', '体重', 'Lab_檢驗項目', 'Lab_檢驗值']].drop_duplicates().sort_values(['病歷號碼', '住院號'])\n",
    "LabValue_Weight = LabValue_Weight[(LabValue_Weight.Lab_檢驗項目=='CRE') | (LabValue_Weight.Lab_檢驗項目=='ALT')].drop_duplicates().reset_index(drop=True)"
   ]
  },
  {
   "cell_type": "code",
   "execution_count": 42,
   "metadata": {},
   "outputs": [],
   "source": [
    "Weight = BigMac[BigMac.菌名.str.contains('MRSA')][['病歷號碼', '住院號', '体重']].drop_duplicates() #658\n",
    "Lab_ALT = LabValue_Weight[LabValue_Weight.Lab_檢驗項目=='ALT'][['病歷號碼', '住院號', 'Lab_檢驗項目', 'Lab_檢驗值']].drop_duplicates()\n",
    "Lab_CRE = LabValue_Weight[LabValue_Weight.Lab_檢驗項目=='CRE'][['病歷號碼', '住院號', 'Lab_檢驗項目', 'Lab_檢驗值']].drop_duplicates()\n",
    "Lab_ALT['Lab_檢驗值'] = np.where(Lab_ALT['Lab_檢驗值'].str.contains('<3'), '2', Lab_ALT['Lab_檢驗值']).astype('float')\n",
    "Lab_CRE['Lab_檢驗值'] = np.where(Lab_CRE['Lab_檢驗值'].str.contains('<0.20'), '0.1', Lab_CRE['Lab_檢驗值']).astype('float')"
   ]
  },
  {
   "cell_type": "code",
   "execution_count": 45,
   "metadata": {},
   "outputs": [],
   "source": [
    "Lab_ALT['ALT'] =  Lab_ALT.groupby(['病歷號碼', '住院號'])['Lab_檢驗值'].transform('mean').map('{:,.2f}'.format)\n",
    "Lab_CRE['CRE'] =  Lab_CRE.groupby(['病歷號碼', '住院號'])['Lab_檢驗值'].transform('mean').map('{:,.2f}'.format)"
   ]
  },
  {
   "cell_type": "code",
   "execution_count": 46,
   "metadata": {},
   "outputs": [],
   "source": [
    "ALT = Lab_ALT[['病歷號碼', '住院號', 'ALT']].drop_duplicates() #525\n",
    "CRE = Lab_CRE[['病歷號碼', '住院號', 'CRE']].drop_duplicates() #272"
   ]
  },
  {
   "cell_type": "code",
   "execution_count": 47,
   "metadata": {},
   "outputs": [],
   "source": [
    "Weight_ALT = pd.merge(Weight, ALT, how ='left', on=['病歷號碼', '住院號'])\n",
    "Weight_ALT_CRE = pd.merge(Weight_ALT, CRE, how ='left', on=['病歷號碼', '住院號'])\n",
    "Weight_ALT_CRE.rename(columns = {'体重':'Weight'}, inplace = True)"
   ]
  },
  {
   "cell_type": "code",
   "execution_count": 49,
   "metadata": {},
   "outputs": [],
   "source": [
    "# Weight_ALT_CRE.to_excel(r'C:\\Users\\User\\VSCode\\CDSS\\source\\Clean\\Weight_ALT_CRE.xlsx', index=False)"
   ]
  },
  {
   "cell_type": "code",
   "execution_count": 34,
   "metadata": {},
   "outputs": [],
   "source": [
    "MRSA550 = pd.read_excel(r'C:\\Users\\User\\VSCode\\CDSS\\source\\Clean\\MRSA_TableOne(550).xlsx', dtype={'病歷號碼':'str'})"
   ]
  },
  {
   "cell_type": "code",
   "execution_count": 48,
   "metadata": {},
   "outputs": [],
   "source": [
    "MRSA = pd.merge(MRSA550, Weight_ALT_CRE, how ='left', on=['病歷號碼', '住院號'])"
   ]
  },
  {
   "cell_type": "code",
   "execution_count": 50,
   "metadata": {},
   "outputs": [],
   "source": [
    "# MRSA.to_excel(r'C:\\Users\\User\\VSCode\\CDSS\\source\\Clean\\MRSA_Table_肝腎_0527.xlsx', index=False)"
   ]
  },
  {
   "cell_type": "code",
   "execution_count": null,
   "metadata": {},
   "outputs": [],
   "source": []
  },
  {
   "cell_type": "code",
   "execution_count": 40,
   "metadata": {},
   "outputs": [],
   "source": [
    "# TableMac[TableMac.Bacterial_Positive==1].病歷號碼.drop_duplicates().count()\n",
    "# TableMac[TableMac['菌名']=='Staphylococcus aureus(MRSA)'].病歷號碼.drop_duplicates().count()"
   ]
  },
  {
   "cell_type": "code",
   "execution_count": 41,
   "metadata": {},
   "outputs": [
    {
     "data": {
      "text/plain": [
       "593"
      ]
     },
     "execution_count": 41,
     "metadata": {},
     "output_type": "execute_result"
    }
   ],
   "source": [
    "ExamDay_MRSA.病歷號碼.drop_duplicates().count()"
   ]
  },
  {
   "cell_type": "code",
   "execution_count": 44,
   "metadata": {},
   "outputs": [
    {
     "name": "stdout",
     "output_type": "stream",
     "text": [
      "47\n",
      "547\n"
     ]
    }
   ],
   "source": [
    "print(TableMac[(TableMac.Bacterial_Positive == 1) & (TableMac.AI == 1)].病歷號碼.drop_duplicates().count())\n",
    "print(TableMac[(TableMac.Bacterial_Positive == 1) & (TableMac.AI == 0)].病歷號碼.drop_duplicates().count())\n",
    "\n",
    "# \n",
    "# "
   ]
  },
  {
   "cell_type": "code",
   "execution_count": 126,
   "metadata": {},
   "outputs": [
    {
     "name": "stderr",
     "output_type": "stream",
     "text": [
      "C:\\Users\\User\\AppData\\Local\\Temp\\ipykernel_16060\\1938162249.py:4: SettingWithCopyWarning: \n",
      "A value is trying to be set on a copy of a slice from a DataFrame.\n",
      "Try using .loc[row_indexer,col_indexer] = value instead\n",
      "\n",
      "See the caveats in the documentation: https://pandas.pydata.org/pandas-docs/stable/user_guide/indexing.html#returning-a-view-versus-a-copy\n",
      "  A['first_time'] = A.groupby('病歷號碼')['住院日'].transform('min')\n"
     ]
    }
   ],
   "source": [
    "# \n",
    "\n",
    "A = TableMac[TableMac['Bacterial_Positive'] == 1 ]\n",
    "C = A[A.Over30_Stay == 1][['住院號','病歷號碼']].drop_duplicates()\n",
    "\n",
    "A['first_time'] = A.groupby('病歷號碼')['住院日'].transform('min')\n",
    "A = A[A.first_time == A.住院日]\n",
    "test_Patient = A[['住院號','病歷號碼']].drop_duplicates()\n",
    "test_Patient['test_Patient_COde'] = test_Patient.病歷號碼 + '_1'\n",
    "\n",
    "\n",
    "C['A_Count'] = C.groupby(['病歷號碼'])['住院號'].rank(method=\"first\", ascending=True)\n",
    "C['A_Count'] = C['A_Count'] + 1\n",
    "C['test_Patient_COde'] = C.病歷號碼.astype('str') + '_' + C.A_Count.astype('int').astype('str')\n",
    "C = C.drop(columns=['A_Count'])\n",
    "\n",
    "\n",
    "\n",
    "test_Patient = pd.concat([test_Patient, C])\n",
    "test_Patient #593人 628筆"
   ]
  },
  {
   "cell_type": "code",
   "execution_count": null,
   "metadata": {},
   "outputs": [],
   "source": []
  }
 ],
 "metadata": {
  "interpreter": {
   "hash": "f544ce1a915a9875fad91c894e2c0bcad4b7a79945aa6027ef3ad27810072aa6"
  },
  "kernelspec": {
   "display_name": "Python 3.8.6 64-bit",
   "language": "python",
   "name": "python3"
  },
  "language_info": {
   "codemirror_mode": {
    "name": "ipython",
    "version": 3
   },
   "file_extension": ".py",
   "mimetype": "text/x-python",
   "name": "python",
   "nbconvert_exporter": "python",
   "pygments_lexer": "ipython3",
   "version": "3.8.6"
  },
  "orig_nbformat": 4
 },
 "nbformat": 4,
 "nbformat_minor": 2
}
