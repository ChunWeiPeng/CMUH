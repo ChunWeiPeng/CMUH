{
 "cells": [
  {
   "cell_type": "code",
   "execution_count": 1,
   "metadata": {},
   "outputs": [],
   "source": [
    "import msoffcrypto\n",
    "import io\n",
    "import pandas as pd\n",
    "from bs4 import BeautifulSoup\n",
    "import numpy as np\n",
    "\n",
    "# temp = io.BytesIO()"
   ]
  },
  {
   "cell_type": "markdown",
   "metadata": {},
   "source": [
    "Data Loading"
   ]
  },
  {
   "cell_type": "code",
   "execution_count": 3,
   "metadata": {},
   "outputs": [],
   "source": [
    "# with open(r'C:\\Users\\User\\VSCode\\CDSS\\source\\智抗菌住院病人資料.xlsx', 'rb') as f:\n",
    "#     excel = msoffcrypto.OfficeFile(f)\n",
    "#     excel.load_key('13226')\n",
    "#     excel.decrypt(temp)\n",
    "    \n",
    "# patient = pd.read_excel(temp, dtype={'病歷號':'str'})\n",
    "# del temp"
   ]
  },
  {
   "cell_type": "code",
   "execution_count": 4,
   "metadata": {},
   "outputs": [],
   "source": [
    "# df['出院診斷'].str.split('  ').str[1]"
   ]
  },
  {
   "cell_type": "code",
   "execution_count": 5,
   "metadata": {},
   "outputs": [],
   "source": [
    "# df['出院診斷']"
   ]
  },
  {
   "cell_type": "code",
   "execution_count": 9,
   "metadata": {},
   "outputs": [],
   "source": [
    "adm = pd.read_excel(r'C:\\Users\\User\\VSCode\\CDSS\\source\\admdata_1110422.xlsx').drop_duplicates()"
   ]
  },
  {
   "cell_type": "code",
   "execution_count": 7,
   "metadata": {},
   "outputs": [],
   "source": [
    "# Bac = pd.read_csv(r'C:\\Users\\User\\VSCode\\CDSS\\source\\Bac_utf8.txt', encoding='utf8', sep='|', dtype={'病歷號碼':'str'})\n",
    "# CMT250 = pd.read_csv(r'C:\\Users\\User\\VSCode\\CDSS\\source\\CMT250_utf8.txt', encoding='utf8', sep='|', dtype={'病歷號':'str'})\n",
    "# Lab = pd.read_csv(r'C:\\Users\\User\\VSCode\\CDSS\\source\\Lab_utf8.txt', encoding='utf8', sep='|', dtype={'病歷號碼':'str'})"
   ]
  },
  {
   "cell_type": "code",
   "execution_count": 8,
   "metadata": {},
   "outputs": [],
   "source": [
    "# Bac.to_excel(r'C:\\Users\\User\\VSCode\\CDSS\\output\\Bac_utf8.xlsx')\n",
    "# CMT250.to_excel(r'C:\\Users\\User\\VSCode\\CDSS\\output\\CMT250_utf8.xlsx')\n",
    "# Lab.to_excel(r'C:\\Users\\User\\VSCode\\CDSS\\output\\Lab_utf8.xlsx')"
   ]
  },
  {
   "cell_type": "code",
   "execution_count": 9,
   "metadata": {},
   "outputs": [],
   "source": [
    "# CMT250.rename({'病歷號':'病歷號碼', '項目代號':'項目代碼'}, axis=1, inplace=True)\n",
    "# Lab.rename({'檢驗日期':'Lab_檢驗日期', '報告日期':'Lab_報告日期', '檢驗項目':'Lab_檢驗項目',\n",
    "#             '檢驗值':'Lab_檢驗值', '表單號':'Lab_表單號', '申請號':'Lab_申請號'}, axis=1, inplace=True)"
   ]
  },
  {
   "cell_type": "code",
   "execution_count": 10,
   "metadata": {},
   "outputs": [],
   "source": [
    "# print(Bac.columns)\n",
    "\n",
    "# print(CMT250.columns)\n",
    "\n",
    "# print(Lab.columns)"
   ]
  },
  {
   "cell_type": "code",
   "execution_count": 11,
   "metadata": {},
   "outputs": [],
   "source": [
    "# CMT250_Bac = pd.merge(CMT250, Bac, how='left' , on=['病歷號碼', '住院號', '表單號', '申請編號', '項目代碼', '項目名稱'])\n",
    "# CMT250_Bac_Lab = pd.merge(CMT250_Bac, Lab, how='left', on=['病歷號碼', '住院號'])"
   ]
  },
  {
   "cell_type": "code",
   "execution_count": 21,
   "metadata": {},
   "outputs": [
    {
     "data": {
      "text/plain": [
       "Index(['住院號碼', '醫令代碼', '醫令學名', '使用起日', '使用迄日', '頻率', '每次量', '途徑', '劑型', '天數'], dtype='object')"
      ]
     },
     "execution_count": 21,
     "metadata": {},
     "output_type": "execute_result"
    }
   ],
   "source": [
    "adm.columns"
   ]
  },
  {
   "cell_type": "code",
   "execution_count": 10,
   "metadata": {},
   "outputs": [],
   "source": [
    "adm[['使用起日_date', '使用起日_time']] = adm['使用起日'].str.split(' ', expand=True)\n",
    "adm[['使用迄日_date', '使用迄日_time']] = adm['使用迄日'].str.split(' ', expand=True)\n",
    "\n",
    "adm[['使用起日_time_h', '使用起日_time_m']] = adm['使用起日_time'].str.split(':', expand=True)\n",
    "adm[['使用迄日_time_h', '使用迄日_time_m']] = adm['使用迄日_time'].str.split(':', expand=True)\n"
   ]
  },
  {
   "cell_type": "code",
   "execution_count": 11,
   "metadata": {},
   "outputs": [],
   "source": [
    "adm['使用起日_time_m'] = np.where(adm['使用起日_time_m'].astype('int')>59, '30', adm['使用起日_time_m'])\n",
    "adm['使用迄日_time_m'] = np.where(adm['使用迄日_time_m'].astype('int')>59, '30', adm['使用迄日_time_m'])\n",
    "\n",
    "adm['使用起日_date'] = adm['使用起日_date'].astype('int') + 19110000\n",
    "adm['使用迄日_date'] = adm['使用迄日_date'].astype('int') + 19110000\n"
   ]
  },
  {
   "cell_type": "code",
   "execution_count": 14,
   "metadata": {},
   "outputs": [],
   "source": [
    "adm['使用起日'] = pd.DataFrame(adm['使用起日_time_h'] + ':' + adm['使用起日_time_m'] + ':00')\n",
    "adm['使用迄日'] = pd.DataFrame(adm['使用迄日_time_h'] + ':' + adm['使用迄日_time_m'] + ':00')"
   ]
  },
  {
   "cell_type": "code",
   "execution_count": 56,
   "metadata": {},
   "outputs": [],
   "source": [
    "CDSS = pd.read_excel(r'C:\\Users\\User\\VSCode\\CDSS\\output\\CDSS_SA_2021_2022(住院30D).xlsx')"
   ]
  },
  {
   "cell_type": "code",
   "execution_count": 6,
   "metadata": {},
   "outputs": [],
   "source": [
    "CDSS['14D_A'] = np.where((CDSS.住院日_diff <= 14), 1, 0)"
   ]
  },
  {
   "cell_type": "code",
   "execution_count": 57,
   "metadata": {},
   "outputs": [
    {
     "data": {
      "text/plain": [
       "Index(['表單號', '住院號', '申請編號', '病歷號碼', '生日(年月日)', '主診斷1', '診斷2', '診斷3', '診斷4',\n",
       "       '診斷5', '開單醫師', '開單科別', '病房', '住院日', '出院日', '申請日', '採檢日', '簽收日', '報告日',\n",
       "       '項目代碼', '項目名稱', '來源', '檢體', '菌名', 'strain', 'bed', '檢驗部收到時間', '發報告時間',\n",
       "       '參考值', 'Lab_檢驗日期', 'Lab_報告日期', 'Lab_檢驗項目', 'Lab_檢驗值', 'Lab_表單號',\n",
       "       'Lab_申請號', '床號', '性別', '体重', '出院診斷_1', '出院診斷_2', '出院診斷_3', '出院診斷_4',\n",
       "       '出院診斷_5', '出院診斷_6', '出院診斷_7', '死亡日期', '時間', 'ICU', 'Death', '住院天數',\n",
       "       '住院日_next', '住院日_diff', '30D_A', '2022'],\n",
       "      dtype='object')"
      ]
     },
     "execution_count": 57,
     "metadata": {},
     "output_type": "execute_result"
    }
   ],
   "source": [
    "CDSS.columns"
   ]
  },
  {
   "cell_type": "code",
   "execution_count": 61,
   "metadata": {},
   "outputs": [],
   "source": [
    "# pd.DataFrame(CDSS[CDSS['30D_A']==1]['病歷號碼'].drop_duplicates()).to_excel(r'C:\\Users\\User\\VSCode\\CDSS\\output\\CDSS_Under30D.xlsx', index=False)"
   ]
  },
  {
   "cell_type": "code",
   "execution_count": 2,
   "metadata": {},
   "outputs": [],
   "source": [
    "jujutsu = pd.read_excel(r'C:\\Users\\User\\VSCode\\CDSS\\output\\真假.xlsx', sheet_name='Sheet1', dtype={'病歷號碼':'str'})\n",
    "jujutsu.使用起日fix = pd.to_datetime(jujutsu.使用起日fix)"
   ]
  },
  {
   "cell_type": "code",
   "execution_count": 3,
   "metadata": {},
   "outputs": [],
   "source": [
    "mdro_2022 = pd.read_excel(r'C:\\Users\\User\\VSCode\\CDSS\\output\\CDSS_SA_2022_mdro.xlsx', dtype={'病歷號碼':'str'})"
   ]
  },
  {
   "cell_type": "code",
   "execution_count": 55,
   "metadata": {},
   "outputs": [],
   "source": [
    "jujutsu['antiMRSA_next'] = jujutsu.groupby('病歷號碼').antiMRSA.shift(-1)\n",
    "\n",
    "anti_alter = pd.DataFrame(jujutsu[jujutsu['antiMRSA_next'] != jujutsu['antiMRSA']]['病歷號碼'].drop_duplicates().reset_index(drop=True))\n",
    "anti_alter['Alter'] = 1\n",
    "\n",
    "jujutsu = pd.merge(jujutsu, anti_alter, how='left' , on='病歷號碼')\n",
    "# jujutsu['Alter'] = np.where((jujutsu['Alter']!=1), 0, 1)"
   ]
  },
  {
   "cell_type": "code",
   "execution_count": 53,
   "metadata": {},
   "outputs": [],
   "source": [
    "jujutsu['Alter'] = np.where((jujutsu['Alter']!=1), 0, 1)"
   ]
  },
  {
   "cell_type": "code",
   "execution_count": 40,
   "metadata": {},
   "outputs": [
    {
     "data": {
      "text/plain": [
       "327"
      ]
     },
     "execution_count": 40,
     "metadata": {},
     "output_type": "execute_result"
    }
   ],
   "source": [
    "jujutsu.病歷號碼.drop_duplicates().count()"
   ]
  },
  {
   "cell_type": "code",
   "execution_count": 4,
   "metadata": {},
   "outputs": [
    {
     "data": {
      "text/plain": [
       "Index(['Unnamed: 0', '病歷號碼', 'bed', '就醫序號', '申請編號', 'strain', '部位', 'Age',\n",
       "       '抗藥性菌株', 'examTime', 'reportTime', 'openTime', '菌株', 'PredValue',\n",
       "       'sendTime', 'Group_Strain', 'PredLevel', 'Resist_bool', 'TH60', 'TH85'],\n",
       "      dtype='object')"
      ]
     },
     "execution_count": 4,
     "metadata": {},
     "output_type": "execute_result"
    }
   ],
   "source": [
    "mdro_2022.columns"
   ]
  },
  {
   "cell_type": "code",
   "execution_count": 5,
   "metadata": {},
   "outputs": [
    {
     "data": {
      "text/plain": [
       "Index(['病歷號碼', '住院號碼', 'Death', 'time', '預測值', '使用起日fix', 'antiMRSA'], dtype='object')"
      ]
     },
     "execution_count": 5,
     "metadata": {},
     "output_type": "execute_result"
    }
   ],
   "source": [
    "jujutsu.columns"
   ]
  },
  {
   "cell_type": "code",
   "execution_count": null,
   "metadata": {},
   "outputs": [],
   "source": []
  }
 ],
 "metadata": {
  "interpreter": {
   "hash": "f544ce1a915a9875fad91c894e2c0bcad4b7a79945aa6027ef3ad27810072aa6"
  },
  "kernelspec": {
   "display_name": "Python 3.8.6 64-bit",
   "language": "python",
   "name": "python3"
  },
  "language_info": {
   "codemirror_mode": {
    "name": "ipython",
    "version": 3
   },
   "file_extension": ".py",
   "mimetype": "text/x-python",
   "name": "python",
   "nbconvert_exporter": "python",
   "pygments_lexer": "ipython3",
   "version": "3.8.6"
  },
  "orig_nbformat": 4
 },
 "nbformat": 4,
 "nbformat_minor": 2
}
