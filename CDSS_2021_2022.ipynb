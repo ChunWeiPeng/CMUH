{
 "cells": [
  {
   "cell_type": "code",
   "execution_count": 21,
   "metadata": {},
   "outputs": [],
   "source": [
    "import msoffcrypto\n",
    "import io\n",
    "import pandas as pd\n",
    "from bs4 import BeautifulSoup\n",
    "\n",
    "temp = io.BytesIO()"
   ]
  },
  {
   "cell_type": "markdown",
   "metadata": {},
   "source": [
    "Data Loading"
   ]
  },
  {
   "cell_type": "code",
   "execution_count": 22,
   "metadata": {},
   "outputs": [],
   "source": [
    "with open(r'C:\\Users\\User\\VSCode\\CDSS\\source\\智抗菌住院病人資料.xlsx', 'rb') as f:\n",
    "    excel = msoffcrypto.OfficeFile(f)\n",
    "    excel.load_key('13226')\n",
    "    excel.decrypt(temp)\n",
    "    \n",
    "patient = pd.read_excel(temp, dtype={'病歷號':'str'})\n",
    "del temp"
   ]
  },
  {
   "cell_type": "code",
   "execution_count": 23,
   "metadata": {},
   "outputs": [],
   "source": [
    "# df['出院診斷'].str.split('  ').str[1]"
   ]
  },
  {
   "cell_type": "code",
   "execution_count": 24,
   "metadata": {},
   "outputs": [],
   "source": [
    "# df['出院診斷']"
   ]
  },
  {
   "cell_type": "code",
   "execution_count": 25,
   "metadata": {},
   "outputs": [],
   "source": [
    "adm = pd.read_excel(r'C:\\Users\\User\\VSCode\\CDSS\\source\\admdata_1110422.xlsx')"
   ]
  },
  {
   "cell_type": "code",
   "execution_count": 26,
   "metadata": {},
   "outputs": [],
   "source": [
    "Bac = pd.read_csv(r'C:\\Users\\User\\VSCode\\CDSS\\source\\Bac_utf8.txt', encoding='utf8', sep='|', dtype={'病歷號碼':'str'})\n",
    "CMT250 = pd.read_csv(r'C:\\Users\\User\\VSCode\\CDSS\\source\\CMT250_utf8.txt', encoding='utf8', sep='|', dtype={'病歷號':'str'})\n",
    "Lab = pd.read_csv(r'C:\\Users\\User\\VSCode\\CDSS\\source\\Lab_utf8.txt', encoding='utf8', sep='|', dtype={'病歷號碼':'str'})"
   ]
  },
  {
   "cell_type": "code",
   "execution_count": 28,
   "metadata": {},
   "outputs": [],
   "source": [
    "# Bac.to_excel(r'C:\\Users\\User\\VSCode\\CDSS\\output\\Bac_utf8.xlsx')\n",
    "# CMT250.to_excel(r'C:\\Users\\User\\VSCode\\CDSS\\output\\CMT250_utf8.xlsx')\n",
    "# Lab.to_excel(r'C:\\Users\\User\\VSCode\\CDSS\\output\\Lab_utf8.xlsx')"
   ]
  },
  {
   "cell_type": "code",
   "execution_count": 8,
   "metadata": {},
   "outputs": [],
   "source": [
    "CMT250.rename({'病歷號':'病歷號碼', '項目代號':'項目代碼'}, axis=1, inplace=True)\n",
    "Lab.rename({'檢驗日期':'Lab_檢驗日期', '報告日期':'Lab_報告日期', '檢驗項目':'Lab_檢驗項目',\n",
    "            '檢驗值':'Lab_檢驗值', '表單號':'Lab_表單號', '申請號':'Lab_申請號'}, axis=1, inplace=True)"
   ]
  },
  {
   "cell_type": "code",
   "execution_count": 10,
   "metadata": {},
   "outputs": [
    {
     "name": "stdout",
     "output_type": "stream",
     "text": [
      "Index(['病歷號碼', '住院號', 'bed', '表單號', '申請編號', '項目代碼', '項目名稱', 'strain', '菌名',\n",
      "       '檢驗部收到日期', '檢驗部收到時間', '發報告日期', '發報告時間', '參考值'],\n",
      "      dtype='object')\n",
      "Index(['表單號', '住院號', '申請編號', '病歷號碼', '生日(年月日)', '主診斷1', '診斷2', '診斷3', '診斷4',\n",
      "       '診斷5', '開單醫師', '開單科別', '病房', '住院日', '出院日', '申請日', '採檢日', '簽收日', '報告日',\n",
      "       '項目代碼', '項目名稱', '來源', '檢體', '細菌名稱', '類別'],\n",
      "      dtype='object')\n",
      "Index(['病歷號碼', '住院號', 'Lab_檢驗日期', 'Lab_報告日期', 'Lab_檢驗項目', 'Lab_檢驗值', 'Lab_表單號',\n",
      "       'Lab_申請號'],\n",
      "      dtype='object')\n"
     ]
    }
   ],
   "source": [
    "print(Bac.columns)\n",
    "\n",
    "print(CMT250.columns)\n",
    "\n",
    "print(Lab.columns)"
   ]
  },
  {
   "cell_type": "code",
   "execution_count": 11,
   "metadata": {},
   "outputs": [],
   "source": [
    "CMT250_Bac = pd.merge(CMT250, Bac, how='left' , on=['病歷號碼', '住院號', '表單號', '申請編號', '項目代碼', '項目名稱'])\n",
    "CMT250_Bac_Lab = pd.merge(CMT250_Bac, Lab, how='left', on=['病歷號碼', '住院號'])"
   ]
  },
  {
   "cell_type": "code",
   "execution_count": 12,
   "metadata": {},
   "outputs": [
    {
     "data": {
      "text/plain": [
       "Index(['住院號碼', '醫令代碼', '醫令學名', '使用起日', '使用迄日', '頻率', '每次量', '途徑', '劑型', '天數'], dtype='object')"
      ]
     },
     "execution_count": 12,
     "metadata": {},
     "output_type": "execute_result"
    }
   ],
   "source": [
    "adm.columns"
   ]
  },
  {
   "cell_type": "code",
   "execution_count": 13,
   "metadata": {},
   "outputs": [],
   "source": [
    "adm[['使用起日_date', '使用起日_time']] = adm['使用起日'].str.split(' ', expand=True)\n",
    "adm[['使用迄日_date', '使用迄日_time']] = adm['使用迄日'].str.split(' ', expand=True)"
   ]
  },
  {
   "cell_type": "code",
   "execution_count": 14,
   "metadata": {},
   "outputs": [],
   "source": [
    "adm['使用起日_date'] = adm['使用起日_date'].astype('int') + 19110000\n",
    "adm['使用迄日_date'] = adm['使用迄日_date'].astype('int') + 19110000\n"
   ]
  },
  {
   "cell_type": "code",
   "execution_count": 20,
   "metadata": {},
   "outputs": [
    {
     "data": {
      "text/plain": [
       "0         15:53:00\n",
       "1         20:02:00\n",
       "2         17:70:00\n",
       "3         08:84:00\n",
       "4         06:65:00\n",
       "            ...   \n",
       "164769    10:05:00\n",
       "164770    10:05:00\n",
       "164771    11:13:00\n",
       "164772    09:95:00\n",
       "164773    09:95:00\n",
       "Name: 使用起日_time, Length: 164774, dtype: object"
      ]
     },
     "execution_count": 20,
     "metadata": {},
     "output_type": "execute_result"
    }
   ],
   "source": [
    "adm['使用起日_time'] + ':00'"
   ]
  },
  {
   "cell_type": "code",
   "execution_count": null,
   "metadata": {},
   "outputs": [],
   "source": []
  }
 ],
 "metadata": {
  "interpreter": {
   "hash": "5c0372ed38b372118c24adb00d45654d76c8d10261533c5724e3f5fc1d75489a"
  },
  "kernelspec": {
   "display_name": "Python 3.8.6 64-bit",
   "language": "python",
   "name": "python3"
  },
  "language_info": {
   "codemirror_mode": {
    "name": "ipython",
    "version": 3
   },
   "file_extension": ".py",
   "mimetype": "text/x-python",
   "name": "python",
   "nbconvert_exporter": "python",
   "pygments_lexer": "ipython3",
   "version": "3.8.6"
  },
  "orig_nbformat": 4
 },
 "nbformat": 4,
 "nbformat_minor": 2
}
