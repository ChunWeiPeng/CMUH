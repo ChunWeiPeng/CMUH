{
 "cells": [
  {
   "cell_type": "code",
   "execution_count": 1,
   "metadata": {},
   "outputs": [],
   "source": [
    "import numpy as np\n",
    "import pandas as pd\n",
    "from datetime import datetime\n",
    "from datetime import date"
   ]
  },
  {
   "cell_type": "code",
   "execution_count": 2,
   "metadata": {},
   "outputs": [],
   "source": [
    "file_1 = r'C:\\Users\\User\\VSCode\\CDSS\\source\\智抗菌平台統計(20211201-20220119)_OV.xlsx'\n",
    "file_2 = r'C:\\Users\\User\\VSCode\\CDSS\\source\\智抗菌平台統計_20211228.xlsx'\n",
    "file_3 = r'C:\\Users\\User\\VSCode\\CDSS\\source\\智抗菌平台報表_20220210.xlsx'\n",
    "file_4 = r'C:\\Users\\User\\VSCode\\CDSS\\source\\智抗菌平台報表_20220309.xlsx'\n",
    "file_5 = r'C:\\Users\\User\\VSCode\\CDSS\\source\\智抗菌平台報表_20220331.xlsx'\n",
    "file_6 = r'C:\\Users\\User\\VSCode\\CDSS\\source\\智抗菌平台報表_20220502.xlsx'\n",
    "\n",
    "\n",
    "sepsis_1 = pd.read_excel(file_1, sheet_name='Sepsis', dtype={'病歷號碼':'str'})\n",
    "sepsis_2 = pd.read_excel(file_2, sheet_name='Sepsis', dtype={'病歷號碼':'str'})\n",
    "sepsis_3 = pd.read_excel(file_3, sheet_name='Sepsis', dtype={'病歷號碼':'str'})\n",
    "sepsis_4 = pd.read_excel(file_4, sheet_name='Sepsis', dtype={'病歷號碼':'str'})\n",
    "sepsis_5 = pd.read_excel(file_5, sheet_name='Sepsis', dtype={'病歷號碼':'str'})\n",
    "sepsis_6 = pd.read_excel(file_6, sheet_name='Sepsis', dtype={'病歷號碼':'str'})"
   ]
  },
  {
   "cell_type": "code",
   "execution_count": 7,
   "metadata": {},
   "outputs": [],
   "source": [
    "Sepsis = pd.concat([sepsis_1, sepsis_2, sepsis_3, sepsis_4, sepsis_5, sepsis_6],axis=0).drop_duplicates().sort_values(['病歷號碼', 'time']).reset_index(drop=True)"
   ]
  },
  {
   "cell_type": "code",
   "execution_count": 18,
   "metadata": {},
   "outputs": [],
   "source": [
    "Sepsis_nonnull = Sepsis[Sepsis.預測值 != '資料不足'][['病歷號碼', 'time', '預測值']].drop_duplicates().reset_index(drop=True)"
   ]
  },
  {
   "cell_type": "code",
   "execution_count": 19,
   "metadata": {},
   "outputs": [],
   "source": [
    "Sepsis_nonnull[['預測值', '%']] = Sepsis_nonnull['預測值'].str.split('%', 1, expand=True)\n"
   ]
  },
  {
   "cell_type": "code",
   "execution_count": 31,
   "metadata": {},
   "outputs": [],
   "source": [
    "Sepsis_nonnull = Sepsis_nonnull.drop(columns=['%'])\n",
    "Sepsis_nonnull = Sepsis_nonnull[(Sepsis_nonnull['預測值'] != '-1') & (Sepsis_nonnull['預測值'] != '---')]"
   ]
  },
  {
   "cell_type": "code",
   "execution_count": 33,
   "metadata": {},
   "outputs": [],
   "source": [
    "Sepsis_nonnull['預測值'] = Sepsis_nonnull['預測值'].astype('float')"
   ]
  },
  {
   "cell_type": "code",
   "execution_count": 37,
   "metadata": {},
   "outputs": [],
   "source": [
    "Sepsis_nonnull.time = pd.to_datetime(Sepsis_nonnull.time)"
   ]
  },
  {
   "cell_type": "code",
   "execution_count": 39,
   "metadata": {},
   "outputs": [],
   "source": [
    "# Sepsis_nonnull.to_excel(r'C:\\Users\\User\\VSCode\\CDSS\\output\\CDSS_Sepsis.xlsx', index=False)"
   ]
  },
  {
   "cell_type": "code",
   "execution_count": 3,
   "metadata": {},
   "outputs": [],
   "source": [
    "sepsis_f = r'C:\\Users\\User\\VSCode\\CDSS\\output\\CDSS_Sepsis.xlsx'\n",
    "Sepsis = pd.read_excel(sepsis_f, dtype={'病歷號碼':'str'})\n",
    "\n",
    "all_f = r'C:\\Users\\User\\VSCode\\CDSS\\source\\呱呱包.xlsx'\n",
    "All = pd.read_excel(all_f, dtype={'病歷號碼':'str'})"
   ]
  },
  {
   "cell_type": "code",
   "execution_count": 10,
   "metadata": {},
   "outputs": [
    {
     "data": {
      "text/plain": [
       "Index(['病歷號碼', 'time', '預測值'], dtype='object')"
      ]
     },
     "execution_count": 10,
     "metadata": {},
     "output_type": "execute_result"
    }
   ],
   "source": [
    "Sepsis.columns"
   ]
  },
  {
   "cell_type": "code",
   "execution_count": 5,
   "metadata": {},
   "outputs": [
    {
     "data": {
      "text/plain": [
       "Index(['表單號', '住院號', '申請編號', '病歷號碼', '生日(年月日)', '主診斷1', '診斷2', '診斷3', '診斷4',\n",
       "       '診斷5', '開單醫師', '開單科別', '病房', '住院日', '出院日', '申請日', '採檢日', '簽收日', '報告日',\n",
       "       '項目代碼', '項目名稱', '來源', '檢體', '菌名', 'strain', 'bed', '檢驗部收到時間', '發報告時間',\n",
       "       '參考值', 'Lab_檢驗日期', 'Lab_報告日期', 'Lab_檢驗項目', 'Lab_檢驗值', 'Lab_表單號',\n",
       "       'Lab_申請號', '床號', '性別', '体重', '出院診斷_1', '出院診斷_2', '出院診斷_3', '出院診斷_4',\n",
       "       '出院診斷_5', '出院診斷_6', '出院診斷_7', '死亡日期', '時間', 'ICU', 'Death', '住院天數'],\n",
       "      dtype='object')"
      ]
     },
     "execution_count": 5,
     "metadata": {},
     "output_type": "execute_result"
    }
   ],
   "source": [
    "All.columns"
   ]
  },
  {
   "cell_type": "code",
   "execution_count": 6,
   "metadata": {},
   "outputs": [],
   "source": [
    "death = All[['病歷號碼', 'ICU', 'Death', '住院天數']].drop_duplicates()"
   ]
  },
  {
   "cell_type": "code",
   "execution_count": 21,
   "metadata": {},
   "outputs": [],
   "source": [
    "death_spesis = pd.merge(death, Sepsis, how = \"inner\", on=['病歷號碼']).drop_duplicates()"
   ]
  },
  {
   "cell_type": "code",
   "execution_count": 22,
   "metadata": {},
   "outputs": [],
   "source": [
    "death_spesis['M'] = death_spesis['time'].dt.month\n",
    "death_spesis['Y'] = death_spesis['time'].dt.year"
   ]
  },
  {
   "cell_type": "code",
   "execution_count": 23,
   "metadata": {},
   "outputs": [],
   "source": [
    "death_spesis['date'] = pd.to_datetime(death_spesis['Y'].astype('str') + '-' + death_spesis['M'].astype('str'))"
   ]
  },
  {
   "cell_type": "code",
   "execution_count": 19,
   "metadata": {},
   "outputs": [
    {
     "data": {
      "text/plain": [
       "Index(['病歷號碼', 'ICU', 'Death', '住院天數', 'time', '預測值', 'M', 'Y', 'date'], dtype='object')"
      ]
     },
     "execution_count": 19,
     "metadata": {},
     "output_type": "execute_result"
    }
   ],
   "source": [
    "death_spesis.columns"
   ]
  },
  {
   "cell_type": "code",
   "execution_count": 24,
   "metadata": {},
   "outputs": [],
   "source": [
    "death_spesis = death_spesis[['病歷號碼', 'date', 'ICU', 'Death', '預測值']].drop_duplicates()"
   ]
  },
  {
   "cell_type": "code",
   "execution_count": null,
   "metadata": {},
   "outputs": [],
   "source": []
  }
 ],
 "metadata": {
  "interpreter": {
   "hash": "f544ce1a915a9875fad91c894e2c0bcad4b7a79945aa6027ef3ad27810072aa6"
  },
  "kernelspec": {
   "display_name": "Python 3.8.6 64-bit",
   "language": "python",
   "name": "python3"
  },
  "language_info": {
   "codemirror_mode": {
    "name": "ipython",
    "version": 3
   },
   "file_extension": ".py",
   "mimetype": "text/x-python",
   "name": "python",
   "nbconvert_exporter": "python",
   "pygments_lexer": "ipython3",
   "version": "3.8.6"
  },
  "orig_nbformat": 4
 },
 "nbformat": 4,
 "nbformat_minor": 2
}
