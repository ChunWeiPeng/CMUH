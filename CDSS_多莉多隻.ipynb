{
 "cells": [
  {
   "cell_type": "code",
   "execution_count": 1,
   "metadata": {},
   "outputs": [],
   "source": [
    "import numpy as np\n",
    "import pandas as pd\n",
    "from datetime import datetime\n",
    "from datetime import date\n",
    "\n",
    "import matplotlib.pyplot as plt\n",
    "import seaborn as sns\n"
   ]
  },
  {
   "cell_type": "code",
   "execution_count": 2,
   "metadata": {},
   "outputs": [],
   "source": [
    "f = r'C:\\Users\\User\\VSCode\\CDSS\\source\\感專醫師審核記錄201801-202203.xlsx'\n",
    "doctor = pd.read_excel(f)"
   ]
  },
  {
   "cell_type": "code",
   "execution_count": 3,
   "metadata": {},
   "outputs": [
    {
     "data": {
      "text/plain": [
       "編號      346861\n",
       "日期      346861\n",
       "病歷號     346861\n",
       "科部代碼    346861\n",
       "科部名稱    346861\n",
       "職編      346861\n",
       "審核醫師    346861\n",
       "審查結果    346861\n",
       "開單醫師    346860\n",
       "感專建議    207520\n",
       "開單日期    346861\n",
       "開單時間    346861\n",
       "審核日期    346861\n",
       "審核時間    346861\n",
       "dtype: int64"
      ]
     },
     "execution_count": 3,
     "metadata": {},
     "output_type": "execute_result"
    }
   ],
   "source": [
    "doctor.count()"
   ]
  },
  {
   "cell_type": "code",
   "execution_count": 4,
   "metadata": {},
   "outputs": [],
   "source": [
    "doctor['日期'] = doctor['日期'] + 19110000\n",
    "doctor['日期'] = pd.to_datetime(doctor['日期'], format='%Y%m%d')\n",
    "doctor['year'] = doctor['日期'].dt.year\n",
    "doctor['month'] = doctor['日期'].dt.month\n",
    "doctor['Error_Dose_Frequency'] = doctor['感專建議'].str.contains(\"劑量或頻率錯誤\", na=False)"
   ]
  },
  {
   "cell_type": "code",
   "execution_count": 5,
   "metadata": {},
   "outputs": [
    {
     "data": {
      "text/plain": [
       "year  month\n",
       "2018  1        7743\n",
       "      2        6325\n",
       "      3        7818\n",
       "      4        7482\n",
       "      5        7348\n",
       "      6        7283\n",
       "      7        8024\n",
       "      8        8289\n",
       "      9        7004\n",
       "      10       7810\n",
       "      11       7336\n",
       "      12       7497\n",
       "2019  1        7437\n",
       "      2        5760\n",
       "      3        7870\n",
       "      4         365\n",
       "      5         276\n",
       "      6         383\n",
       "      7         428\n",
       "      8         899\n",
       "      9        3513\n",
       "      10       7864\n",
       "      11       7926\n",
       "      12       8551\n",
       "2020  1        7093\n",
       "      2        7642\n",
       "      3        7637\n",
       "      4        7320\n",
       "      5        7461\n",
       "      6        8176\n",
       "      7        7876\n",
       "      8        8245\n",
       "      9        8230\n",
       "      10       7883\n",
       "      11        830\n",
       "      12       3782\n",
       "2021  1        8404\n",
       "      2        7028\n",
       "      3        8631\n",
       "      4        8129\n",
       "      5        8364\n",
       "      6        7378\n",
       "      7        7739\n",
       "      8        8900\n",
       "      9        7854\n",
       "      10       8427\n",
       "      11       8131\n",
       "      12       7904\n",
       "2022  1        8672\n",
       "      2        7908\n",
       "      3        9986\n",
       "dtype: int64"
      ]
     },
     "execution_count": 5,
     "metadata": {},
     "output_type": "execute_result"
    }
   ],
   "source": [
    "suggest = doctor.groupby(['year', 'month'])\n",
    "s = suggest['審查結果'].value_counts()\n",
    "suggest.size()"
   ]
  },
  {
   "cell_type": "code",
   "execution_count": 6,
   "metadata": {},
   "outputs": [],
   "source": [
    "A = doctor[doctor['審查結果'].str.contains(\"A\", na=False)]\n",
    "B = doctor[doctor['審查結果'].str.contains(\"B\", na=False)]\n",
    "C = doctor[doctor['審查結果'].str.contains(\"C\", na=False)]\n",
    "D = doctor[doctor['審查結果'].str.contains(\"D\", na=False)]\n",
    "E = doctor[doctor['審查結果'].str.contains(\"E\", na=False)]"
   ]
  },
  {
   "cell_type": "code",
   "execution_count": 7,
   "metadata": {},
   "outputs": [
    {
     "data": {
      "text/plain": [
       "False    340709\n",
       "True       6152\n",
       "Name: 感專建議, dtype: int64"
      ]
     },
     "execution_count": 7,
     "metadata": {},
     "output_type": "execute_result"
    }
   ],
   "source": [
    "doctor['感專建議'].str.contains(\"劑量或頻率錯誤\", na=False).value_counts()"
   ]
  },
  {
   "cell_type": "code",
   "execution_count": 8,
   "metadata": {},
   "outputs": [
    {
     "data": {
      "text/plain": [
       "Index(['A.同意使用', 'B.建議修改', 'E.請完整填寫抗生素審核單', 'D.請開正式會診單', 'C.48小時後再審'], dtype='object')"
      ]
     },
     "execution_count": 8,
     "metadata": {},
     "output_type": "execute_result"
    }
   ],
   "source": [
    "doctor['審查結果'].value_counts().index"
   ]
  },
  {
   "cell_type": "code",
   "execution_count": 9,
   "metadata": {},
   "outputs": [
    {
     "data": {
      "text/plain": [
       "False    332816\n",
       "True        105\n",
       "Name: 感專建議, dtype: int64"
      ]
     },
     "execution_count": 9,
     "metadata": {},
     "output_type": "execute_result"
    }
   ],
   "source": [
    "A['感專建議'].str.contains(\"劑量或頻率錯誤\", na=False).value_counts()"
   ]
  },
  {
   "cell_type": "code",
   "execution_count": 10,
   "metadata": {},
   "outputs": [
    {
     "data": {
      "text/plain": [
       "True     6022\n",
       "False    5558\n",
       "Name: 感專建議, dtype: int64"
      ]
     },
     "execution_count": 10,
     "metadata": {},
     "output_type": "execute_result"
    }
   ],
   "source": [
    "B['感專建議'].str.contains(\"劑量或頻率錯誤\", na=False).value_counts()"
   ]
  },
  {
   "cell_type": "code",
   "execution_count": 11,
   "metadata": {},
   "outputs": [
    {
     "data": {
      "text/plain": [
       "False    13\n",
       "Name: 感專建議, dtype: int64"
      ]
     },
     "execution_count": 11,
     "metadata": {},
     "output_type": "execute_result"
    }
   ],
   "source": [
    "C['感專建議'].str.contains(\"劑量或頻率錯誤\", na=False).value_counts()"
   ]
  },
  {
   "cell_type": "code",
   "execution_count": 12,
   "metadata": {},
   "outputs": [
    {
     "data": {
      "text/plain": [
       "False    63\n",
       "True      8\n",
       "Name: 感專建議, dtype: int64"
      ]
     },
     "execution_count": 12,
     "metadata": {},
     "output_type": "execute_result"
    }
   ],
   "source": [
    "D['感專建議'].str.contains(\"劑量或頻率錯誤\", na=False).value_counts()"
   ]
  },
  {
   "cell_type": "code",
   "execution_count": 13,
   "metadata": {},
   "outputs": [
    {
     "data": {
      "text/plain": [
       "False    2259\n",
       "True       17\n",
       "Name: 感專建議, dtype: int64"
      ]
     },
     "execution_count": 13,
     "metadata": {},
     "output_type": "execute_result"
    }
   ],
   "source": [
    "E['感專建議'].str.contains(\"劑量或頻率錯誤\", na=False).value_counts()"
   ]
  },
  {
   "cell_type": "code",
   "execution_count": 14,
   "metadata": {},
   "outputs": [
    {
     "data": {
      "text/html": [
       "<div>\n",
       "<style scoped>\n",
       "    .dataframe tbody tr th:only-of-type {\n",
       "        vertical-align: middle;\n",
       "    }\n",
       "\n",
       "    .dataframe tbody tr th {\n",
       "        vertical-align: top;\n",
       "    }\n",
       "\n",
       "    .dataframe thead th {\n",
       "        text-align: right;\n",
       "    }\n",
       "</style>\n",
       "<table border=\"1\" class=\"dataframe\">\n",
       "  <thead>\n",
       "    <tr style=\"text-align: right;\">\n",
       "      <th></th>\n",
       "      <th></th>\n",
       "      <th></th>\n",
       "      <th></th>\n",
       "      <th>0</th>\n",
       "    </tr>\n",
       "    <tr>\n",
       "      <th>year</th>\n",
       "      <th>month</th>\n",
       "      <th>審查結果</th>\n",
       "      <th>Error_Dose_Frequency</th>\n",
       "      <th></th>\n",
       "    </tr>\n",
       "  </thead>\n",
       "  <tbody>\n",
       "    <tr>\n",
       "      <th rowspan=\"5\" valign=\"top\">2018</th>\n",
       "      <th rowspan=\"5\" valign=\"top\">1</th>\n",
       "      <th>A.同意使用</th>\n",
       "      <th>False</th>\n",
       "      <td>7370</td>\n",
       "    </tr>\n",
       "    <tr>\n",
       "      <th>B.建議修改</th>\n",
       "      <th>True</th>\n",
       "      <td>211</td>\n",
       "    </tr>\n",
       "    <tr>\n",
       "      <th>E.請完整填寫抗生素審核單</th>\n",
       "      <th>False</th>\n",
       "      <td>96</td>\n",
       "    </tr>\n",
       "    <tr>\n",
       "      <th>B.建議修改</th>\n",
       "      <th>False</th>\n",
       "      <td>60</td>\n",
       "    </tr>\n",
       "    <tr>\n",
       "      <th>A.同意使用</th>\n",
       "      <th>True</th>\n",
       "      <td>5</td>\n",
       "    </tr>\n",
       "    <tr>\n",
       "      <th>...</th>\n",
       "      <th>...</th>\n",
       "      <th>...</th>\n",
       "      <th>...</th>\n",
       "      <td>...</td>\n",
       "    </tr>\n",
       "    <tr>\n",
       "      <th rowspan=\"5\" valign=\"top\">2022</th>\n",
       "      <th rowspan=\"5\" valign=\"top\">3</th>\n",
       "      <th>B.建議修改</th>\n",
       "      <th>False</th>\n",
       "      <td>204</td>\n",
       "    </tr>\n",
       "    <tr>\n",
       "      <th>E.請完整填寫抗生素審核單</th>\n",
       "      <th>False</th>\n",
       "      <td>144</td>\n",
       "    </tr>\n",
       "    <tr>\n",
       "      <th>B.建議修改</th>\n",
       "      <th>True</th>\n",
       "      <td>91</td>\n",
       "    </tr>\n",
       "    <tr>\n",
       "      <th>D.請開正式會診單</th>\n",
       "      <th>False</th>\n",
       "      <td>11</td>\n",
       "    </tr>\n",
       "    <tr>\n",
       "      <th>E.請完整填寫抗生素審核單</th>\n",
       "      <th>True</th>\n",
       "      <td>3</td>\n",
       "    </tr>\n",
       "  </tbody>\n",
       "</table>\n",
       "<p>301 rows × 1 columns</p>\n",
       "</div>"
      ],
      "text/plain": [
       "                                                  0\n",
       "year month 審查結果          Error_Dose_Frequency      \n",
       "2018 1     A.同意使用        False                 7370\n",
       "           B.建議修改        True                   211\n",
       "           E.請完整填寫抗生素審核單 False                   96\n",
       "           B.建議修改        False                   60\n",
       "           A.同意使用        True                     5\n",
       "...                                             ...\n",
       "2022 3     B.建議修改        False                  204\n",
       "           E.請完整填寫抗生素審核單 False                  144\n",
       "           B.建議修改        True                    91\n",
       "           D.請開正式會診單     False                   11\n",
       "           E.請完整填寫抗生素審核單 True                     3\n",
       "\n",
       "[301 rows x 1 columns]"
      ]
     },
     "execution_count": 14,
     "metadata": {},
     "output_type": "execute_result"
    }
   ],
   "source": [
    "pd.DataFrame(suggest[['審查結果','Error_Dose_Frequency']].value_counts())\n",
    "# .to_excel(r'C:\\Users\\User\\Desktop\\多利多之感言.xlsx')"
   ]
  },
  {
   "cell_type": "code",
   "execution_count": 27,
   "metadata": {},
   "outputs": [],
   "source": [
    "# suggest"
   ]
  },
  {
   "cell_type": "code",
   "execution_count": 33,
   "metadata": {},
   "outputs": [
    {
     "data": {
      "text/html": [
       "<div>\n",
       "<style scoped>\n",
       "    .dataframe tbody tr th:only-of-type {\n",
       "        vertical-align: middle;\n",
       "    }\n",
       "\n",
       "    .dataframe tbody tr th {\n",
       "        vertical-align: top;\n",
       "    }\n",
       "\n",
       "    .dataframe thead th {\n",
       "        text-align: right;\n",
       "    }\n",
       "</style>\n",
       "<table border=\"1\" class=\"dataframe\">\n",
       "  <thead>\n",
       "    <tr style=\"text-align: right;\">\n",
       "      <th></th>\n",
       "      <th></th>\n",
       "      <th></th>\n",
       "      <th>every_month_count</th>\n",
       "    </tr>\n",
       "    <tr>\n",
       "      <th>year</th>\n",
       "      <th>month</th>\n",
       "      <th>every_month_count</th>\n",
       "      <th></th>\n",
       "    </tr>\n",
       "  </thead>\n",
       "  <tbody>\n",
       "    <tr>\n",
       "      <th rowspan=\"12\" valign=\"top\">2018</th>\n",
       "      <th>1</th>\n",
       "      <th>1</th>\n",
       "      <td>7743</td>\n",
       "    </tr>\n",
       "    <tr>\n",
       "      <th>2</th>\n",
       "      <th>1</th>\n",
       "      <td>6325</td>\n",
       "    </tr>\n",
       "    <tr>\n",
       "      <th>3</th>\n",
       "      <th>1</th>\n",
       "      <td>7818</td>\n",
       "    </tr>\n",
       "    <tr>\n",
       "      <th>4</th>\n",
       "      <th>1</th>\n",
       "      <td>7482</td>\n",
       "    </tr>\n",
       "    <tr>\n",
       "      <th>5</th>\n",
       "      <th>1</th>\n",
       "      <td>7348</td>\n",
       "    </tr>\n",
       "    <tr>\n",
       "      <th>6</th>\n",
       "      <th>1</th>\n",
       "      <td>7283</td>\n",
       "    </tr>\n",
       "    <tr>\n",
       "      <th>7</th>\n",
       "      <th>1</th>\n",
       "      <td>8024</td>\n",
       "    </tr>\n",
       "    <tr>\n",
       "      <th>8</th>\n",
       "      <th>1</th>\n",
       "      <td>8289</td>\n",
       "    </tr>\n",
       "    <tr>\n",
       "      <th>9</th>\n",
       "      <th>1</th>\n",
       "      <td>7004</td>\n",
       "    </tr>\n",
       "    <tr>\n",
       "      <th>10</th>\n",
       "      <th>1</th>\n",
       "      <td>7810</td>\n",
       "    </tr>\n",
       "    <tr>\n",
       "      <th>11</th>\n",
       "      <th>1</th>\n",
       "      <td>7336</td>\n",
       "    </tr>\n",
       "    <tr>\n",
       "      <th>12</th>\n",
       "      <th>1</th>\n",
       "      <td>7497</td>\n",
       "    </tr>\n",
       "    <tr>\n",
       "      <th rowspan=\"12\" valign=\"top\">2019</th>\n",
       "      <th>1</th>\n",
       "      <th>1</th>\n",
       "      <td>7437</td>\n",
       "    </tr>\n",
       "    <tr>\n",
       "      <th>2</th>\n",
       "      <th>1</th>\n",
       "      <td>5760</td>\n",
       "    </tr>\n",
       "    <tr>\n",
       "      <th>3</th>\n",
       "      <th>1</th>\n",
       "      <td>7870</td>\n",
       "    </tr>\n",
       "    <tr>\n",
       "      <th>4</th>\n",
       "      <th>1</th>\n",
       "      <td>365</td>\n",
       "    </tr>\n",
       "    <tr>\n",
       "      <th>5</th>\n",
       "      <th>1</th>\n",
       "      <td>276</td>\n",
       "    </tr>\n",
       "    <tr>\n",
       "      <th>6</th>\n",
       "      <th>1</th>\n",
       "      <td>383</td>\n",
       "    </tr>\n",
       "    <tr>\n",
       "      <th>7</th>\n",
       "      <th>1</th>\n",
       "      <td>428</td>\n",
       "    </tr>\n",
       "    <tr>\n",
       "      <th>8</th>\n",
       "      <th>1</th>\n",
       "      <td>899</td>\n",
       "    </tr>\n",
       "    <tr>\n",
       "      <th>9</th>\n",
       "      <th>1</th>\n",
       "      <td>3513</td>\n",
       "    </tr>\n",
       "    <tr>\n",
       "      <th>10</th>\n",
       "      <th>1</th>\n",
       "      <td>7864</td>\n",
       "    </tr>\n",
       "    <tr>\n",
       "      <th>11</th>\n",
       "      <th>1</th>\n",
       "      <td>7926</td>\n",
       "    </tr>\n",
       "    <tr>\n",
       "      <th>12</th>\n",
       "      <th>1</th>\n",
       "      <td>8551</td>\n",
       "    </tr>\n",
       "    <tr>\n",
       "      <th rowspan=\"12\" valign=\"top\">2020</th>\n",
       "      <th>1</th>\n",
       "      <th>1</th>\n",
       "      <td>7093</td>\n",
       "    </tr>\n",
       "    <tr>\n",
       "      <th>2</th>\n",
       "      <th>1</th>\n",
       "      <td>7642</td>\n",
       "    </tr>\n",
       "    <tr>\n",
       "      <th>3</th>\n",
       "      <th>1</th>\n",
       "      <td>7637</td>\n",
       "    </tr>\n",
       "    <tr>\n",
       "      <th>4</th>\n",
       "      <th>1</th>\n",
       "      <td>7320</td>\n",
       "    </tr>\n",
       "    <tr>\n",
       "      <th>5</th>\n",
       "      <th>1</th>\n",
       "      <td>7461</td>\n",
       "    </tr>\n",
       "    <tr>\n",
       "      <th>6</th>\n",
       "      <th>1</th>\n",
       "      <td>8176</td>\n",
       "    </tr>\n",
       "    <tr>\n",
       "      <th>7</th>\n",
       "      <th>1</th>\n",
       "      <td>7876</td>\n",
       "    </tr>\n",
       "    <tr>\n",
       "      <th>8</th>\n",
       "      <th>1</th>\n",
       "      <td>8245</td>\n",
       "    </tr>\n",
       "    <tr>\n",
       "      <th>9</th>\n",
       "      <th>1</th>\n",
       "      <td>8230</td>\n",
       "    </tr>\n",
       "    <tr>\n",
       "      <th>10</th>\n",
       "      <th>1</th>\n",
       "      <td>7883</td>\n",
       "    </tr>\n",
       "    <tr>\n",
       "      <th>11</th>\n",
       "      <th>1</th>\n",
       "      <td>830</td>\n",
       "    </tr>\n",
       "    <tr>\n",
       "      <th>12</th>\n",
       "      <th>1</th>\n",
       "      <td>3782</td>\n",
       "    </tr>\n",
       "    <tr>\n",
       "      <th rowspan=\"12\" valign=\"top\">2021</th>\n",
       "      <th>1</th>\n",
       "      <th>1</th>\n",
       "      <td>8404</td>\n",
       "    </tr>\n",
       "    <tr>\n",
       "      <th>2</th>\n",
       "      <th>1</th>\n",
       "      <td>7028</td>\n",
       "    </tr>\n",
       "    <tr>\n",
       "      <th>3</th>\n",
       "      <th>1</th>\n",
       "      <td>8631</td>\n",
       "    </tr>\n",
       "    <tr>\n",
       "      <th>4</th>\n",
       "      <th>1</th>\n",
       "      <td>8129</td>\n",
       "    </tr>\n",
       "    <tr>\n",
       "      <th>5</th>\n",
       "      <th>1</th>\n",
       "      <td>8364</td>\n",
       "    </tr>\n",
       "    <tr>\n",
       "      <th>6</th>\n",
       "      <th>1</th>\n",
       "      <td>7378</td>\n",
       "    </tr>\n",
       "    <tr>\n",
       "      <th>7</th>\n",
       "      <th>1</th>\n",
       "      <td>7739</td>\n",
       "    </tr>\n",
       "    <tr>\n",
       "      <th>8</th>\n",
       "      <th>1</th>\n",
       "      <td>8900</td>\n",
       "    </tr>\n",
       "    <tr>\n",
       "      <th>9</th>\n",
       "      <th>1</th>\n",
       "      <td>7854</td>\n",
       "    </tr>\n",
       "    <tr>\n",
       "      <th>10</th>\n",
       "      <th>1</th>\n",
       "      <td>8427</td>\n",
       "    </tr>\n",
       "    <tr>\n",
       "      <th>11</th>\n",
       "      <th>1</th>\n",
       "      <td>8131</td>\n",
       "    </tr>\n",
       "    <tr>\n",
       "      <th>12</th>\n",
       "      <th>1</th>\n",
       "      <td>7904</td>\n",
       "    </tr>\n",
       "    <tr>\n",
       "      <th rowspan=\"3\" valign=\"top\">2022</th>\n",
       "      <th>1</th>\n",
       "      <th>1</th>\n",
       "      <td>8672</td>\n",
       "    </tr>\n",
       "    <tr>\n",
       "      <th>2</th>\n",
       "      <th>1</th>\n",
       "      <td>7908</td>\n",
       "    </tr>\n",
       "    <tr>\n",
       "      <th>3</th>\n",
       "      <th>1</th>\n",
       "      <td>9986</td>\n",
       "    </tr>\n",
       "  </tbody>\n",
       "</table>\n",
       "</div>"
      ],
      "text/plain": [
       "                              every_month_count\n",
       "year month every_month_count                   \n",
       "2018 1     1                               7743\n",
       "     2     1                               6325\n",
       "     3     1                               7818\n",
       "     4     1                               7482\n",
       "     5     1                               7348\n",
       "     6     1                               7283\n",
       "     7     1                               8024\n",
       "     8     1                               8289\n",
       "     9     1                               7004\n",
       "     10    1                               7810\n",
       "     11    1                               7336\n",
       "     12    1                               7497\n",
       "2019 1     1                               7437\n",
       "     2     1                               5760\n",
       "     3     1                               7870\n",
       "     4     1                                365\n",
       "     5     1                                276\n",
       "     6     1                                383\n",
       "     7     1                                428\n",
       "     8     1                                899\n",
       "     9     1                               3513\n",
       "     10    1                               7864\n",
       "     11    1                               7926\n",
       "     12    1                               8551\n",
       "2020 1     1                               7093\n",
       "     2     1                               7642\n",
       "     3     1                               7637\n",
       "     4     1                               7320\n",
       "     5     1                               7461\n",
       "     6     1                               8176\n",
       "     7     1                               7876\n",
       "     8     1                               8245\n",
       "     9     1                               8230\n",
       "     10    1                               7883\n",
       "     11    1                                830\n",
       "     12    1                               3782\n",
       "2021 1     1                               8404\n",
       "     2     1                               7028\n",
       "     3     1                               8631\n",
       "     4     1                               8129\n",
       "     5     1                               8364\n",
       "     6     1                               7378\n",
       "     7     1                               7739\n",
       "     8     1                               8900\n",
       "     9     1                               7854\n",
       "     10    1                               8427\n",
       "     11    1                               8131\n",
       "     12    1                               7904\n",
       "2022 1     1                               8672\n",
       "     2     1                               7908\n",
       "     3     1                               9986"
      ]
     },
     "execution_count": 33,
     "metadata": {},
     "output_type": "execute_result"
    }
   ],
   "source": [
    "# new_doctor = doctor[doctor['審查結果'].str.contains('B.建議修改')]\n",
    "# new_suggest = new_doctor.groupby(['year','month'])\n",
    "# new_s = new_suggest['審查結果'].value_counts()\n",
    "doctor['every_month_count'] = 1\n",
    "new_s = doctor.groupby(['year','month'])['every_month_count'].value_counts()\n",
    "pd.DataFrame(new_s)"
   ]
  },
  {
   "cell_type": "code",
   "execution_count": 41,
   "metadata": {},
   "outputs": [],
   "source": [
    "dose_error = new_doctor[new_doctor['感專建議'].str.contains('劑量或頻率錯誤', na=False)]\n",
    "symptoms_error = new_doctor[new_doctor['感專建議'].str.contains('與適應症或現行準則不合', na=False)]\n",
    "another = new_doctor[~new_doctor['感專建議'].str.contains('劑量或頻率錯誤', na=False) &  ~new_doctor['感專建議'].str.contains('與適應症或現行準則不合', na=False)]\n",
    "\n",
    "nde = dose_error.groupby(['year', 'month'])['審查結果'].value_counts()\n",
    "nse = symptoms_error.groupby(['year', 'month'])['審查結果'].value_counts()\n",
    "ano = another.groupby(['year', 'month'])['審查結果'].value_counts()"
   ]
  },
  {
   "cell_type": "code",
   "execution_count": 42,
   "metadata": {},
   "outputs": [
    {
     "name": "stderr",
     "output_type": "stream",
     "text": [
      "C:\\Users\\User\\AppData\\Local\\Temp\\ipykernel_23952\\4184837079.py:4: SettingWithCopyWarning: \n",
      "A value is trying to be set on a copy of a slice from a DataFrame.\n",
      "Try using .loc[row_indexer,col_indexer] = value instead\n",
      "\n",
      "See the caveats in the documentation: https://pandas.pydata.org/pandas-docs/stable/user_guide/indexing.html#returning-a-view-versus-a-copy\n",
      "  new_doctor['hue'] = np.select(conditions, values)\n"
     ]
    }
   ],
   "source": [
    "conditions=[new_doctor['感專建議'].str.contains('劑量或頻率錯誤', na=False), new_doctor['感專建議'].str.contains('與適應症或現行準則不合', na=False),\n",
    "            ~new_doctor['感專建議'].str.contains('劑量或頻率錯誤', na=False) &  ~new_doctor['感專建議'].str.contains('與適應症或現行準則不合', na=False)]\n",
    "values=['dose_error', 'symptoms_error', 'another']\n",
    "new_doctor['hue'] = np.select(conditions, values)\n",
    "# new_doctor"
   ]
  },
  {
   "cell_type": "code",
   "execution_count": 54,
   "metadata": {},
   "outputs": [
    {
     "data": {
      "text/html": [
       "<div>\n",
       "<style scoped>\n",
       "    .dataframe tbody tr th:only-of-type {\n",
       "        vertical-align: middle;\n",
       "    }\n",
       "\n",
       "    .dataframe tbody tr th {\n",
       "        vertical-align: top;\n",
       "    }\n",
       "\n",
       "    .dataframe thead th {\n",
       "        text-align: right;\n",
       "    }\n",
       "</style>\n",
       "<table border=\"1\" class=\"dataframe\">\n",
       "  <thead>\n",
       "    <tr style=\"text-align: right;\">\n",
       "      <th></th>\n",
       "      <th></th>\n",
       "      <th></th>\n",
       "      <th>hue</th>\n",
       "    </tr>\n",
       "    <tr>\n",
       "      <th>year</th>\n",
       "      <th>month</th>\n",
       "      <th>hue</th>\n",
       "      <th></th>\n",
       "    </tr>\n",
       "  </thead>\n",
       "  <tbody>\n",
       "    <tr>\n",
       "      <th rowspan=\"5\" valign=\"top\">2018</th>\n",
       "      <th rowspan=\"3\" valign=\"top\">1</th>\n",
       "      <th>another</th>\n",
       "      <td>48</td>\n",
       "    </tr>\n",
       "    <tr>\n",
       "      <th>dose_error</th>\n",
       "      <td>211</td>\n",
       "    </tr>\n",
       "    <tr>\n",
       "      <th>symptoms_error</th>\n",
       "      <td>12</td>\n",
       "    </tr>\n",
       "    <tr>\n",
       "      <th rowspan=\"2\" valign=\"top\">2</th>\n",
       "      <th>another</th>\n",
       "      <td>64</td>\n",
       "    </tr>\n",
       "    <tr>\n",
       "      <th>dose_error</th>\n",
       "      <td>171</td>\n",
       "    </tr>\n",
       "    <tr>\n",
       "      <th>...</th>\n",
       "      <th>...</th>\n",
       "      <th>...</th>\n",
       "      <td>...</td>\n",
       "    </tr>\n",
       "    <tr>\n",
       "      <th rowspan=\"5\" valign=\"top\">2022</th>\n",
       "      <th rowspan=\"2\" valign=\"top\">2</th>\n",
       "      <th>dose_error</th>\n",
       "      <td>57</td>\n",
       "    </tr>\n",
       "    <tr>\n",
       "      <th>symptoms_error</th>\n",
       "      <td>12</td>\n",
       "    </tr>\n",
       "    <tr>\n",
       "      <th rowspan=\"3\" valign=\"top\">3</th>\n",
       "      <th>another</th>\n",
       "      <td>175</td>\n",
       "    </tr>\n",
       "    <tr>\n",
       "      <th>dose_error</th>\n",
       "      <td>91</td>\n",
       "    </tr>\n",
       "    <tr>\n",
       "      <th>symptoms_error</th>\n",
       "      <td>29</td>\n",
       "    </tr>\n",
       "  </tbody>\n",
       "</table>\n",
       "<p>152 rows × 1 columns</p>\n",
       "</div>"
      ],
      "text/plain": [
       "                           hue\n",
       "year month hue                \n",
       "2018 1     another          48\n",
       "           dose_error      211\n",
       "           symptoms_error   12\n",
       "     2     another          64\n",
       "           dose_error      171\n",
       "...                        ...\n",
       "2022 2     dose_error       57\n",
       "           symptoms_error   12\n",
       "     3     another         175\n",
       "           dose_error       91\n",
       "           symptoms_error   29\n",
       "\n",
       "[152 rows x 1 columns]"
      ]
     },
     "execution_count": 54,
     "metadata": {},
     "output_type": "execute_result"
    }
   ],
   "source": [
    "new_doctor1 = pd.DataFrame(new_doctor.groupby(['year', 'month'])['hue'].value_counts()).sort_index(ascending=True)\n",
    "# new_doctor1 = pd.merge(new_doctor1, pd.DataFrame(new_s) , how='left', on=['year', 'month'])\n",
    "new_doctor1"
   ]
  },
  {
   "cell_type": "code",
   "execution_count": null,
   "metadata": {},
   "outputs": [],
   "source": [
    "new_doctor1['percent'] = new_doctor1.hue/new_doctor1['審查結果']"
   ]
  },
  {
   "cell_type": "code",
   "execution_count": 53,
   "metadata": {},
   "outputs": [],
   "source": [
    "# new_doctor1.to_excel(r'C:\\Users\\User\\VSCode\\CDSS\\output\\感專醫師forB.xlsx')"
   ]
  },
  {
   "cell_type": "code",
   "execution_count": null,
   "metadata": {},
   "outputs": [
    {
     "data": {
      "text/plain": [
       "編號                      11580\n",
       "日期                      11580\n",
       "病歷號                     11580\n",
       "科部代碼                    11580\n",
       "科部名稱                    11580\n",
       "職編                      11580\n",
       "審核醫師                    11580\n",
       "審查結果                    11580\n",
       "開單醫師                    11580\n",
       "感專建議                    11580\n",
       "開單日期                    11580\n",
       "開單時間                    11580\n",
       "審核日期                    11580\n",
       "審核時間                    11580\n",
       "year                    11580\n",
       "month                   11580\n",
       "Error_Dose_Frequency    11580\n",
       "dtype: int64"
      ]
     },
     "execution_count": 19,
     "metadata": {},
     "output_type": "execute_result"
    }
   ],
   "source": [
    "new_doctor.drop_duplicates().count()"
   ]
  },
  {
   "cell_type": "code",
   "execution_count": null,
   "metadata": {},
   "outputs": [],
   "source": []
  }
 ],
 "metadata": {
  "interpreter": {
   "hash": "f544ce1a915a9875fad91c894e2c0bcad4b7a79945aa6027ef3ad27810072aa6"
  },
  "kernelspec": {
   "display_name": "Python 3.8.6 64-bit",
   "language": "python",
   "name": "python3"
  },
  "language_info": {
   "codemirror_mode": {
    "name": "ipython",
    "version": 3
   },
   "file_extension": ".py",
   "mimetype": "text/x-python",
   "name": "python",
   "nbconvert_exporter": "python",
   "pygments_lexer": "ipython3",
   "version": "3.8.6"
  },
  "orig_nbformat": 4
 },
 "nbformat": 4,
 "nbformat_minor": 2
}
