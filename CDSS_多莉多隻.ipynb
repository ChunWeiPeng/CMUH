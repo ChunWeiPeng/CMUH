{
 "cells": [
  {
   "cell_type": "code",
   "execution_count": 1,
   "metadata": {},
   "outputs": [],
   "source": [
    "import numpy as np\n",
    "import pandas as pd\n",
    "from datetime import datetime\n",
    "from datetime import date"
   ]
  },
  {
   "cell_type": "code",
   "execution_count": 2,
   "metadata": {},
   "outputs": [],
   "source": [
    "f = r'C:\\Users\\User\\VSCode\\感專醫師審核記錄201801-202203.xlsx'\n",
    "doctor = pd.read_excel(f)"
   ]
  },
  {
   "cell_type": "code",
   "execution_count": 3,
   "metadata": {},
   "outputs": [
    {
     "data": {
      "text/plain": [
       "編號      346861\n",
       "日期      346861\n",
       "病歷號     346861\n",
       "科部代碼    346861\n",
       "科部名稱    346861\n",
       "職編      346861\n",
       "審核醫師    346861\n",
       "審查結果    346861\n",
       "開單醫師    346860\n",
       "感專建議    207520\n",
       "開單日期    346861\n",
       "開單時間    346861\n",
       "審核日期    346861\n",
       "審核時間    346861\n",
       "dtype: int64"
      ]
     },
     "execution_count": 3,
     "metadata": {},
     "output_type": "execute_result"
    }
   ],
   "source": [
    "doctor.count()"
   ]
  },
  {
   "cell_type": "code",
   "execution_count": 12,
   "metadata": {},
   "outputs": [],
   "source": [
    "A = doctor[doctor['審查結果'].str.contains(\"A\", na=False)]\n",
    "B = doctor[doctor['審查結果'].str.contains(\"B\", na=False)]\n",
    "C = doctor[doctor['審查結果'].str.contains(\"C\", na=False)]\n",
    "D = doctor[doctor['審查結果'].str.contains(\"D\", na=False)]\n",
    "E = doctor[doctor['審查結果'].str.contains(\"E\", na=False)]"
   ]
  },
  {
   "cell_type": "code",
   "execution_count": 7,
   "metadata": {},
   "outputs": [
    {
     "data": {
      "text/plain": [
       "False    340709\n",
       "True       6152\n",
       "Name: 感專建議, dtype: int64"
      ]
     },
     "execution_count": 7,
     "metadata": {},
     "output_type": "execute_result"
    }
   ],
   "source": [
    "doctor['感專建議'].str.contains(\"劑量或頻率錯誤\", na=False).value_counts()"
   ]
  },
  {
   "cell_type": "code",
   "execution_count": 6,
   "metadata": {},
   "outputs": [
    {
     "data": {
      "text/plain": [
       "A.同意使用           332921\n",
       "B.建議修改            11580\n",
       "E.請完整填寫抗生素審核單      2276\n",
       "D.請開正式會診單            71\n",
       "C.48小時後再審            13\n",
       "Name: 審查結果, dtype: int64"
      ]
     },
     "execution_count": 6,
     "metadata": {},
     "output_type": "execute_result"
    }
   ],
   "source": [
    "doctor['審查結果'].value_counts()"
   ]
  },
  {
   "cell_type": "code",
   "execution_count": 8,
   "metadata": {},
   "outputs": [
    {
     "data": {
      "text/plain": [
       "False    332816\n",
       "True        105\n",
       "Name: 感專建議, dtype: int64"
      ]
     },
     "execution_count": 8,
     "metadata": {},
     "output_type": "execute_result"
    }
   ],
   "source": [
    "A['感專建議'].str.contains(\"劑量或頻率錯誤\", na=False).value_counts()"
   ]
  },
  {
   "cell_type": "code",
   "execution_count": 9,
   "metadata": {},
   "outputs": [
    {
     "data": {
      "text/plain": [
       "True     6022\n",
       "False    5558\n",
       "Name: 感專建議, dtype: int64"
      ]
     },
     "execution_count": 9,
     "metadata": {},
     "output_type": "execute_result"
    }
   ],
   "source": [
    "B['感專建議'].str.contains(\"劑量或頻率錯誤\", na=False).value_counts()"
   ]
  },
  {
   "cell_type": "code",
   "execution_count": 13,
   "metadata": {},
   "outputs": [
    {
     "data": {
      "text/plain": [
       "False    13\n",
       "Name: 感專建議, dtype: int64"
      ]
     },
     "execution_count": 13,
     "metadata": {},
     "output_type": "execute_result"
    }
   ],
   "source": [
    "C['感專建議'].str.contains(\"劑量或頻率錯誤\", na=False).value_counts()"
   ]
  },
  {
   "cell_type": "code",
   "execution_count": 14,
   "metadata": {},
   "outputs": [
    {
     "data": {
      "text/plain": [
       "False    63\n",
       "True      8\n",
       "Name: 感專建議, dtype: int64"
      ]
     },
     "execution_count": 14,
     "metadata": {},
     "output_type": "execute_result"
    }
   ],
   "source": [
    "D['感專建議'].str.contains(\"劑量或頻率錯誤\", na=False).value_counts()"
   ]
  },
  {
   "cell_type": "code",
   "execution_count": 15,
   "metadata": {},
   "outputs": [
    {
     "data": {
      "text/plain": [
       "False    2259\n",
       "True       17\n",
       "Name: 感專建議, dtype: int64"
      ]
     },
     "execution_count": 15,
     "metadata": {},
     "output_type": "execute_result"
    }
   ],
   "source": [
    "E['感專建議'].str.contains(\"劑量或頻率錯誤\", na=False).value_counts()"
   ]
  },
  {
   "cell_type": "code",
   "execution_count": null,
   "metadata": {},
   "outputs": [],
   "source": []
  }
 ],
 "metadata": {
  "interpreter": {
   "hash": "5c0372ed38b372118c24adb00d45654d76c8d10261533c5724e3f5fc1d75489a"
  },
  "kernelspec": {
   "display_name": "Python 3.8.6 64-bit",
   "language": "python",
   "name": "python3"
  },
  "language_info": {
   "codemirror_mode": {
    "name": "ipython",
    "version": 3
   },
   "file_extension": ".py",
   "mimetype": "text/x-python",
   "name": "python",
   "nbconvert_exporter": "python",
   "pygments_lexer": "ipython3",
   "version": "3.8.6"
  },
  "orig_nbformat": 4
 },
 "nbformat": 4,
 "nbformat_minor": 2
}
