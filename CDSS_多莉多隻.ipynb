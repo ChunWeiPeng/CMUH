{
 "cells": [
  {
   "cell_type": "code",
   "execution_count": 2,
   "metadata": {},
   "outputs": [],
   "source": [
    "import numpy as np\n",
    "import pandas as pd\n",
    "from datetime import datetime\n",
    "from datetime import date\n",
    "\n",
    "import matplotlib.pyplot as plt\n",
    "import seaborn as sns\n"
   ]
  },
  {
   "cell_type": "code",
   "execution_count": 3,
   "metadata": {},
   "outputs": [],
   "source": [
    "f = r'C:\\Users\\User\\VSCode\\CDSS\\source\\感專醫師審核記錄201801-202203.xlsx'\n",
    "doctor = pd.read_excel(f)"
   ]
  },
  {
   "cell_type": "code",
   "execution_count": 4,
   "metadata": {},
   "outputs": [
    {
     "data": {
      "text/plain": [
       "編號      346861\n",
       "日期      346861\n",
       "病歷號     346861\n",
       "科部代碼    346861\n",
       "科部名稱    346861\n",
       "職編      346861\n",
       "審核醫師    346861\n",
       "審查結果    346861\n",
       "開單醫師    346860\n",
       "感專建議    207520\n",
       "開單日期    346861\n",
       "開單時間    346861\n",
       "審核日期    346861\n",
       "審核時間    346861\n",
       "dtype: int64"
      ]
     },
     "execution_count": 4,
     "metadata": {},
     "output_type": "execute_result"
    }
   ],
   "source": [
    "doctor.count()"
   ]
  },
  {
   "cell_type": "code",
   "execution_count": 5,
   "metadata": {},
   "outputs": [],
   "source": [
    "doctor['日期'] = doctor['日期'] + 19110000\n",
    "doctor['日期'] = pd.to_datetime(doctor['日期'], format='%Y%m%d')\n",
    "doctor['year'] = doctor['日期'].dt.year\n",
    "doctor['month'] = doctor['日期'].dt.month\n",
    "doctor['Error_Dose_Frequency'] = doctor['感專建議'].str.contains(\"劑量或頻率錯誤\", na=False)"
   ]
  },
  {
   "cell_type": "code",
   "execution_count": 6,
   "metadata": {},
   "outputs": [
    {
     "data": {
      "text/plain": [
       "year  month\n",
       "2018  1        7743\n",
       "      2        6325\n",
       "      3        7818\n",
       "      4        7482\n",
       "      5        7348\n",
       "      6        7283\n",
       "      7        8024\n",
       "      8        8289\n",
       "      9        7004\n",
       "      10       7810\n",
       "      11       7336\n",
       "      12       7497\n",
       "2019  1        7437\n",
       "      2        5760\n",
       "      3        7870\n",
       "      4         365\n",
       "      5         276\n",
       "      6         383\n",
       "      7         428\n",
       "      8         899\n",
       "      9        3513\n",
       "      10       7864\n",
       "      11       7926\n",
       "      12       8551\n",
       "2020  1        7093\n",
       "      2        7642\n",
       "      3        7637\n",
       "      4        7320\n",
       "      5        7461\n",
       "      6        8176\n",
       "      7        7876\n",
       "      8        8245\n",
       "      9        8230\n",
       "      10       7883\n",
       "      11        830\n",
       "      12       3782\n",
       "2021  1        8404\n",
       "      2        7028\n",
       "      3        8631\n",
       "      4        8129\n",
       "      5        8364\n",
       "      6        7378\n",
       "      7        7739\n",
       "      8        8900\n",
       "      9        7854\n",
       "      10       8427\n",
       "      11       8131\n",
       "      12       7904\n",
       "2022  1        8672\n",
       "      2        7908\n",
       "      3        9986\n",
       "dtype: int64"
      ]
     },
     "execution_count": 6,
     "metadata": {},
     "output_type": "execute_result"
    }
   ],
   "source": [
    "suggest = doctor.groupby(['year', 'month'])\n",
    "s = suggest['審查結果'].value_counts()\n",
    "suggest.size()"
   ]
  },
  {
   "cell_type": "code",
   "execution_count": 7,
   "metadata": {},
   "outputs": [],
   "source": [
    "A = doctor[doctor['審查結果'].str.contains(\"A\", na=False)]\n",
    "B = doctor[doctor['審查結果'].str.contains(\"B\", na=False)]\n",
    "C = doctor[doctor['審查結果'].str.contains(\"C\", na=False)]\n",
    "D = doctor[doctor['審查結果'].str.contains(\"D\", na=False)]\n",
    "E = doctor[doctor['審查結果'].str.contains(\"E\", na=False)]"
   ]
  },
  {
   "cell_type": "code",
   "execution_count": 8,
   "metadata": {},
   "outputs": [
    {
     "data": {
      "text/plain": [
       "False    340709\n",
       "True       6152\n",
       "Name: 感專建議, dtype: int64"
      ]
     },
     "execution_count": 8,
     "metadata": {},
     "output_type": "execute_result"
    }
   ],
   "source": [
    "doctor['感專建議'].str.contains(\"劑量或頻率錯誤\", na=False).value_counts()"
   ]
  },
  {
   "cell_type": "code",
   "execution_count": 9,
   "metadata": {},
   "outputs": [
    {
     "data": {
      "text/plain": [
       "Index(['A.同意使用', 'B.建議修改', 'E.請完整填寫抗生素審核單', 'D.請開正式會診單', 'C.48小時後再審'], dtype='object')"
      ]
     },
     "execution_count": 9,
     "metadata": {},
     "output_type": "execute_result"
    }
   ],
   "source": [
    "doctor['審查結果'].value_counts().index"
   ]
  },
  {
   "cell_type": "code",
   "execution_count": 10,
   "metadata": {},
   "outputs": [
    {
     "data": {
      "text/plain": [
       "False    332816\n",
       "True        105\n",
       "Name: 感專建議, dtype: int64"
      ]
     },
     "execution_count": 10,
     "metadata": {},
     "output_type": "execute_result"
    }
   ],
   "source": [
    "A['感專建議'].str.contains(\"劑量或頻率錯誤\", na=False).value_counts()"
   ]
  },
  {
   "cell_type": "code",
   "execution_count": 11,
   "metadata": {},
   "outputs": [
    {
     "data": {
      "text/plain": [
       "True     6022\n",
       "False    5558\n",
       "Name: 感專建議, dtype: int64"
      ]
     },
     "execution_count": 11,
     "metadata": {},
     "output_type": "execute_result"
    }
   ],
   "source": [
    "B['感專建議'].str.contains(\"劑量或頻率錯誤\", na=False).value_counts()"
   ]
  },
  {
   "cell_type": "code",
   "execution_count": 12,
   "metadata": {},
   "outputs": [
    {
     "data": {
      "text/plain": [
       "False    13\n",
       "Name: 感專建議, dtype: int64"
      ]
     },
     "execution_count": 12,
     "metadata": {},
     "output_type": "execute_result"
    }
   ],
   "source": [
    "C['感專建議'].str.contains(\"劑量或頻率錯誤\", na=False).value_counts()"
   ]
  },
  {
   "cell_type": "code",
   "execution_count": 13,
   "metadata": {},
   "outputs": [
    {
     "data": {
      "text/plain": [
       "False    63\n",
       "True      8\n",
       "Name: 感專建議, dtype: int64"
      ]
     },
     "execution_count": 13,
     "metadata": {},
     "output_type": "execute_result"
    }
   ],
   "source": [
    "D['感專建議'].str.contains(\"劑量或頻率錯誤\", na=False).value_counts()"
   ]
  },
  {
   "cell_type": "code",
   "execution_count": 14,
   "metadata": {},
   "outputs": [
    {
     "data": {
      "text/plain": [
       "False    2259\n",
       "True       17\n",
       "Name: 感專建議, dtype: int64"
      ]
     },
     "execution_count": 14,
     "metadata": {},
     "output_type": "execute_result"
    }
   ],
   "source": [
    "E['感專建議'].str.contains(\"劑量或頻率錯誤\", na=False).value_counts()"
   ]
  },
  {
   "cell_type": "code",
   "execution_count": 15,
   "metadata": {},
   "outputs": [
    {
     "data": {
      "text/html": [
       "<div>\n",
       "<style scoped>\n",
       "    .dataframe tbody tr th:only-of-type {\n",
       "        vertical-align: middle;\n",
       "    }\n",
       "\n",
       "    .dataframe tbody tr th {\n",
       "        vertical-align: top;\n",
       "    }\n",
       "\n",
       "    .dataframe thead th {\n",
       "        text-align: right;\n",
       "    }\n",
       "</style>\n",
       "<table border=\"1\" class=\"dataframe\">\n",
       "  <thead>\n",
       "    <tr style=\"text-align: right;\">\n",
       "      <th></th>\n",
       "      <th></th>\n",
       "      <th></th>\n",
       "      <th></th>\n",
       "      <th>0</th>\n",
       "    </tr>\n",
       "    <tr>\n",
       "      <th>year</th>\n",
       "      <th>month</th>\n",
       "      <th>審查結果</th>\n",
       "      <th>Error_Dose_Frequency</th>\n",
       "      <th></th>\n",
       "    </tr>\n",
       "  </thead>\n",
       "  <tbody>\n",
       "    <tr>\n",
       "      <th rowspan=\"5\" valign=\"top\">2018</th>\n",
       "      <th rowspan=\"5\" valign=\"top\">1</th>\n",
       "      <th>A.同意使用</th>\n",
       "      <th>False</th>\n",
       "      <td>7370</td>\n",
       "    </tr>\n",
       "    <tr>\n",
       "      <th>B.建議修改</th>\n",
       "      <th>True</th>\n",
       "      <td>211</td>\n",
       "    </tr>\n",
       "    <tr>\n",
       "      <th>E.請完整填寫抗生素審核單</th>\n",
       "      <th>False</th>\n",
       "      <td>96</td>\n",
       "    </tr>\n",
       "    <tr>\n",
       "      <th>B.建議修改</th>\n",
       "      <th>False</th>\n",
       "      <td>60</td>\n",
       "    </tr>\n",
       "    <tr>\n",
       "      <th>A.同意使用</th>\n",
       "      <th>True</th>\n",
       "      <td>5</td>\n",
       "    </tr>\n",
       "    <tr>\n",
       "      <th>...</th>\n",
       "      <th>...</th>\n",
       "      <th>...</th>\n",
       "      <th>...</th>\n",
       "      <td>...</td>\n",
       "    </tr>\n",
       "    <tr>\n",
       "      <th rowspan=\"5\" valign=\"top\">2022</th>\n",
       "      <th rowspan=\"5\" valign=\"top\">3</th>\n",
       "      <th>B.建議修改</th>\n",
       "      <th>False</th>\n",
       "      <td>204</td>\n",
       "    </tr>\n",
       "    <tr>\n",
       "      <th>E.請完整填寫抗生素審核單</th>\n",
       "      <th>False</th>\n",
       "      <td>144</td>\n",
       "    </tr>\n",
       "    <tr>\n",
       "      <th>B.建議修改</th>\n",
       "      <th>True</th>\n",
       "      <td>91</td>\n",
       "    </tr>\n",
       "    <tr>\n",
       "      <th>D.請開正式會診單</th>\n",
       "      <th>False</th>\n",
       "      <td>11</td>\n",
       "    </tr>\n",
       "    <tr>\n",
       "      <th>E.請完整填寫抗生素審核單</th>\n",
       "      <th>True</th>\n",
       "      <td>3</td>\n",
       "    </tr>\n",
       "  </tbody>\n",
       "</table>\n",
       "<p>301 rows × 1 columns</p>\n",
       "</div>"
      ],
      "text/plain": [
       "                                                  0\n",
       "year month 審查結果          Error_Dose_Frequency      \n",
       "2018 1     A.同意使用        False                 7370\n",
       "           B.建議修改        True                   211\n",
       "           E.請完整填寫抗生素審核單 False                   96\n",
       "           B.建議修改        False                   60\n",
       "           A.同意使用        True                     5\n",
       "...                                             ...\n",
       "2022 3     B.建議修改        False                  204\n",
       "           E.請完整填寫抗生素審核單 False                  144\n",
       "           B.建議修改        True                    91\n",
       "           D.請開正式會診單     False                   11\n",
       "           E.請完整填寫抗生素審核單 True                     3\n",
       "\n",
       "[301 rows x 1 columns]"
      ]
     },
     "execution_count": 15,
     "metadata": {},
     "output_type": "execute_result"
    }
   ],
   "source": [
    "pd.DataFrame(suggest[['審查結果','Error_Dose_Frequency']].value_counts())\n",
    "# .to_excel(r'C:\\Users\\User\\Desktop\\多利多之感言.xlsx')"
   ]
  },
  {
   "cell_type": "code",
   "execution_count": 16,
   "metadata": {},
   "outputs": [
    {
     "data": {
      "text/plain": [
       "<pandas.core.groupby.generic.DataFrameGroupBy object at 0x000001B34A73FC10>"
      ]
     },
     "execution_count": 16,
     "metadata": {},
     "output_type": "execute_result"
    }
   ],
   "source": [
    "suggest"
   ]
  },
  {
   "cell_type": "code",
   "execution_count": 17,
   "metadata": {},
   "outputs": [
    {
     "data": {
      "text/plain": [
       "year  month\n",
       "2018  1        271\n",
       "      2        242\n",
       "      3        306\n",
       "      4        258\n",
       "      5        231\n",
       "      6        321\n",
       "      7        336\n",
       "      8        389\n",
       "      9        242\n",
       "      10       255\n",
       "      11       366\n",
       "      12       254\n",
       "2019  1        370\n",
       "      2        181\n",
       "      3        391\n",
       "      4         22\n",
       "      5         14\n",
       "      6         12\n",
       "      7         12\n",
       "      8         35\n",
       "      9        169\n",
       "      10       278\n",
       "      11       421\n",
       "      12       435\n",
       "2020  1        267\n",
       "      2        336\n",
       "      3        264\n",
       "      4        261\n",
       "      5        310\n",
       "      6        376\n",
       "      7        298\n",
       "      8        235\n",
       "      9        282\n",
       "      10       233\n",
       "      11        19\n",
       "      12        86\n",
       "2021  1        162\n",
       "      2        185\n",
       "      3        233\n",
       "      4        183\n",
       "      5        207\n",
       "      6        145\n",
       "      7        145\n",
       "      8        217\n",
       "      9        186\n",
       "      10       126\n",
       "      11       139\n",
       "      12       195\n",
       "2022  1        218\n",
       "      2        166\n",
       "      3        295\n",
       "dtype: int64"
      ]
     },
     "execution_count": 17,
     "metadata": {},
     "output_type": "execute_result"
    }
   ],
   "source": [
    "new_doctor = doctor[doctor['審查結果'].str.contains('B.建議修改')]\n",
    "new_suggest = new_doctor.groupby(['year', 'month'])\n",
    "new_s = new_suggest['審查結果'].value_counts()\n",
    "new_suggest.size()"
   ]
  },
  {
   "cell_type": "code",
   "execution_count": 18,
   "metadata": {},
   "outputs": [],
   "source": [
    "dose_error = new_doctor[new_doctor['感專建議'].str.contains('劑量或頻率錯誤', na=False)]\n",
    "symptoms_error = new_doctor[new_doctor['感專建議'].str.contains('與適應症或現行準則不合', na=False)]\n",
    "another = new_doctor[~new_doctor['感專建議'].str.contains('劑量或頻率錯誤', na=False) &  ~new_doctor['感專建議'].str.contains('與適應症或現行準則不合', na=False)]\n",
    "\n",
    "nde = dose_error.groupby(['year', 'month'])['審查結果'].value_counts()\n",
    "nse = symptoms_error.groupby(['year', 'month'])['審查結果'].value_counts()\n",
    "ano = another.groupby(['year', 'month'])['審查結果'].value_counts()"
   ]
  },
  {
   "cell_type": "code",
   "execution_count": null,
   "metadata": {},
   "outputs": [],
   "source": [
    "conditions=[new_doctor['感專建議'].str.contains('劑量或頻率錯誤', na=False), new_doctor['感專建議'].str.contains('與適應症或現行準則不合', na=False),\n",
    "            ~new_doctor['感專建議'].str.contains('劑量或頻率錯誤', na=False) &  ~new_doctor['感專建議'].str.contains('與適應症或現行準則不合', na=False)]\n",
    "values=['dose_error', 'symptoms_error', 'another']\n",
    "new_doctor['hue'] = np.select(conditions, values)\n",
    "# new_doctor"
   ]
  },
  {
   "cell_type": "code",
   "execution_count": 53,
   "metadata": {},
   "outputs": [
    {
     "data": {
      "text/html": [
       "<div>\n",
       "<style scoped>\n",
       "    .dataframe tbody tr th:only-of-type {\n",
       "        vertical-align: middle;\n",
       "    }\n",
       "\n",
       "    .dataframe tbody tr th {\n",
       "        vertical-align: top;\n",
       "    }\n",
       "\n",
       "    .dataframe thead th {\n",
       "        text-align: right;\n",
       "    }\n",
       "</style>\n",
       "<table border=\"1\" class=\"dataframe\">\n",
       "  <thead>\n",
       "    <tr style=\"text-align: right;\">\n",
       "      <th></th>\n",
       "      <th></th>\n",
       "      <th>hue</th>\n",
       "      <th>審查結果</th>\n",
       "    </tr>\n",
       "    <tr>\n",
       "      <th>year</th>\n",
       "      <th>month</th>\n",
       "      <th></th>\n",
       "      <th></th>\n",
       "    </tr>\n",
       "  </thead>\n",
       "  <tbody>\n",
       "    <tr>\n",
       "      <th rowspan=\"5\" valign=\"top\">2018</th>\n",
       "      <th>1</th>\n",
       "      <td>211</td>\n",
       "      <td>271</td>\n",
       "    </tr>\n",
       "    <tr>\n",
       "      <th>1</th>\n",
       "      <td>48</td>\n",
       "      <td>271</td>\n",
       "    </tr>\n",
       "    <tr>\n",
       "      <th>1</th>\n",
       "      <td>12</td>\n",
       "      <td>271</td>\n",
       "    </tr>\n",
       "    <tr>\n",
       "      <th>2</th>\n",
       "      <td>171</td>\n",
       "      <td>242</td>\n",
       "    </tr>\n",
       "    <tr>\n",
       "      <th>2</th>\n",
       "      <td>64</td>\n",
       "      <td>242</td>\n",
       "    </tr>\n",
       "    <tr>\n",
       "      <th>...</th>\n",
       "      <th>...</th>\n",
       "      <td>...</td>\n",
       "      <td>...</td>\n",
       "    </tr>\n",
       "    <tr>\n",
       "      <th rowspan=\"5\" valign=\"top\">2022</th>\n",
       "      <th>2</th>\n",
       "      <td>57</td>\n",
       "      <td>166</td>\n",
       "    </tr>\n",
       "    <tr>\n",
       "      <th>2</th>\n",
       "      <td>12</td>\n",
       "      <td>166</td>\n",
       "    </tr>\n",
       "    <tr>\n",
       "      <th>3</th>\n",
       "      <td>175</td>\n",
       "      <td>295</td>\n",
       "    </tr>\n",
       "    <tr>\n",
       "      <th>3</th>\n",
       "      <td>91</td>\n",
       "      <td>295</td>\n",
       "    </tr>\n",
       "    <tr>\n",
       "      <th>3</th>\n",
       "      <td>29</td>\n",
       "      <td>295</td>\n",
       "    </tr>\n",
       "  </tbody>\n",
       "</table>\n",
       "<p>152 rows × 2 columns</p>\n",
       "</div>"
      ],
      "text/plain": [
       "            hue  審查結果\n",
       "year month           \n",
       "2018 1      211   271\n",
       "     1       48   271\n",
       "     1       12   271\n",
       "     2      171   242\n",
       "     2       64   242\n",
       "...         ...   ...\n",
       "2022 2       57   166\n",
       "     2       12   166\n",
       "     3      175   295\n",
       "     3       91   295\n",
       "     3       29   295\n",
       "\n",
       "[152 rows x 2 columns]"
      ]
     },
     "execution_count": 53,
     "metadata": {},
     "output_type": "execute_result"
    }
   ],
   "source": [
    "new_doctor1 = pd.DataFrame(new_doctor.groupby(['year', 'month'])['hue'].value_counts())\n",
    "new_doctor1 = pd.merge(new_doctor1, pd.DataFrame(new_s) , how='left', on=['year', 'month'])\n",
    "new_doctor1"
   ]
  },
  {
   "cell_type": "code",
   "execution_count": 54,
   "metadata": {},
   "outputs": [],
   "source": [
    "new_doctor1['percent'] = new_doctor1.hue/new_doctor1['審查結果']"
   ]
  },
  {
   "cell_type": "code",
   "execution_count": 56,
   "metadata": {},
   "outputs": [],
   "source": [
    "# new_doctor1.to_excel(r'C:\\Users\\User\\VSCode\\CDSS\\output\\感專醫師forB.xlsx')"
   ]
  },
  {
   "cell_type": "code",
   "execution_count": null,
   "metadata": {},
   "outputs": [],
   "source": []
  }
 ],
 "metadata": {
  "interpreter": {
   "hash": "5c0372ed38b372118c24adb00d45654d76c8d10261533c5724e3f5fc1d75489a"
  },
  "kernelspec": {
   "display_name": "Python 3.8.6 64-bit",
   "language": "python",
   "name": "python3"
  },
  "language_info": {
   "codemirror_mode": {
    "name": "ipython",
    "version": 3
   },
   "file_extension": ".py",
   "mimetype": "text/x-python",
   "name": "python",
   "nbconvert_exporter": "python",
   "pygments_lexer": "ipython3",
   "version": "3.8.6"
  },
  "orig_nbformat": 4
 },
 "nbformat": 4,
 "nbformat_minor": 2
}
