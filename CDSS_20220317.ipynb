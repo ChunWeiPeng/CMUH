{
 "cells": [
  {
   "cell_type": "code",
   "execution_count": 1,
   "metadata": {},
   "outputs": [],
   "source": [
    "import numpy as np\n",
    "import pandas as pd\n",
    "from datetime import datetime\n",
    "from datetime import date\n",
    "import seaborn as sn\n",
    "import matplotlib.pyplot as plt"
   ]
  },
  {
   "cell_type": "code",
   "execution_count": 4,
   "metadata": {},
   "outputs": [],
   "source": [
    "# load data\n",
    "\n",
    "mdro = pd.read_excel(r'C:\\Users\\User\\VSCode\\智抗菌平台報表_20220309.xlsx', sheet_name='MDROs', \n",
    "                        dtype={'病歷號碼':'str', '申請編號':'int', '就醫序號':'int'})\n",
    "report = pd.read_excel(r'C:\\Users\\User\\VSCode\\智抗菌平台報表_20220309.xlsx', sheet_name='微生物報告', \n",
    "                        dtype={'病歷號碼':'str', '申請編號':'int', '就醫序號':'int'})\n",
    "info = pd.read_excel(r'C:\\Users\\User\\VSCode\\智抗菌平台報表_20220309.xlsx', sheet_name='就醫資訊', \n",
    "                        dtype={'病歷號碼':'str', '就醫序號':'int'})\n",
    "anti = pd.read_excel(r'C:\\Users\\User\\VSCode\\智抗菌平台報表_20220309.xlsx', sheet_name='抗生素使用', \n",
    "                        dtype={'病歷號碼':'str', '就醫序號':'int'})\n"
   ]
  },
  {
   "cell_type": "code",
   "execution_count": 5,
   "metadata": {},
   "outputs": [],
   "source": [
    "mdro = mdro[['病歷號碼', 'time', '就醫序號','申請編號', '菌株', '預測值', '部位', 'sendTime']]\n",
    "mdro.rename({'time':'openTime'}, axis=1, inplace=True)"
   ]
  },
  {
   "cell_type": "code",
   "execution_count": 6,
   "metadata": {},
   "outputs": [],
   "source": [
    "report = report[['病歷號碼', 'bed', '就醫序號','申請編號', 'strain','部位', '抗藥性菌株', 'examTime','reportTime']]"
   ]
  },
  {
   "cell_type": "code",
   "execution_count": 7,
   "metadata": {},
   "outputs": [],
   "source": [
    "cdss = pd.merge(report, mdro, how='left', on=['病歷號碼', '就醫序號','申請編號', '部位'])\n",
    "cdss = cdss.drop_duplicates()\n",
    "cdss['minTime'] = cdss.groupby(['病歷號碼', 'bed','就醫序號', '申請編號', '部位', '菌株', '預測值',  'sendTime'])['openTime'].transform('min')"
   ]
  },
  {
   "cell_type": "code",
   "execution_count": 14,
   "metadata": {},
   "outputs": [],
   "source": [
    "info = info[['病歷號碼', '就醫序號', '性別', '生日', '來院日期', '離院日期', '天數', '門急住', '科別代碼', '科別']]\n",
    "info.rename({'門急住':'bed'}, axis=1, inplace=True)"
   ]
  },
  {
   "cell_type": "code",
   "execution_count": 18,
   "metadata": {},
   "outputs": [],
   "source": [
    "cdss_info = pd.merge(cdss, info, how='left', on=['病歷號碼', '就醫序號', 'bed'])\n",
    "cdss_info = cdss_info.drop_duplicates()"
   ]
  },
  {
   "cell_type": "code",
   "execution_count": 21,
   "metadata": {},
   "outputs": [],
   "source": [
    "CDSS = pd.merge(cdss_info, anti, how='left', on=['病歷號碼','就醫序號'])\n",
    "CDSS = CDSS.drop_duplicates()"
   ]
  },
  {
   "cell_type": "code",
   "execution_count": 23,
   "metadata": {},
   "outputs": [],
   "source": [
    "# CDSS.to_excel(r'C:\\Users\\User\\VSCode\\CDSS(2022).xlsx')"
   ]
  },
  {
   "cell_type": "code",
   "execution_count": 29,
   "metadata": {},
   "outputs": [],
   "source": [
    "# evaluation\n",
    "\n",
    "m = CDSS[CDSS.openTime==CDSS.minTime]"
   ]
  },
  {
   "cell_type": "code",
   "execution_count": 30,
   "metadata": {},
   "outputs": [],
   "source": [
    "SA = m[(m['菌株'] == 'Staphylococcus aureus')|(m['菌株'] == 'Staphylococcus aureus(MRSA)')]\n",
    "SA = SA.drop_duplicates() #766"
   ]
  },
  {
   "cell_type": "code",
   "execution_count": 31,
   "metadata": {},
   "outputs": [
    {
     "data": {
      "text/html": [
       "<div>\n",
       "<style scoped>\n",
       "    .dataframe tbody tr th:only-of-type {\n",
       "        vertical-align: middle;\n",
       "    }\n",
       "\n",
       "    .dataframe tbody tr th {\n",
       "        vertical-align: top;\n",
       "    }\n",
       "\n",
       "    .dataframe thead th {\n",
       "        text-align: right;\n",
       "    }\n",
       "</style>\n",
       "<table border=\"1\" class=\"dataframe\">\n",
       "  <thead>\n",
       "    <tr style=\"text-align: right;\">\n",
       "      <th></th>\n",
       "      <th>病歷號碼</th>\n",
       "      <th>bed</th>\n",
       "      <th>就醫序號</th>\n",
       "      <th>申請編號</th>\n",
       "      <th>strain</th>\n",
       "      <th>部位</th>\n",
       "      <th>抗藥性菌株</th>\n",
       "      <th>examTime</th>\n",
       "      <th>reportTime</th>\n",
       "      <th>openTime</th>\n",
       "      <th>...</th>\n",
       "      <th>每次量</th>\n",
       "      <th>途徑</th>\n",
       "      <th>頻率</th>\n",
       "      <th>使用天數</th>\n",
       "      <th>開始時間</th>\n",
       "      <th>截止時間</th>\n",
       "      <th>囑咐</th>\n",
       "      <th>SA_pred</th>\n",
       "      <th>SA_actual</th>\n",
       "      <th>Group</th>\n",
       "    </tr>\n",
       "  </thead>\n",
       "  <tbody>\n",
       "    <tr>\n",
       "      <th>21278</th>\n",
       "      <td>0037886792</td>\n",
       "      <td>住院</td>\n",
       "      <td>231737615</td>\n",
       "      <td>393924901</td>\n",
       "      <td>[嗜氧] Staphylococcus aureus(MRSA) (Gram Positiv...</td>\n",
       "      <td>SCO</td>\n",
       "      <td>1.0</td>\n",
       "      <td>2021-12-30 13:02</td>\n",
       "      <td>2022-01-04 10:01</td>\n",
       "      <td>2022-01-03 08:50</td>\n",
       "      <td>...</td>\n",
       "      <td>1.0</td>\n",
       "      <td>IVD</td>\n",
       "      <td>STAT</td>\n",
       "      <td>1.0</td>\n",
       "      <td>2021-12-02 00:17</td>\n",
       "      <td>2021-12-02 00:17</td>\n",
       "      <td>NaN</td>\n",
       "      <td>1</td>\n",
       "      <td>1</td>\n",
       "      <td>Staphylococcus aureus</td>\n",
       "    </tr>\n",
       "    <tr>\n",
       "      <th>21279</th>\n",
       "      <td>0037886792</td>\n",
       "      <td>住院</td>\n",
       "      <td>231737615</td>\n",
       "      <td>393924901</td>\n",
       "      <td>[嗜氧] Staphylococcus aureus(MRSA) (Gram Positiv...</td>\n",
       "      <td>SCO</td>\n",
       "      <td>1.0</td>\n",
       "      <td>2021-12-30 13:02</td>\n",
       "      <td>2022-01-04 10:01</td>\n",
       "      <td>2022-01-03 08:50</td>\n",
       "      <td>...</td>\n",
       "      <td>1.0</td>\n",
       "      <td>IVD</td>\n",
       "      <td>STAT</td>\n",
       "      <td>1.0</td>\n",
       "      <td>2021-12-02 01:41</td>\n",
       "      <td>2021-12-02 01:41</td>\n",
       "      <td>釋液:NS;總量:50mL;時間:30分;流速:100mL/hr; Type B disse...</td>\n",
       "      <td>1</td>\n",
       "      <td>1</td>\n",
       "      <td>Staphylococcus aureus</td>\n",
       "    </tr>\n",
       "    <tr>\n",
       "      <th>21280</th>\n",
       "      <td>0037886792</td>\n",
       "      <td>住院</td>\n",
       "      <td>231737615</td>\n",
       "      <td>393924901</td>\n",
       "      <td>[嗜氧] Staphylococcus aureus(MRSA) (Gram Positiv...</td>\n",
       "      <td>SCO</td>\n",
       "      <td>1.0</td>\n",
       "      <td>2021-12-30 13:02</td>\n",
       "      <td>2022-01-04 10:01</td>\n",
       "      <td>2022-01-03 08:50</td>\n",
       "      <td>...</td>\n",
       "      <td>2.5</td>\n",
       "      <td>IVD</td>\n",
       "      <td>STAT</td>\n",
       "      <td>1.0</td>\n",
       "      <td>2021-12-06 17:19</td>\n",
       "      <td>2021-12-06 17:19</td>\n",
       "      <td>釋液:NS;總量:30mL;時間:30分;流速:60mL/hr;for fever</td>\n",
       "      <td>1</td>\n",
       "      <td>1</td>\n",
       "      <td>Staphylococcus aureus</td>\n",
       "    </tr>\n",
       "    <tr>\n",
       "      <th>21281</th>\n",
       "      <td>0037886792</td>\n",
       "      <td>住院</td>\n",
       "      <td>231737615</td>\n",
       "      <td>393924901</td>\n",
       "      <td>[嗜氧] Staphylococcus aureus(MRSA) (Gram Positiv...</td>\n",
       "      <td>SCO</td>\n",
       "      <td>1.0</td>\n",
       "      <td>2021-12-30 13:02</td>\n",
       "      <td>2022-01-04 10:01</td>\n",
       "      <td>2022-01-03 08:50</td>\n",
       "      <td>...</td>\n",
       "      <td>1.0</td>\n",
       "      <td>IVD</td>\n",
       "      <td>STAT</td>\n",
       "      <td>1.0</td>\n",
       "      <td>2021-12-10 10:25</td>\n",
       "      <td>2021-12-10 10:25</td>\n",
       "      <td>釋液:不稀釋;總量:150mL;時間:90分;流速:100mL/hr;supect pneu...</td>\n",
       "      <td>1</td>\n",
       "      <td>1</td>\n",
       "      <td>Staphylococcus aureus</td>\n",
       "    </tr>\n",
       "    <tr>\n",
       "      <th>21282</th>\n",
       "      <td>0037886792</td>\n",
       "      <td>住院</td>\n",
       "      <td>231737615</td>\n",
       "      <td>393924901</td>\n",
       "      <td>[嗜氧] Staphylococcus aureus(MRSA) (Gram Positiv...</td>\n",
       "      <td>SCO</td>\n",
       "      <td>1.0</td>\n",
       "      <td>2021-12-30 13:02</td>\n",
       "      <td>2022-01-04 10:01</td>\n",
       "      <td>2022-01-03 08:50</td>\n",
       "      <td>...</td>\n",
       "      <td>2.5</td>\n",
       "      <td>IVD</td>\n",
       "      <td>STAT</td>\n",
       "      <td>1.0</td>\n",
       "      <td>2021-12-21 12:17</td>\n",
       "      <td>2021-12-21 12:17</td>\n",
       "      <td>釋液:NS;總量:30mL;時間:30分;流速:60mL/hr;Type B aortic ...</td>\n",
       "      <td>1</td>\n",
       "      <td>1</td>\n",
       "      <td>Staphylococcus aureus</td>\n",
       "    </tr>\n",
       "  </tbody>\n",
       "</table>\n",
       "<p>5 rows × 33 columns</p>\n",
       "</div>"
      ],
      "text/plain": [
       "             病歷號碼 bed       就醫序號       申請編號  \\\n",
       "21278  0037886792  住院  231737615  393924901   \n",
       "21279  0037886792  住院  231737615  393924901   \n",
       "21280  0037886792  住院  231737615  393924901   \n",
       "21281  0037886792  住院  231737615  393924901   \n",
       "21282  0037886792  住院  231737615  393924901   \n",
       "\n",
       "                                                  strain   部位  抗藥性菌株  \\\n",
       "21278  [嗜氧] Staphylococcus aureus(MRSA) (Gram Positiv...  SCO    1.0   \n",
       "21279  [嗜氧] Staphylococcus aureus(MRSA) (Gram Positiv...  SCO    1.0   \n",
       "21280  [嗜氧] Staphylococcus aureus(MRSA) (Gram Positiv...  SCO    1.0   \n",
       "21281  [嗜氧] Staphylococcus aureus(MRSA) (Gram Positiv...  SCO    1.0   \n",
       "21282  [嗜氧] Staphylococcus aureus(MRSA) (Gram Positiv...  SCO    1.0   \n",
       "\n",
       "               examTime        reportTime          openTime  ...  每次量   途徑  \\\n",
       "21278  2021-12-30 13:02  2022-01-04 10:01  2022-01-03 08:50  ...  1.0  IVD   \n",
       "21279  2021-12-30 13:02  2022-01-04 10:01  2022-01-03 08:50  ...  1.0  IVD   \n",
       "21280  2021-12-30 13:02  2022-01-04 10:01  2022-01-03 08:50  ...  2.5  IVD   \n",
       "21281  2021-12-30 13:02  2022-01-04 10:01  2022-01-03 08:50  ...  1.0  IVD   \n",
       "21282  2021-12-30 13:02  2022-01-04 10:01  2022-01-03 08:50  ...  2.5  IVD   \n",
       "\n",
       "         頻率 使用天數              開始時間              截止時間  \\\n",
       "21278  STAT  1.0  2021-12-02 00:17  2021-12-02 00:17   \n",
       "21279  STAT  1.0  2021-12-02 01:41  2021-12-02 01:41   \n",
       "21280  STAT  1.0  2021-12-06 17:19  2021-12-06 17:19   \n",
       "21281  STAT  1.0  2021-12-10 10:25  2021-12-10 10:25   \n",
       "21282  STAT  1.0  2021-12-21 12:17  2021-12-21 12:17   \n",
       "\n",
       "                                                      囑咐 SA_pred  SA_actual  \\\n",
       "21278                                                NaN       1          1   \n",
       "21279  釋液:NS;總量:50mL;時間:30分;流速:100mL/hr; Type B disse...       1          1   \n",
       "21280          釋液:NS;總量:30mL;時間:30分;流速:60mL/hr;for fever       1          1   \n",
       "21281  釋液:不稀釋;總量:150mL;時間:90分;流速:100mL/hr;supect pneu...       1          1   \n",
       "21282  釋液:NS;總量:30mL;時間:30分;流速:60mL/hr;Type B aortic ...       1          1   \n",
       "\n",
       "                       Group  \n",
       "21278  Staphylococcus aureus  \n",
       "21279  Staphylococcus aureus  \n",
       "21280  Staphylococcus aureus  \n",
       "21281  Staphylococcus aureus  \n",
       "21282  Staphylococcus aureus  \n",
       "\n",
       "[5 rows x 33 columns]"
      ]
     },
     "execution_count": 31,
     "metadata": {},
     "output_type": "execute_result"
    }
   ],
   "source": [
    "C_pred = [(SA['菌株'] == 'Staphylococcus aureus'), (SA['菌株'] == 'Staphylococcus aureus(MRSA)')]\n",
    "V_pred = [0, 1]\n",
    "\n",
    "C_act = [(SA['抗藥性菌株']!=1), (SA['抗藥性菌株']==1)]\n",
    "V_act = [0, 1]\n",
    "\n",
    "SA['SA_pred'] = np.select(C_pred, V_pred)\n",
    "SA['SA_actual'] = np.select(C_act, V_act)\n",
    "SA['Group'] = 'Staphylococcus aureus'\n",
    "SA.head()"
   ]
  },
  {
   "cell_type": "code",
   "execution_count": 42,
   "metadata": {},
   "outputs": [
    {
     "name": "stdout",
     "output_type": "stream",
     "text": [
      "Staphylococcus aureus_Predicted    0    1\n",
      "Staphylococcus aureus_Actual             \n",
      "0                                162    0\n",
      "1                                441  163\n"
     ]
    },
    {
     "data": {
      "image/png": "[encoded data removed]",
      "text/plain": [
       "<Figure size 504x504 with 2 Axes>"
      ]
     },
     "metadata": {
      "needs_background": "light"
     },
     "output_type": "display_data"
    }
   ],
   "source": [
    "confusion_matrix_SA = pd.crosstab(SA['SA_actual'], SA['SA_pred'], rownames=['Staphylococcus aureus_Actual'], colnames=['Staphylococcus aureus_Predicted'])\n",
    "print (confusion_matrix_SA)\n",
    "\n",
    "plt.figure(figsize=(7,7))\n",
    "sn.heatmap(confusion_matrix_SA, annot=True, fmt='d', linewidths=1.5)\n",
    "plt.show()"
   ]
  },
  {
   "cell_type": "code",
   "execution_count": null,
   "metadata": {},
   "outputs": [],
   "source": []
  }
 ],
 "metadata": {
  "interpreter": {
   "hash": "5c0372ed38b372118c24adb00d45654d76c8d10261533c5724e3f5fc1d75489a"
  },
  "kernelspec": {
   "display_name": "Python 3.8.6 64-bit",
   "language": "python",
   "name": "python3"
  },
  "language_info": {
   "codemirror_mode": {
    "name": "ipython",
    "version": 3
   },
   "file_extension": ".py",
   "mimetype": "text/x-python",
   "name": "python",
   "nbconvert_exporter": "python",
   "pygments_lexer": "ipython3",
   "version": "3.8.6"
  },
  "orig_nbformat": 4
 },
 "nbformat": 4,
 "nbformat_minor": 2
}
