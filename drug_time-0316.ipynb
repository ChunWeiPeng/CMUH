{
 "cells": [
  {
   "cell_type": "code",
   "execution_count": 35,
   "metadata": {},
   "outputs": [],
   "source": [
    "import pandas as pd\n",
    "from datetime import timedelta\n",
    "import numpy as np"
   ]
  },
  {
   "cell_type": "code",
   "execution_count": 53,
   "metadata": {},
   "outputs": [],
   "source": [
    "drug = pd.read_csv(r\"C:\\Users\\cmuh1\\VSCode\\jupter\\warfarin_Source\\warfarin_Drug.csv\")\n",
    "database = pd.read_excel(r'C:\\Users\\cmuh1\\VSCode\\warfarin總表-0311(第七版).xlsx')"
   ]
  },
  {
   "cell_type": "code",
   "execution_count": 54,
   "metadata": {},
   "outputs": [],
   "source": [
    "drug['OrderTime1'] = pd.to_datetime(drug['OrderTime']).dt.date\n",
    "drug['EndTime1'] = pd.to_datetime(drug['EndTime']).dt.date\n",
    "drug['OrderTime_min'] = drug.groupby('PatientNo')['OrderTime1'].transform(min)"
   ]
  },
  {
   "cell_type": "code",
   "execution_count": 55,
   "metadata": {},
   "outputs": [],
   "source": [
    "drug['MedCode'] = drug['MedCode'].str.strip()\n",
    "conditions=[(drug.MedCode == 'TCOUMAD'),\n",
    " (drug.MedCode == 'TWARFA1'),\n",
    " (drug.MedCode == 'TWARFA11'),\n",
    " (drug.MedCode == 'TWARFA12'),\n",
    " (drug.MedCode == 'TWARFAR'),\n",
    " (drug.MedCode == 'TWARFAR1'),\n",
    " (drug.MedCode == 'TWARFAR2'),\n",
    " ]\n",
    "values = [ 5 , 1 , 1, 1, 5, 5, 5]\n",
    "\n",
    "drug['Dose(mg/tab)'] = np.select(conditions,values)\n",
    "drug['Dose(mg/tab)'] = drug['Dose(mg/tab)'].multiply(drug['Dosage'])"
   ]
  },
  {
   "cell_type": "code",
   "execution_count": 57,
   "metadata": {},
   "outputs": [],
   "source": [
    "drug['timediff'] = drug['EndTime1'] - drug['OrderTime_min']\n",
    "drug['drug_day'] = drug['EndTime1'] - drug['OrderTime1']\n",
    "# drug['drug_day1'] = np.where(drug.UsageNo == 9000 , pd.Timedelta(days=1) , drug.drug_day.dt.days )\n",
    "drug = drug[drug['timediff'] <timedelta(days=180)]\n"
   ]
  },
  {
   "cell_type": "code",
   "execution_count": 59,
   "metadata": {},
   "outputs": [],
   "source": [
    "OrderNo = pd.DataFrame(database.OrderNo)\n",
    "OrderNo['OrderNo1'] = OrderNo.OrderNo"
   ]
  },
  {
   "cell_type": "code",
   "execution_count": 60,
   "metadata": {},
   "outputs": [],
   "source": [
    "drug = pd.merge(drug , OrderNo,how='left' , on='OrderNo')"
   ]
  },
  {
   "cell_type": "code",
   "execution_count": null,
   "metadata": {},
   "outputs": [],
   "source": [
    "drug['OrderTime_min5'] = drug.OrderTime_min +timedelta(days=5)\n",
    "drug['OrderTime_min7'] = drug.OrderTime_min +timedelta(days=7)\n",
    "drug['OrderTime_min14'] = drug.OrderTime_min +timedelta(days=14)\n",
    "drug['OrderTime_min30'] = drug.OrderTime_min +timedelta(days=30)\n",
    "drug['OrderTime_min60'] = drug.OrderTime_min +timedelta(days=60)\n",
    "drug['OrderTime_min90'] = drug.OrderTime_min +timedelta(days=90)\n",
    "drug"
   ]
  },
  {
   "cell_type": "code",
   "execution_count": 68,
   "metadata": {},
   "outputs": [],
   "source": [
    "drug5 = drug[drug.OrderTime1 <= drug.OrderTime_min5]\n",
    "drug5 = drug5.drop(columns=['OrderTime_min7','OrderTime_min14','OrderTime_min30','OrderTime_min60','OrderTime_min90'])\n",
    "drug7 = drug[drug.OrderTime1 <= drug.OrderTime_min7]\n",
    "drug7 = drug7.drop(columns=['OrderTime_min5','OrderTime_min14','OrderTime_min30','OrderTime_min60','OrderTime_min90'])\n",
    "drug14 = drug[drug.OrderTime1 <= drug.OrderTime_min14]\n",
    "drug14 = drug14.drop(columns=['OrderTime_min5','OrderTime_min7','OrderTime_min30','OrderTime_min60','OrderTime_min90'])\n",
    "drug30 = drug[drug.OrderTime1 <= drug.OrderTime_min30]\n",
    "drug30 = drug30.drop(columns=['OrderTime_min5','OrderTime_min7','OrderTime_min14','OrderTime_min60','OrderTime_min90'])\n",
    "drug60 = drug[drug.OrderTime1 <= drug.OrderTime_min60]\n",
    "drug60 = drug60.drop(columns=['OrderTime_min5','OrderTime_min7','OrderTime_min14','OrderTime_min30','OrderTime_min90'])\n",
    "drug90 = drug[drug.OrderTime1 <= drug.OrderTime_min90]\n",
    "drug90 = drug90.drop(columns=['OrderTime_min5','OrderTime_min7','OrderTime_min14','OrderTime_min30','OrderTime_min60'])"
   ]
  },
  {
   "cell_type": "code",
   "execution_count": 70,
   "metadata": {},
   "outputs": [],
   "source": [
    "drug5 = drug5.sort_values(['PatientNo','OrderTime'])\n",
    "drug5['OrderTime'] = pd.to_datetime(drug5['OrderTime'])\n",
    "drug5['OrderTime_diff'] = drug5.groupby('PatientNo')['OrderTime1'].diff().fillna(pd.Timedelta(0))\n",
    "drug5['sameday'] = drug5.groupby(['PatientNo', 'OrderTime1','OrderTime_diff'])['OrderTime'].transform('max')\n",
    "drug5 = drug5[drug5['OrderTime'] == drug5.sameday]\n",
    "drug5 = drug5.drop_duplicates()\n",
    "\n",
    "drug5['drug_day'] = np.where(drug5.UsageNo == 9000 , 1 , drug5.drug_day.dt.days )\n",
    "drug5['Sum_Dose'] = np.where(drug5['EndTime1']<=drug5['OrderTime_min5'], drug5['Dose(mg/tab)']*drug5['drug_day'],\n",
    "                              (pd.to_numeric((drug5['OrderTime_min5']-drug5['OrderTime1']).dt.days, downcast='integer'))*drug5['Dose(mg/tab)'])\n",
    "\n",
    "# 5天平均劑量\n",
    "Dose_mean5 = drug5.groupby('PatientNo')['Sum_Dose'].sum()/5"
   ]
  },
  {
   "cell_type": "code",
   "execution_count": 71,
   "metadata": {},
   "outputs": [],
   "source": [
    "drug7 = drug7.sort_values(['PatientNo','OrderTime'])\n",
    "drug7['OrderTime'] = pd.to_datetime(drug7['OrderTime'])\n",
    "drug7['OrderTime_diff'] = drug7.groupby('PatientNo')['OrderTime1'].diff().fillna(pd.Timedelta(0))\n",
    "drug7['sameday'] = drug7.groupby(['PatientNo', 'OrderTime1','OrderTime_diff'])['OrderTime'].transform('max')\n",
    "drug7 = drug7[drug7['OrderTime'] == drug7.sameday]\n",
    "drug7 = drug7.drop_duplicates()\n",
    "\n",
    "drug7['drug_day'] = np.where(drug7.UsageNo == 9000 , 1 , drug7.drug_day.dt.days )\n",
    "drug7['Sum_Dose'] = np.where(drug7['EndTime1']<=drug7['OrderTime_min7'], drug7['Dose(mg/tab)']*drug7['drug_day'],\n",
    "                              (pd.to_numeric((drug7['OrderTime_min7']-drug7['OrderTime1']).dt.days, downcast='integer'))*drug7['Dose(mg/tab)'])\n",
    "\n",
    "# 7天平均劑量\n",
    "Dose_mean7 = drug7.groupby('PatientNo')['Sum_Dose'].sum()/7"
   ]
  },
  {
   "cell_type": "code",
   "execution_count": 72,
   "metadata": {},
   "outputs": [],
   "source": [
    "drug14 = drug14.sort_values(['PatientNo','OrderTime'])\n",
    "drug14['OrderTime'] = pd.to_datetime(drug14['OrderTime'])\n",
    "drug14['OrderTime_diff'] = drug14.groupby('PatientNo')['OrderTime1'].diff().fillna(pd.Timedelta(0))\n",
    "drug14['sameday'] = drug14.groupby(['PatientNo', 'OrderTime1','OrderTime_diff'])['OrderTime'].transform('max')\n",
    "drug14 = drug14[drug14['OrderTime'] == drug14.sameday]\n",
    "drug14 = drug14.drop_duplicates()\n",
    "\n",
    "drug14['drug_day'] = np.where(drug14.UsageNo == 9000 , 1 , drug14.drug_day.dt.days )\n",
    "drug14['Sum_Dose'] = np.where(drug14['EndTime1']<=drug14['OrderTime_min14'], drug14['Dose(mg/tab)']*drug14['drug_day'],\n",
    "                              (pd.to_numeric((drug14['OrderTime_min14']-drug14['OrderTime1']).dt.days, downcast='integer'))*drug14['Dose(mg/tab)'])\n",
    "\n",
    "# 14天平均劑量\n",
    "Dose_mean14 = drug14.groupby('PatientNo')['Sum_Dose'].sum()/14"
   ]
  },
  {
   "cell_type": "code",
   "execution_count": 73,
   "metadata": {},
   "outputs": [],
   "source": [
    "drug30 = drug30.sort_values(['PatientNo','OrderTime'])\n",
    "drug30['OrderTime'] = pd.to_datetime(drug30['OrderTime'])\n",
    "drug30['OrderTime_diff'] = drug30.groupby('PatientNo')['OrderTime1'].diff().fillna(pd.Timedelta(0))\n",
    "drug30['sameday'] = drug30.groupby(['PatientNo', 'OrderTime1','OrderTime_diff'])['OrderTime'].transform('max')\n",
    "drug30 = drug30[drug30['OrderTime'] == drug30.sameday]\n",
    "drug30 = drug30.drop_duplicates()\n",
    "\n",
    "drug30['drug_day'] = np.where(drug30.UsageNo == 9000 , 1 , drug30.drug_day.dt.days )\n",
    "drug30['Sum_Dose'] = np.where(drug30['EndTime1']<=drug30['OrderTime_min30'], drug30['Dose(mg/tab)']*drug30['drug_day'],\n",
    "                              (pd.to_numeric((drug30['OrderTime_min30']-drug30['OrderTime1']).dt.days, downcast='integer'))*drug30['Dose(mg/tab)'])\n",
    "\n",
    "# 30天平均劑量\n",
    "Dose_mean30 = drug30.groupby('PatientNo')['Sum_Dose'].sum()/30\n",
    "\n"
   ]
  },
  {
   "cell_type": "code",
   "execution_count": 74,
   "metadata": {},
   "outputs": [],
   "source": [
    "drug60 = drug60.sort_values(['PatientNo','OrderTime'])\n",
    "drug60['OrderTime'] = pd.to_datetime(drug60['OrderTime'])\n",
    "drug60['OrderTime_diff'] = drug60.groupby('PatientNo')['OrderTime1'].diff().fillna(pd.Timedelta(0))\n",
    "drug60['sameday'] = drug60.groupby(['PatientNo', 'OrderTime1','OrderTime_diff'])['OrderTime'].transform('max')\n",
    "drug60 = drug60[drug60['OrderTime'] == drug60.sameday]\n",
    "drug60 = drug60.drop_duplicates()\n",
    "\n",
    "drug60['drug_day'] = np.where(drug60.UsageNo == 9000 , 1 , drug60.drug_day.dt.days )\n",
    "drug60['Sum_Dose'] = np.where(drug60['EndTime1']<=drug60['OrderTime_min60'], drug60['Dose(mg/tab)']*drug60['drug_day'],\n",
    "                              (pd.to_numeric((drug60['OrderTime_min60']-drug60['OrderTime1']).dt.days, downcast='integer'))*drug60['Dose(mg/tab)'])\n",
    "\n",
    "# 60天平均劑量\n",
    "Dose_mean60 = drug60.groupby('PatientNo')['Sum_Dose'].sum()/60"
   ]
  },
  {
   "cell_type": "code",
   "execution_count": 75,
   "metadata": {},
   "outputs": [],
   "source": [
    "drug90 = drug90.sort_values(['PatientNo','OrderTime'])\n",
    "drug90['OrderTime'] = pd.to_datetime(drug90['OrderTime'])\n",
    "drug90['OrderTime_diff'] = drug90.groupby('PatientNo')['OrderTime1'].diff().fillna(pd.Timedelta(0))\n",
    "drug90['sameday'] = drug90.groupby(['PatientNo', 'OrderTime1','OrderTime_diff'])['OrderTime'].transform('max')\n",
    "drug90 = drug90[drug90['OrderTime'] == drug90.sameday]\n",
    "drug90 = drug90.drop_duplicates()\n",
    "\n",
    "drug90['drug_day'] = np.where(drug90.UsageNo == 9000 , 1 , drug90.drug_day.dt.days )\n",
    "drug90['Sum_Dose'] = np.where(drug90['EndTime1']<=drug90['OrderTime_min90'], drug90['Dose(mg/tab)']*drug90['drug_day'],\n",
    "                              (pd.to_numeric((drug90['OrderTime_min90']-drug90['OrderTime1']).dt.days, downcast='integer'))*drug90['Dose(mg/tab)'])\n",
    "\n",
    "# 90天平均劑量\n",
    "Dose_mean90 = drug90.groupby('PatientNo')['Sum_Dose'].sum()/90"
   ]
  },
  {
   "cell_type": "code",
   "execution_count": 77,
   "metadata": {},
   "outputs": [
    {
     "data": {
      "text/plain": [
       "PatientNo\n",
       "100000000498    2.5\n",
       "100000001159    1.6\n",
       "100000001395    4.0\n",
       "100000001714    2.5\n",
       "100000002675    2.5\n",
       "               ... \n",
       "100035861165    1.4\n",
       "100035863490    1.8\n",
       "100035892222    2.0\n",
       "100035901923    0.5\n",
       "100036202057    5.0\n",
       "Name: Sum_Dose, Length: 2613, dtype: float64"
      ]
     },
     "execution_count": 77,
     "metadata": {},
     "output_type": "execute_result"
    }
   ],
   "source": [
    "Dose_mean5"
   ]
  },
  {
   "cell_type": "code",
   "execution_count": 78,
   "metadata": {},
   "outputs": [
    {
     "data": {
      "text/plain": [
       "PatientNo\n",
       "100000000498    2.500000\n",
       "100000001159    2.571429\n",
       "100000001395    4.285714\n",
       "100000001714    2.500000\n",
       "100000002675    2.500000\n",
       "                  ...   \n",
       "100035861165    1.642857\n",
       "100035863490    1.785714\n",
       "100035892222    2.000000\n",
       "100035901923    0.357143\n",
       "100036202057    5.000000\n",
       "Name: Sum_Dose, Length: 2613, dtype: float64"
      ]
     },
     "execution_count": 78,
     "metadata": {},
     "output_type": "execute_result"
    }
   ],
   "source": [
    "Dose_mean7"
   ]
  },
  {
   "cell_type": "code",
   "execution_count": 79,
   "metadata": {},
   "outputs": [
    {
     "data": {
      "text/plain": [
       "PatientNo\n",
       "100000000498    2.500000\n",
       "100000001159    4.428571\n",
       "100000001395    4.107143\n",
       "100000001714    2.142857\n",
       "100000002675    2.500000\n",
       "                  ...   \n",
       "100035861165    2.785714\n",
       "100035863490    1.892857\n",
       "100035892222    1.571429\n",
       "100035901923    0.178571\n",
       "100036202057    2.500000\n",
       "Name: Sum_Dose, Length: 2613, dtype: float64"
      ]
     },
     "execution_count": 79,
     "metadata": {},
     "output_type": "execute_result"
    }
   ],
   "source": [
    "Dose_mean14"
   ]
  },
  {
   "cell_type": "code",
   "execution_count": 80,
   "metadata": {},
   "outputs": [
    {
     "data": {
      "text/plain": [
       "PatientNo\n",
       "100000000498    2.500000\n",
       "100000001159    6.333333\n",
       "100000001395    3.250000\n",
       "100000001714    1.000000\n",
       "100000002675    1.333333\n",
       "                  ...   \n",
       "100035861165    4.466667\n",
       "100035863490    3.150000\n",
       "100035892222    0.733333\n",
       "100035901923    0.083333\n",
       "100036202057    1.166667\n",
       "Name: Sum_Dose, Length: 2613, dtype: float64"
      ]
     },
     "execution_count": 80,
     "metadata": {},
     "output_type": "execute_result"
    }
   ],
   "source": [
    "Dose_mean30"
   ]
  },
  {
   "cell_type": "code",
   "execution_count": 81,
   "metadata": {},
   "outputs": [
    {
     "data": {
      "text/plain": [
       "PatientNo\n",
       "100000000498    2.500000\n",
       "100000001159    5.616667\n",
       "100000001395    2.875000\n",
       "100000001714    0.500000\n",
       "100000002675    1.916667\n",
       "                  ...   \n",
       "100035861165    2.233333\n",
       "100035863490    1.575000\n",
       "100035892222    0.366667\n",
       "100035901923    0.041667\n",
       "100036202057    0.583333\n",
       "Name: Sum_Dose, Length: 2613, dtype: float64"
      ]
     },
     "execution_count": 81,
     "metadata": {},
     "output_type": "execute_result"
    }
   ],
   "source": [
    "Dose_mean60"
   ]
  },
  {
   "cell_type": "code",
   "execution_count": 82,
   "metadata": {},
   "outputs": [
    {
     "data": {
      "text/plain": [
       "PatientNo\n",
       "100000000498    2.500000\n",
       "100000001159    3.744444\n",
       "100000001395    2.750000\n",
       "100000001714    0.333333\n",
       "100000002675    2.111111\n",
       "                  ...   \n",
       "100035861165    1.488889\n",
       "100035863490    1.050000\n",
       "100035892222    0.244444\n",
       "100035901923    0.027778\n",
       "100036202057    0.388889\n",
       "Name: Sum_Dose, Length: 2613, dtype: float64"
      ]
     },
     "execution_count": 82,
     "metadata": {},
     "output_type": "execute_result"
    }
   ],
   "source": [
    "Dose_mean90"
   ]
  },
  {
   "cell_type": "code",
   "execution_count": 90,
   "metadata": {},
   "outputs": [],
   "source": [
    "Dose_all = pd.merge(Dose_mean5 , Dose_mean7 , how='left' ,on='PatientNo')\n",
    "Dose_all = Dose_all.rename(columns={'Sum_Dose_x':'Dose_mean5' ,'Sum_Dose_y':'Dose_mean7' })\n",
    "Dose_all = pd.merge(Dose_all , Dose_mean14 , how='left' ,on='PatientNo')\n",
    "Dose_all = Dose_all.rename(columns={'Sum_Dose':'Dose_mean14' })\n",
    "Dose_all = pd.merge(Dose_all , Dose_mean30 , how='left' ,on='PatientNo')\n",
    "Dose_all = Dose_all.rename(columns={'Sum_Dose':'Dose_mean30' })\n",
    "Dose_all = pd.merge(Dose_all , Dose_mean60 , how='left' ,on='PatientNo')\n",
    "Dose_all = Dose_all.rename(columns={'Sum_Dose':'Dose_mean60' })\n",
    "Dose_all = pd.merge(Dose_all , Dose_mean90 , how='left' ,on='PatientNo')\n",
    "Dose_all = Dose_all.rename(columns={'Sum_Dose':'Dose_mean90' })\n",
    "Dose_all.to_excel(r'C:\\Users\\cmuh1\\VSCode\\Dose_mean.xlsx')"
   ]
  },
  {
   "cell_type": "code",
   "execution_count": 89,
   "metadata": {},
   "outputs": [
    {
     "data": {
      "text/html": [
       "<div>\n",
       "<style scoped>\n",
       "    .dataframe tbody tr th:only-of-type {\n",
       "        vertical-align: middle;\n",
       "    }\n",
       "\n",
       "    .dataframe tbody tr th {\n",
       "        vertical-align: top;\n",
       "    }\n",
       "\n",
       "    .dataframe thead th {\n",
       "        text-align: right;\n",
       "    }\n",
       "</style>\n",
       "<table border=\"1\" class=\"dataframe\">\n",
       "  <thead>\n",
       "    <tr style=\"text-align: right;\">\n",
       "      <th></th>\n",
       "      <th>Sum_Dose</th>\n",
       "      <th>Sum_Dose</th>\n",
       "      <th>Sum_Dose</th>\n",
       "      <th>Sum_Dose</th>\n",
       "      <th>Sum_Dose</th>\n",
       "      <th>Sum_Dose</th>\n",
       "    </tr>\n",
       "    <tr>\n",
       "      <th>PatientNo</th>\n",
       "      <th></th>\n",
       "      <th></th>\n",
       "      <th></th>\n",
       "      <th></th>\n",
       "      <th></th>\n",
       "      <th></th>\n",
       "    </tr>\n",
       "  </thead>\n",
       "  <tbody>\n",
       "    <tr>\n",
       "      <th>100000000498</th>\n",
       "      <td>2.5</td>\n",
       "      <td>2.500000</td>\n",
       "      <td>2.500000</td>\n",
       "      <td>2.500000</td>\n",
       "      <td>2.500000</td>\n",
       "      <td>2.500000</td>\n",
       "    </tr>\n",
       "    <tr>\n",
       "      <th>100000001159</th>\n",
       "      <td>1.6</td>\n",
       "      <td>2.571429</td>\n",
       "      <td>4.428571</td>\n",
       "      <td>6.333333</td>\n",
       "      <td>5.616667</td>\n",
       "      <td>3.744444</td>\n",
       "    </tr>\n",
       "    <tr>\n",
       "      <th>100000001395</th>\n",
       "      <td>4.0</td>\n",
       "      <td>4.285714</td>\n",
       "      <td>4.107143</td>\n",
       "      <td>3.250000</td>\n",
       "      <td>2.875000</td>\n",
       "      <td>2.750000</td>\n",
       "    </tr>\n",
       "    <tr>\n",
       "      <th>100000001714</th>\n",
       "      <td>2.5</td>\n",
       "      <td>2.500000</td>\n",
       "      <td>2.142857</td>\n",
       "      <td>1.000000</td>\n",
       "      <td>0.500000</td>\n",
       "      <td>0.333333</td>\n",
       "    </tr>\n",
       "    <tr>\n",
       "      <th>100000002675</th>\n",
       "      <td>2.5</td>\n",
       "      <td>2.500000</td>\n",
       "      <td>2.500000</td>\n",
       "      <td>1.333333</td>\n",
       "      <td>1.916667</td>\n",
       "      <td>2.111111</td>\n",
       "    </tr>\n",
       "    <tr>\n",
       "      <th>...</th>\n",
       "      <td>...</td>\n",
       "      <td>...</td>\n",
       "      <td>...</td>\n",
       "      <td>...</td>\n",
       "      <td>...</td>\n",
       "      <td>...</td>\n",
       "    </tr>\n",
       "    <tr>\n",
       "      <th>100035861165</th>\n",
       "      <td>1.4</td>\n",
       "      <td>1.642857</td>\n",
       "      <td>2.785714</td>\n",
       "      <td>4.466667</td>\n",
       "      <td>2.233333</td>\n",
       "      <td>1.488889</td>\n",
       "    </tr>\n",
       "    <tr>\n",
       "      <th>100035863490</th>\n",
       "      <td>1.8</td>\n",
       "      <td>1.785714</td>\n",
       "      <td>1.892857</td>\n",
       "      <td>3.150000</td>\n",
       "      <td>1.575000</td>\n",
       "      <td>1.050000</td>\n",
       "    </tr>\n",
       "    <tr>\n",
       "      <th>100035892222</th>\n",
       "      <td>2.0</td>\n",
       "      <td>2.000000</td>\n",
       "      <td>1.571429</td>\n",
       "      <td>0.733333</td>\n",
       "      <td>0.366667</td>\n",
       "      <td>0.244444</td>\n",
       "    </tr>\n",
       "    <tr>\n",
       "      <th>100035901923</th>\n",
       "      <td>0.5</td>\n",
       "      <td>0.357143</td>\n",
       "      <td>0.178571</td>\n",
       "      <td>0.083333</td>\n",
       "      <td>0.041667</td>\n",
       "      <td>0.027778</td>\n",
       "    </tr>\n",
       "    <tr>\n",
       "      <th>100036202057</th>\n",
       "      <td>5.0</td>\n",
       "      <td>5.000000</td>\n",
       "      <td>2.500000</td>\n",
       "      <td>1.166667</td>\n",
       "      <td>0.583333</td>\n",
       "      <td>0.388889</td>\n",
       "    </tr>\n",
       "  </tbody>\n",
       "</table>\n",
       "<p>2613 rows × 6 columns</p>\n",
       "</div>"
      ],
      "text/plain": [
       "              Sum_Dose  Sum_Dose  Sum_Dose  Sum_Dose  Sum_Dose  Sum_Dose\n",
       "PatientNo                                                               \n",
       "100000000498       2.5  2.500000  2.500000  2.500000  2.500000  2.500000\n",
       "100000001159       1.6  2.571429  4.428571  6.333333  5.616667  3.744444\n",
       "100000001395       4.0  4.285714  4.107143  3.250000  2.875000  2.750000\n",
       "100000001714       2.5  2.500000  2.142857  1.000000  0.500000  0.333333\n",
       "100000002675       2.5  2.500000  2.500000  1.333333  1.916667  2.111111\n",
       "...                ...       ...       ...       ...       ...       ...\n",
       "100035861165       1.4  1.642857  2.785714  4.466667  2.233333  1.488889\n",
       "100035863490       1.8  1.785714  1.892857  3.150000  1.575000  1.050000\n",
       "100035892222       2.0  2.000000  1.571429  0.733333  0.366667  0.244444\n",
       "100035901923       0.5  0.357143  0.178571  0.083333  0.041667  0.027778\n",
       "100036202057       5.0  5.000000  2.500000  1.166667  0.583333  0.388889\n",
       "\n",
       "[2613 rows x 6 columns]"
      ]
     },
     "execution_count": 89,
     "metadata": {},
     "output_type": "execute_result"
    }
   ],
   "source": [
    "dose_mean = [Dose_mean5, Dose_mean7, Dose_mean14, Dose_mean30, Dose_mean60, Dose_mean90]\n",
    "\n",
    "Dose = pd.concat(dose_mean, join='inner', axis=1)\n",
    "Dose"
   ]
  },
  {
   "cell_type": "code",
   "execution_count": null,
   "metadata": {},
   "outputs": [],
   "source": []
  }
 ],
 "metadata": {
  "interpreter": {
   "hash": "9acb7004a10c97e33ab343a8c6c6aa5c74282ca17114d3ff8f57ddc61a7295eb"
  },
  "kernelspec": {
   "display_name": "Python 3.10.2 64-bit",
   "language": "python",
   "name": "python3"
  },
  "language_info": {
   "codemirror_mode": {
    "name": "ipython",
    "version": 3
   },
   "file_extension": ".py",
   "mimetype": "text/x-python",
   "name": "python",
   "nbconvert_exporter": "python",
   "pygments_lexer": "ipython3",
   "version": "3.10.2"
  },
  "orig_nbformat": 4
 },
 "nbformat": 4,
 "nbformat_minor": 2
}
